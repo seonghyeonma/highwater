{
 "cells": [
  {
   "cell_type": "code",
   "execution_count": null,
   "id": "259135a6",
   "metadata": {},
   "outputs": [],
   "source": [
    "import pandas as pd\n",
    "import numpy as np \n",
    "\n",
    "loan = pd.read_csv('loan_result_clean.csv')\n",
    "user = pd.read_csv('user_spec_clean.csv')\n",
    "log= pd.read_csv('data/log_data.csv')"
   ]
  },
  {
   "cell_type": "code",
   "execution_count": null,
   "id": "40d33ce7",
   "metadata": {
    "scrolled": true
   },
   "outputs": [],
   "source": [
    "user = user.drop('Unnamed: 0', axis = 1)\n",
    "user.head(5)"
   ]
  },
  {
   "cell_type": "code",
   "execution_count": null,
   "id": "b11c961a",
   "metadata": {
    "scrolled": true
   },
   "outputs": [],
   "source": [
    "loan = loan.drop('Unnamed: 0', axis = 1)\n",
    "loan.head(5)"
   ]
  },
  {
   "cell_type": "code",
   "execution_count": null,
   "id": "7c42cbd0",
   "metadata": {
    "scrolled": true
   },
   "outputs": [],
   "source": [
    "log.head(5)"
   ]
  },
  {
   "cell_type": "code",
   "execution_count": null,
   "id": "3bf7b893",
   "metadata": {
    "scrolled": true
   },
   "outputs": [],
   "source": [
    "user[user['yearly_income'].isnull()]"
   ]
  },
  {
   "cell_type": "code",
   "execution_count": null,
   "id": "9056b0a2",
   "metadata": {},
   "outputs": [],
   "source": [
    "# user_spec 과 train 조인\n",
    "df = pd.merge(loan, user, left_on='application_id', right_on='application_id', how='inner')"
   ]
  },
  {
   "cell_type": "code",
   "execution_count": null,
   "id": "15df8457",
   "metadata": {},
   "outputs": [],
   "source": [
    "df['this_year']=2022\n",
    "df.head(3)"
   ]
  },
  {
   "cell_type": "code",
   "execution_count": null,
   "id": "c0d6404c",
   "metadata": {},
   "outputs": [],
   "source": [
    "#나이추가\n",
    "df['Age']=df['this_year']-df['birth_year']"
   ]
  },
  {
   "cell_type": "code",
   "execution_count": null,
   "id": "f38893d0",
   "metadata": {},
   "outputs": [],
   "source": [
    "df.head(10)"
   ]
  },
  {
   "cell_type": "code",
   "execution_count": null,
   "id": "da6751a2",
   "metadata": {},
   "outputs": [],
   "source": [
    "# train, test 분리\n",
    "test = df.loc[df['is_applied'].isnull()]\n",
    "test\n",
    "# 3255482 개 "
   ]
  },
  {
   "cell_type": "code",
   "execution_count": null,
   "id": "3af57bb8",
   "metadata": {},
   "outputs": [],
   "source": [
    "train = df.loc[df['is_applied'].isnull() == False]\n",
    "train \n",
    "#10264386"
   ]
  },
  {
   "cell_type": "code",
   "execution_count": null,
   "id": "2b2839e3",
   "metadata": {},
   "outputs": [],
   "source": [
    "# 대출 신청자 / 미신청자 특성파악을 위한 분류\n",
    "loan_true = train.loc[train['is_applied'] == 1]\n",
    "loan_false = train.loc[train['is_applied'] == 0]"
   ]
  },
  {
   "cell_type": "code",
   "execution_count": null,
   "id": "05d1e91a",
   "metadata": {},
   "outputs": [],
   "source": [
    "loan_true"
   ]
  },
  {
   "cell_type": "code",
   "execution_count": null,
   "id": "85bf8496",
   "metadata": {
    "scrolled": true
   },
   "outputs": [],
   "source": [
    "loan_false"
   ]
  },
  {
   "cell_type": "code",
   "execution_count": null,
   "id": "55ea05e8",
   "metadata": {},
   "outputs": [],
   "source": [
    "# user_spec 과 train 조인\n",
    "#loan_user = pd.merge(train, user, left_on='application_id', right_on='application_id', how='inner')"
   ]
  },
  {
   "cell_type": "code",
   "execution_count": null,
   "id": "2cb4340e",
   "metadata": {
    "scrolled": false
   },
   "outputs": [],
   "source": [
    "#loan_user.head(10)"
   ]
  },
  {
   "cell_type": "code",
   "execution_count": null,
   "id": "5dd11b02",
   "metadata": {
    "scrolled": true
   },
   "outputs": [],
   "source": [
    "df['is_applied'].value_counts()"
   ]
  },
  {
   "cell_type": "markdown",
   "id": "f9bea10f",
   "metadata": {},
   "source": [
    "### 예측 모델"
   ]
  },
  {
   "cell_type": "code",
   "execution_count": null,
   "id": "fa8a81ac",
   "metadata": {},
   "outputs": [],
   "source": [
    "!pip install catboost"
   ]
  },
  {
   "cell_type": "code",
   "execution_count": null,
   "id": "1746b2b6",
   "metadata": {},
   "outputs": [],
   "source": [
    "!pip install eli5"
   ]
  },
  {
   "cell_type": "code",
   "execution_count": null,
   "id": "5db16078",
   "metadata": {},
   "outputs": [],
   "source": [
    "import warnings\n",
    "warnings.filterwarnings('ignore')\n",
    "import numpy as np\n",
    "import pandas as pd\n",
    "import matplotlib.pyplot as plt\n",
    "import seaborn as sns\n",
    "from sklearn.model_selection import train_test_split\n",
    "from sklearn.metrics import accuracy_score"
   ]
  },
  {
   "cell_type": "code",
   "execution_count": null,
   "id": "4bf61665",
   "metadata": {},
   "outputs": [],
   "source": [
    "pd.options.display.float_format = '{:.2f}'.format \n",
    "plt.rcParams['font.family'] = 'Apple Gothic'"
   ]
  },
  {
   "cell_type": "code",
   "execution_count": null,
   "id": "fe9f4117",
   "metadata": {},
   "outputs": [],
   "source": [
    "train.describe()"
   ]
  },
  {
   "cell_type": "code",
   "execution_count": null,
   "id": "8368eb3f",
   "metadata": {},
   "outputs": [],
   "source": [
    "test.describe()"
   ]
  },
  {
   "cell_type": "code",
   "execution_count": null,
   "id": "397b2829",
   "metadata": {},
   "outputs": [],
   "source": [
    "print(train.shape)\n",
    "print(test.shape)"
   ]
  },
  {
   "cell_type": "code",
   "execution_count": null,
   "id": "331415e1",
   "metadata": {},
   "outputs": [],
   "source": [
    "for col in train.columns:\n",
    "  cols = str(col)\n",
    "  print(f'{col} 고유값 : {train[cols].unique()} \\n')"
   ]
  },
  {
   "cell_type": "code",
   "execution_count": null,
   "id": "86db9984",
   "metadata": {},
   "outputs": [],
   "source": [
    "import matplotlib as mpl\n",
    "import seaborn as sns\n",
    "plt.figure(figsize=(15,8))"
   ]
  },
  {
   "cell_type": "code",
   "execution_count": null,
   "id": "328b35c5",
   "metadata": {},
   "outputs": [],
   "source": [
    "#소득범위 범주화\n",
    "train['Age'].value_counts().sort_index()"
   ]
  },
  {
   "cell_type": "code",
   "execution_count": null,
   "id": "107ca91f",
   "metadata": {},
   "outputs": [],
   "source": [
    "bins = list(range(10, 91, 10))\n",
    "bins_label = [str(x)+\"이상 \"+str(x+10)+\"미만\" for x in bins]\n",
    "train[\"Age_level\"] = pd.cut(train[\"Age\"], bins, right=False, labels=bins_label[:-1])\n",
    "\n",
    "test[\"Age_level\"] = pd.cut(test[\"Age\"], bins, right=False, labels=bins_label[:-1])"
   ]
  },
  {
   "cell_type": "code",
   "execution_count": null,
   "id": "53df5431",
   "metadata": {},
   "outputs": [],
   "source": [
    "train['Age_level'].value_counts().sort_index()"
   ]
  },
  {
   "cell_type": "code",
   "execution_count": null,
   "id": "82c87d31",
   "metadata": {
    "scrolled": false
   },
   "outputs": [],
   "source": [
    "test['Age_level'].value_counts().sort_index()"
   ]
  },
  {
   "cell_type": "code",
   "execution_count": null,
   "id": "ca85f0f8",
   "metadata": {},
   "outputs": [],
   "source": [
    "from sklearn.preprocessing import LabelEncoder"
   ]
  },
  {
   "cell_type": "code",
   "execution_count": null,
   "id": "228368a2",
   "metadata": {},
   "outputs": [],
   "source": [
    "#Age Level Encoding\n",
    "encoder = LabelEncoder() \n",
    "encoder.fit(train['Age_level'])\n",
    "test['Age_level'] = encoder.transform(test['Age_level'])"
   ]
  },
  {
   "cell_type": "code",
   "execution_count": null,
   "id": "b4fa1d73",
   "metadata": {},
   "outputs": [],
   "source": [
    "encoder = LabelEncoder()\n",
    "encoder.fit(train['Age_level'])\n",
    "train['Age_level'] = encoder.transform(train['Age_level'])"
   ]
  },
  {
   "cell_type": "code",
   "execution_count": null,
   "id": "5af05694",
   "metadata": {
    "scrolled": true
   },
   "outputs": [],
   "source": [
    "# 레이블이 불균형한 데이터임을 확인할 수 있음\n",
    "train['is_applied'].value_counts(normalize = True)"
   ]
  },
  {
   "cell_type": "code",
   "execution_count": null,
   "id": "06aa08df",
   "metadata": {},
   "outputs": [],
   "source": [
    "# user_spec 과 train 조인\n",
    "test2 = loan.loc[loan['is_applied'].isnull()]\n",
    "test2"
   ]
  },
  {
   "cell_type": "code",
   "execution_count": null,
   "id": "c43684ed",
   "metadata": {
    "scrolled": true
   },
   "outputs": [],
   "source": [
    "train2 = loan.loc[loan['is_applied'].isnull() == False]\n",
    "train2 \n",
    "#10264386"
   ]
  },
  {
   "cell_type": "code",
   "execution_count": null,
   "id": "d92ef9c9",
   "metadata": {
    "scrolled": true
   },
   "outputs": [],
   "source": [
    "# user_spec 과 train 조인\n",
    "loan_user = pd.merge(train2, user, left_on='application_id', right_on='application_id', how='inner')\n",
    "loan_user.head(10)"
   ]
  },
  {
   "cell_type": "code",
   "execution_count": null,
   "id": "8d6600c2",
   "metadata": {},
   "outputs": [],
   "source": [
    "loan_user['this_year']=2022\n",
    "loan_user.head(3)"
   ]
  },
  {
   "cell_type": "code",
   "execution_count": null,
   "id": "8b7c59ca",
   "metadata": {
    "scrolled": false
   },
   "outputs": [],
   "source": [
    "loan_user['Age']=loan_user['this_year']-loan_user['birth_year']\n",
    "loan_user.head(3)"
   ]
  },
  {
   "cell_type": "code",
   "execution_count": null,
   "id": "ba1d53e9",
   "metadata": {},
   "outputs": [],
   "source": [
    "loan_user.drop(['this_year'],axis=1)"
   ]
  },
  {
   "cell_type": "code",
   "execution_count": null,
   "id": "2424f71b",
   "metadata": {
    "scrolled": true
   },
   "outputs": [],
   "source": [
    "loan_user.columns"
   ]
  },
  {
   "cell_type": "code",
   "execution_count": null,
   "id": "149e232e",
   "metadata": {},
   "outputs": [],
   "source": [
    "X= np.array(loan_user[['application_id', 'loanapply_insert_time', 'bank_id', 'product_id',\n",
    "       'loan_limit', 'loan_rate', 'user_id', 'birth_year',\n",
    "       'gender', 'insert_time', 'credit_score', 'yearly_income', 'income_type',\n",
    "       'company_enter_month', 'employment_type', 'houseown_type',\n",
    "       'desired_amount', 'purpose', 'personal_rehabilitation_yn',\n",
    "       'personal_rehabilitation_complete_yn', 'existing_loan_cnt',\n",
    "       'existing_loan_amt', 'enter_month', 'year', '재직일수', 'Age']])"
   ]
  },
  {
   "cell_type": "code",
   "execution_count": null,
   "id": "d9dbc641",
   "metadata": {},
   "outputs": [],
   "source": [
    "X"
   ]
  },
  {
   "cell_type": "code",
   "execution_count": null,
   "id": "13d41ef1",
   "metadata": {},
   "outputs": [],
   "source": [
    "y=np.array(loan_user['is_applied'])\n",
    "y"
   ]
  },
  {
   "cell_type": "code",
   "execution_count": null,
   "id": "3a01f1c6",
   "metadata": {},
   "outputs": [],
   "source": [
    "#트레이닝 세트와 테스트 세트로 데이터 구분 (여기서는 7:3으로 구분해준다)\n",
    "from sklearn.model_selection import train_test_split\n",
    "\n",
    "#randomstate는 반복적으로 같은 결과를 만들어 내기 위하여 설정해준다 \n",
    "X_train, X_test, y_train, y_test = train_test_split(X,y, test_size=0.3,random_state=0)\n",
    "\n",
    "print(\"X_train 크기:\", X_train.shape)\n",
    "print(\"y_train 크기:\", y_train.shape)\n",
    "print(\"X_test 크기:\", X_test.shape)\n",
    "print(\"y_test 크기:\", y_test.shape)"
   ]
  },
  {
   "cell_type": "code",
   "execution_count": null,
   "id": "6dd68e43",
   "metadata": {},
   "outputs": [],
   "source": [
    "from sklearn.utils.class_weight import compute_class_weight\n",
    "\n",
    "# 불균형한 클래스인 것으로 확인되어 class_weight = 'balanced'로 설정해준다. \n",
    "classes = np.unique(y_train)\n",
    "weights = compute_class_weight(class_weight='balanced', classes=classes, y=y_train)\n",
    "class_weights = dict(zip(classes, weights))"
   ]
  },
  {
   "cell_type": "code",
   "execution_count": null,
   "id": "bf1389e7",
   "metadata": {},
   "outputs": [],
   "source": []
  },
  {
   "cell_type": "code",
   "execution_count": null,
   "id": "701f1424",
   "metadata": {},
   "outputs": [],
   "source": []
  },
  {
   "cell_type": "code",
   "execution_count": null,
   "id": "75160962",
   "metadata": {},
   "outputs": [],
   "source": [
    "#최적의 모델 찾기\n",
    "classification_setup = classification.setup(data=train2, target='신청여부',fold_strategy='is_applied')"
   ]
  },
  {
   "cell_type": "code",
   "execution_count": null,
   "id": "b6039902",
   "metadata": {},
   "outputs": [],
   "source": [
    "top5_model = classification.compare_models(fold = 5, round = 3, sort = 'Accuracy', n_select = 5)"
   ]
  }
 ],
 "metadata": {
  "kernelspec": {
   "display_name": "Python 3 (ipykernel)",
   "language": "python",
   "name": "python3"
  },
  "language_info": {
   "codemirror_mode": {
    "name": "ipython",
    "version": 3
   },
   "file_extension": ".py",
   "mimetype": "text/x-python",
   "name": "python",
   "nbconvert_exporter": "python",
   "pygments_lexer": "ipython3",
   "version": "3.8.2"
  }
 },
 "nbformat": 4,
 "nbformat_minor": 5
}
