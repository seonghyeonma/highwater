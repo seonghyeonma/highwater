{
 "cells": [
  {
   "cell_type": "code",
   "execution_count": null,
   "id": "a1e11425",
   "metadata": {},
   "outputs": [],
   "source": [
    "import pandas as pd\n",
    "import numpy as np \n",
    "import matplotlib.pyplot as plt\n",
    "import seaborn as sns\n",
    "from sklearn.model_selection import train_test_split\n",
    "from sklearn.preprocessing import LabelEncoder\n",
    "from tqdm import tqdm_notebook\n",
    "from sklearn.metrics import accuracy_score\n",
    "from catboost import CatBoostClassifier\n",
    "from sklearn.model_selection import RandomizedSearchCV\n",
    "from sklearn.model_selection import StratifiedKFold\n",
    "from sklearn.model_selection import cross_val_score\n",
    "from datetime import datetime as dt\n",
    "import time\n",
    "import math\n",
    "from catboost import CatBoostClassifier"
   ]
  },
  {
   "cell_type": "code",
   "execution_count": null,
   "id": "7aff7794",
   "metadata": {},
   "outputs": [],
   "source": [
    "loan = pd.read_csv('loan_result_clean.csv')\n",
    "user = pd.read_csv('user_spec_clean.csv')"
   ]
  },
  {
   "cell_type": "code",
   "execution_count": null,
   "id": "35a9acdb",
   "metadata": {},
   "outputs": [],
   "source": [
    "user = user.drop('Unnamed: 0', axis = 1)\n",
    "user.head(5)"
   ]
  },
  {
   "cell_type": "code",
   "execution_count": null,
   "id": "146ecfc4",
   "metadata": {},
   "outputs": [],
   "source": [
    "loan = loan.drop('Unnamed: 0', axis = 1)\n",
    "loan.head(5)"
   ]
  },
  {
   "cell_type": "code",
   "execution_count": null,
   "id": "ddc3b7f8",
   "metadata": {},
   "outputs": [],
   "source": [
    "# user_spec 과 train 조인\n",
    "df = pd.merge(loan, user, left_on='application_id', right_on='application_id', how='inner')"
   ]
  },
  {
   "cell_type": "code",
   "execution_count": null,
   "id": "f976196a",
   "metadata": {},
   "outputs": [],
   "source": [
    "# train, test 분리\n",
    "test = df.loc[df['is_applied'].isnull()]\n",
    "test\n",
    "# 3255482 개 "
   ]
  },
  {
   "cell_type": "code",
   "execution_count": null,
   "id": "e287a6ba",
   "metadata": {},
   "outputs": [],
   "source": [
    "train = df.loc[df['is_applied'].isnull() == False]\n",
    "train \n",
    "#10264386"
   ]
  },
  {
   "cell_type": "code",
   "execution_count": null,
   "id": "ed1b57bd",
   "metadata": {},
   "outputs": [],
   "source": [
    "# 대출 신청자 / 미신청자 특성파악을 위한 분류\n",
    "loan_true = train.loc[train['is_applied'] == 1]\n",
    "loan_false = train.loc[train['is_applied'] == 0]"
   ]
  },
  {
   "cell_type": "code",
   "execution_count": null,
   "id": "c11692b2",
   "metadata": {},
   "outputs": [],
   "source": [
    "df['is_applied'].value_counts()"
   ]
  },
  {
   "cell_type": "code",
   "execution_count": null,
   "id": "e2c63bb5",
   "metadata": {},
   "outputs": [],
   "source": []
  },
  {
   "cell_type": "markdown",
   "id": "d236ccf1",
   "metadata": {},
   "source": [
    "### 예측 모델"
   ]
  },
  {
   "cell_type": "code",
   "execution_count": null,
   "id": "1a4bf1da",
   "metadata": {},
   "outputs": [],
   "source": [
    "import warnings\n",
    "warnings.filterwarnings('ignore')\n",
    "import numpy as np\n",
    "import pandas as pd\n",
    "import matplotlib.pyplot as plt\n",
    "import seaborn as sns\n",
    "from sklearn.model_selection import train_test_split\n",
    "from sklearn.metrics import accuracy_score"
   ]
  },
  {
   "cell_type": "code",
   "execution_count": null,
   "id": "9a1242fe",
   "metadata": {},
   "outputs": [],
   "source": [
    "pd.options.display.float_format = '{:.2f}'.format \n",
    "plt.rcParams['font.family'] = 'Apple Gothic'"
   ]
  },
  {
   "cell_type": "code",
   "execution_count": null,
   "id": "daf2123a",
   "metadata": {},
   "outputs": [],
   "source": [
    "print(train.shape)\n",
    "print(test.shape)"
   ]
  },
  {
   "cell_type": "code",
   "execution_count": null,
   "id": "f455f195",
   "metadata": {},
   "outputs": [],
   "source": [
    "for col in train.columns:\n",
    "  cols = str(col)\n",
    "  print(f'{col} 고유값 : {train[cols].unique()} \\n')"
   ]
  },
  {
   "cell_type": "code",
   "execution_count": null,
   "id": "e7159d00",
   "metadata": {},
   "outputs": [],
   "source": [
    "#나이 범주화\n",
    "train['Age'].value_counts().sort_index()"
   ]
  },
  {
   "cell_type": "code",
   "execution_count": null,
   "id": "ae9eb26a",
   "metadata": {},
   "outputs": [],
   "source": [
    "bins = list(range(10, 91, 10))\n",
    "bins_label = [str(x)+\"이상 \"+str(x+10)+\"미만\" for x in bins]\n",
    "train[\"Age_level\"] = pd.cut(train[\"Age\"], bins, right=False, labels=bins_label[:-1])\n",
    "\n",
    "test[\"Age_level\"] = pd.cut(test[\"Age\"], bins, right=False, labels=bins_label[:-1])"
   ]
  },
  {
   "cell_type": "code",
   "execution_count": null,
   "id": "936a182b",
   "metadata": {},
   "outputs": [],
   "source": [
    "train['Age_level'].value_counts().sort_index()"
   ]
  },
  {
   "cell_type": "code",
   "execution_count": null,
   "id": "8cdf06ed",
   "metadata": {},
   "outputs": [],
   "source": [
    "test['Age_level'].value_counts().sort_index()"
   ]
  },
  {
   "cell_type": "code",
   "execution_count": null,
   "id": "afd6844e",
   "metadata": {},
   "outputs": [],
   "source": [
    "#Age Level Encoding\n",
    "encoder = LabelEncoder() \n",
    "encoder.fit(train['Age_level'])\n",
    "test['Age_level'] = encoder.transform(test['Age_level'])"
   ]
  },
  {
   "cell_type": "code",
   "execution_count": null,
   "id": "ecf6343d",
   "metadata": {},
   "outputs": [],
   "source": [
    "encoder = LabelEncoder()\n",
    "encoder.fit(train['Age_level'])\n",
    "train['Age_level'] = encoder.transform(train['Age_level'])"
   ]
  },
  {
   "cell_type": "code",
   "execution_count": null,
   "id": "5307a507",
   "metadata": {},
   "outputs": [],
   "source": []
  },
  {
   "cell_type": "code",
   "execution_count": null,
   "id": "3e6179df",
   "metadata": {
    "scrolled": true
   },
   "outputs": [],
   "source": [
    "# 레이블이 불균형한 데이터임을 확인할 수 있음\n",
    "train['is_applied'].value_counts(normalize = True)"
   ]
  },
  {
   "cell_type": "code",
   "execution_count": null,
   "id": "7f33368b",
   "metadata": {
    "scrolled": false
   },
   "outputs": [],
   "source": [
    "df.head()"
   ]
  },
  {
   "cell_type": "code",
   "execution_count": null,
   "id": "60c33355",
   "metadata": {
    "scrolled": true
   },
   "outputs": [],
   "source": [
    "df=df.drop(['age_year','year'],axis=1)"
   ]
  },
  {
   "cell_type": "code",
   "execution_count": null,
   "id": "cf3bfc9e",
   "metadata": {},
   "outputs": [],
   "source": [
    "df.columns"
   ]
  },
  {
   "cell_type": "code",
   "execution_count": null,
   "id": "02ee3dfb",
   "metadata": {},
   "outputs": [],
   "source": [
    "X= np.array(df[['application_id', 'loanapply_insert_time', 'bank_id', 'product_id',\n",
    "       'loan_limit', 'loan_rate', 'is_applied', 'user_id', 'birth_year',\n",
    "       'gender', 'insert_time', 'credit_score', 'yearly_income', 'income_type',\n",
    "       'company_enter_month', 'employment_type', 'houseown_type',\n",
    "       'desired_amount', 'purpose', 'personal_rehabilitation_yn',\n",
    "       'personal_rehabilitation_complete_yn', 'existing_loan_cnt',\n",
    "       'existing_loan_amt', 'enter_month', 'work_day',\n",
    "       'Age']])"
   ]
  },
  {
   "cell_type": "code",
   "execution_count": null,
   "id": "d4f8b869",
   "metadata": {},
   "outputs": [],
   "source": [
    "X"
   ]
  },
  {
   "cell_type": "code",
   "execution_count": null,
   "id": "0ea72e0c",
   "metadata": {},
   "outputs": [],
   "source": [
    "y=np.array(df['is_applied'])\n",
    "y"
   ]
  },
  {
   "cell_type": "code",
   "execution_count": null,
   "id": "513161cd",
   "metadata": {},
   "outputs": [],
   "source": [
    "X_train, X_test, y_train, y_test = train_test_split(X,y, test_size=0.3,random_state=0)"
   ]
  },
  {
   "cell_type": "code",
   "execution_count": null,
   "id": "2de9aacd",
   "metadata": {},
   "outputs": [],
   "source": [
    "print(\"X_train 크기:\", X_train.shape)\n",
    "print(\"y_train 크기:\", y_train.shape)\n",
    "print(\"X_test 크기:\", X_test.shape)\n",
    "print(\"y_test 크기:\", y_test.shape)"
   ]
  },
  {
   "cell_type": "code",
   "execution_count": null,
   "id": "e095af9d",
   "metadata": {},
   "outputs": [],
   "source": [
    "import tensorflow as tf\n",
    "from keras import layers, models, optimizers, Sequential\n",
    "from sklearn.metrics import accuracy_score, log_loss, make_scorer\n",
    "from sklearn.model_selection import StratifiedShuffleSplit\n",
    "from sklearn.preprocessing import OneHotEncoder"
   ]
  },
  {
   "cell_type": "code",
   "execution_count": null,
   "id": "80e5c601",
   "metadata": {},
   "outputs": [],
   "source": [
    "#object 타입 label encoding 진행\n",
    "le = LabelEncoder()\n",
    "cols = np.array(train_set.columns)\n",
    "for c in cols:\n",
    "      if train_set[c].dtype == 'object':\n",
    "        train_set[c] = le.fit_transform(train_set[c])\n",
    "        test_set[c] = le.fit_transform(test_set[c])"
   ]
  },
  {
   "cell_type": "code",
   "execution_count": null,
   "id": "fc121617",
   "metadata": {},
   "outputs": [],
   "source": []
  },
  {
   "cell_type": "code",
   "execution_count": null,
   "id": "f62196cb",
   "metadata": {},
   "outputs": [],
   "source": []
  },
  {
   "cell_type": "code",
   "execution_count": null,
   "id": "dc13c00c",
   "metadata": {},
   "outputs": [],
   "source": [
    "# add the feature(total energy of acc)\n",
    "train['acc_t']  = train.apply(lambda x : (x['acc_x']**2 + x['acc_y'] **2 +  x['acc_z'] ** 2 )**(1/3), axis=1)\n",
    "test['acc_t']  = test.apply(lambda x : (x['acc_x']**2 + x['acc_y'] **2 +  x['acc_z'] ** 2 )**(1/3), axis=1)"
   ]
  },
  {
   "cell_type": "code",
   "execution_count": null,
   "id": "68b359c4",
   "metadata": {},
   "outputs": [],
   "source": []
  },
  {
   "cell_type": "code",
   "execution_count": null,
   "id": "c7f485e9",
   "metadata": {},
   "outputs": [],
   "source": []
  },
  {
   "cell_type": "code",
   "execution_count": null,
   "id": "b4bb7c04",
   "metadata": {},
   "outputs": [],
   "source": []
  },
  {
   "cell_type": "code",
   "execution_count": null,
   "id": "221f9a2b",
   "metadata": {},
   "outputs": [],
   "source": []
  },
  {
   "cell_type": "code",
   "execution_count": null,
   "id": "08ec3af5",
   "metadata": {},
   "outputs": [],
   "source": []
  },
  {
   "cell_type": "markdown",
   "id": "df163a4b",
   "metadata": {},
   "source": [
    "### CatBoost 사용"
   ]
  },
  {
   "cell_type": "code",
   "execution_count": 30,
   "id": "2079a08f",
   "metadata": {},
   "outputs": [],
   "source": [
    "from sklearn.utils.class_weight import compute_class_weight"
   ]
  },
  {
   "cell_type": "code",
   "execution_count": 31,
   "id": "7d6c711c",
   "metadata": {},
   "outputs": [],
   "source": [
    "classes = np.unique(y_train)"
   ]
  },
  {
   "cell_type": "code",
   "execution_count": null,
   "id": "4beb6fe1",
   "metadata": {},
   "outputs": [],
   "source": [
    "weights = compute_class_weight(class_weight='balanced', classes=classes, y=y_train)"
   ]
  },
  {
   "cell_type": "code",
   "execution_count": null,
   "id": "c6ec6ab8",
   "metadata": {},
   "outputs": [],
   "source": [
    "class_weights = dict(zip(classes, weights))"
   ]
  },
  {
   "cell_type": "code",
   "execution_count": 57,
   "id": "f4f9c2e4",
   "metadata": {},
   "outputs": [
    {
     "ename": "ValueError",
     "evalue": "classes should include all valid labels that can be in y",
     "output_type": "error",
     "traceback": [
      "\u001b[0;31m---------------------------------------------------------------------------\u001b[0m",
      "\u001b[0;31mValueError\u001b[0m                                Traceback (most recent call last)",
      "\u001b[0;32m/var/folders/nz/160bjb610xj3r4wkpjkgnw940000gn/T/ipykernel_9628/681264458.py\u001b[0m in \u001b[0;36m<module>\u001b[0;34m\u001b[0m\n\u001b[1;32m      3\u001b[0m \u001b[0;31m# 불균형한 클래스인 것으로 확인되어 class_weight = 'balanced'로 설정해준다.\u001b[0m\u001b[0;34m\u001b[0m\u001b[0;34m\u001b[0m\u001b[0;34m\u001b[0m\u001b[0m\n\u001b[1;32m      4\u001b[0m \u001b[0mclasses\u001b[0m \u001b[0;34m=\u001b[0m \u001b[0mnp\u001b[0m\u001b[0;34m.\u001b[0m\u001b[0munique\u001b[0m\u001b[0;34m(\u001b[0m\u001b[0my_train\u001b[0m\u001b[0;34m)\u001b[0m\u001b[0;34m\u001b[0m\u001b[0;34m\u001b[0m\u001b[0m\n\u001b[0;32m----> 5\u001b[0;31m \u001b[0mweights\u001b[0m \u001b[0;34m=\u001b[0m \u001b[0mcompute_class_weight\u001b[0m\u001b[0;34m(\u001b[0m\u001b[0mclass_weight\u001b[0m\u001b[0;34m=\u001b[0m\u001b[0;34m'balanced'\u001b[0m\u001b[0;34m,\u001b[0m \u001b[0mclasses\u001b[0m\u001b[0;34m=\u001b[0m\u001b[0mclasses\u001b[0m\u001b[0;34m,\u001b[0m \u001b[0my\u001b[0m\u001b[0;34m=\u001b[0m\u001b[0my_train\u001b[0m\u001b[0;34m)\u001b[0m\u001b[0;34m\u001b[0m\u001b[0;34m\u001b[0m\u001b[0m\n\u001b[0m\u001b[1;32m      6\u001b[0m \u001b[0mclass_weights\u001b[0m \u001b[0;34m=\u001b[0m \u001b[0mdict\u001b[0m\u001b[0;34m(\u001b[0m\u001b[0mzip\u001b[0m\u001b[0;34m(\u001b[0m\u001b[0mclasses\u001b[0m\u001b[0;34m,\u001b[0m \u001b[0mweights\u001b[0m\u001b[0;34m)\u001b[0m\u001b[0;34m)\u001b[0m\u001b[0;34m\u001b[0m\u001b[0;34m\u001b[0m\u001b[0m\n",
      "\u001b[0;32m~/opt/anaconda3/lib/python3.8/site-packages/sklearn/utils/validation.py\u001b[0m in \u001b[0;36minner_f\u001b[0;34m(*args, **kwargs)\u001b[0m\n\u001b[1;32m     61\u001b[0m             \u001b[0mextra_args\u001b[0m \u001b[0;34m=\u001b[0m \u001b[0mlen\u001b[0m\u001b[0;34m(\u001b[0m\u001b[0margs\u001b[0m\u001b[0;34m)\u001b[0m \u001b[0;34m-\u001b[0m \u001b[0mlen\u001b[0m\u001b[0;34m(\u001b[0m\u001b[0mall_args\u001b[0m\u001b[0;34m)\u001b[0m\u001b[0;34m\u001b[0m\u001b[0;34m\u001b[0m\u001b[0m\n\u001b[1;32m     62\u001b[0m             \u001b[0;32mif\u001b[0m \u001b[0mextra_args\u001b[0m \u001b[0;34m<=\u001b[0m \u001b[0;36m0\u001b[0m\u001b[0;34m:\u001b[0m\u001b[0;34m\u001b[0m\u001b[0;34m\u001b[0m\u001b[0m\n\u001b[0;32m---> 63\u001b[0;31m                 \u001b[0;32mreturn\u001b[0m \u001b[0mf\u001b[0m\u001b[0;34m(\u001b[0m\u001b[0;34m*\u001b[0m\u001b[0margs\u001b[0m\u001b[0;34m,\u001b[0m \u001b[0;34m**\u001b[0m\u001b[0mkwargs\u001b[0m\u001b[0;34m)\u001b[0m\u001b[0;34m\u001b[0m\u001b[0;34m\u001b[0m\u001b[0m\n\u001b[0m\u001b[1;32m     64\u001b[0m \u001b[0;34m\u001b[0m\u001b[0m\n\u001b[1;32m     65\u001b[0m             \u001b[0;31m# extra_args > 0\u001b[0m\u001b[0;34m\u001b[0m\u001b[0;34m\u001b[0m\u001b[0;34m\u001b[0m\u001b[0m\n",
      "\u001b[0;32m~/opt/anaconda3/lib/python3.8/site-packages/sklearn/utils/class_weight.py\u001b[0m in \u001b[0;36mcompute_class_weight\u001b[0;34m(class_weight, classes, y)\u001b[0m\n\u001b[1;32m     42\u001b[0m \u001b[0;34m\u001b[0m\u001b[0m\n\u001b[1;32m     43\u001b[0m     \u001b[0;32mif\u001b[0m \u001b[0mset\u001b[0m\u001b[0;34m(\u001b[0m\u001b[0my\u001b[0m\u001b[0;34m)\u001b[0m \u001b[0;34m-\u001b[0m \u001b[0mset\u001b[0m\u001b[0;34m(\u001b[0m\u001b[0mclasses\u001b[0m\u001b[0;34m)\u001b[0m\u001b[0;34m:\u001b[0m\u001b[0;34m\u001b[0m\u001b[0;34m\u001b[0m\u001b[0m\n\u001b[0;32m---> 44\u001b[0;31m         raise ValueError(\"classes should include all valid labels that can \"\n\u001b[0m\u001b[1;32m     45\u001b[0m                          \"be in y\")\n\u001b[1;32m     46\u001b[0m     \u001b[0;32mif\u001b[0m \u001b[0mclass_weight\u001b[0m \u001b[0;32mis\u001b[0m \u001b[0;32mNone\u001b[0m \u001b[0;32mor\u001b[0m \u001b[0mlen\u001b[0m\u001b[0;34m(\u001b[0m\u001b[0mclass_weight\u001b[0m\u001b[0;34m)\u001b[0m \u001b[0;34m==\u001b[0m \u001b[0;36m0\u001b[0m\u001b[0;34m:\u001b[0m\u001b[0;34m\u001b[0m\u001b[0;34m\u001b[0m\u001b[0m\n",
      "\u001b[0;31mValueError\u001b[0m: classes should include all valid labels that can be in y"
     ]
    }
   ],
   "source": [
    "from sklearn.utils.class_weight import compute_class_weight\n",
    "\n",
    "# 불균형한 클래스인 것으로 확인되어 class_weight = 'balanced'로 설정해준다. \n",
    "classes = np.unique(y_train)\n",
    "weights = compute_class_weight(class_weight='balanced', classes=classes, y=y_train)\n",
    "class_weights = dict(zip(classes, weights))"
   ]
  },
  {
   "cell_type": "code",
   "execution_count": null,
   "id": "af0a2a13",
   "metadata": {},
   "outputs": [],
   "source": [
    "cb = CatBoostClassifier(learning_rate= 0.03, max_depth= 10, n_estimators= 1000, \n",
    "                    class_weights= class_weights, subsample = 0.8, colsample_bylevel=1.0, random_state=42, verbose =0)\n",
    "\n",
    "# 성능 지표는 정확도(accuracy) , 교차 검증 세트는 5개 \n",
    "scores = cross_val_score(cb , X, y, scoring='accuracy',cv=5)\n",
    "\n",
    "print('교차 검증별 정확도:',np.round(scores, 4))\n",
    "print('평균 검증 정확도:', np.round(np.mean(scores),4))"
   ]
  },
  {
   "cell_type": "code",
   "execution_count": null,
   "id": "f77d5b9b",
   "metadata": {},
   "outputs": [],
   "source": []
  },
  {
   "cell_type": "code",
   "execution_count": null,
   "id": "4428be97",
   "metadata": {},
   "outputs": [],
   "source": [
    "plt.figure(figsize=(14, 9))\n",
    "heat_table = train_set.corr()\n",
    "mask = np.zeros_like(heat_table)\n",
    "mask[np.triu_indices_from(mask)]=True\n",
    "heatmap_ax = sns.heatmap(heat_table, annot=True, mask=mask, cmap='pink', vmin=-1, vmax=1)\n",
    "heatmap_ax.set_xticklabels(heatmap_ax.get_xticklabels(), fontsize=10, rotation=90)\n",
    "heatmap_ax.set_yticklabels(heatmap_ax.get_yticklabels(), fontsize=10)\n",
    "plt.title('correlation between columns', fontsize=20)"
   ]
  },
  {
   "cell_type": "code",
   "execution_count": null,
   "id": "4fe36872",
   "metadata": {},
   "outputs": [],
   "source": [
    "#변수별 PermutationImportance 확인\n",
    "import eli5\n",
    "from eli5.sklearn import PermutationImportance\n",
    "\n",
    "cb = CatBoostClassifier(learning_rate= 0.03, max_depth= 10, n_estimators= 1000, \n",
    "                    class_weights= class_weights, subsample = 0.8, colsample_bylevel=1.0, random_state=42, verbose =0).fit(X_train, y_train)\n",
    "perm = PermutationImportance(cb, random_state= 42).fit(X_test, y_test)\n",
    "eli5.show_weights(perm, feature_names = X_test.columns.tolist())"
   ]
  }
 ],
 "metadata": {
  "kernelspec": {
   "display_name": "Python 3 (ipykernel)",
   "language": "python",
   "name": "python3"
  },
  "language_info": {
   "codemirror_mode": {
    "name": "ipython",
    "version": 3
   },
   "file_extension": ".py",
   "mimetype": "text/x-python",
   "name": "python",
   "nbconvert_exporter": "python",
   "pygments_lexer": "ipython3",
   "version": "3.8.2"
  }
 },
 "nbformat": 4,
 "nbformat_minor": 5
}
