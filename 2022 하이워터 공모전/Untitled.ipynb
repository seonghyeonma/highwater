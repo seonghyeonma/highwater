{
 "cells": [
  {
   "cell_type": "code",
   "execution_count": 1,
   "id": "9d9163fc",
   "metadata": {},
   "outputs": [],
   "source": [
    "import pandas as pd\n",
    "import numpy as np \n",
    "import matplotlib.pyplot as plt\n",
    "import seaborn as sns\n",
    "from sklearn.model_selection import train_test_split\n",
    "from sklearn.preprocessing import LabelEncoder\n",
    "from tqdm import tqdm_notebook\n",
    "from sklearn.metrics import accuracy_score\n",
    "from catboost import CatBoostClassifier\n",
    "from sklearn.model_selection import RandomizedSearchCV\n",
    "from sklearn.model_selection import StratifiedKFold\n",
    "from sklearn.model_selection import cross_val_score\n",
    "from datetime import datetime as dt\n",
    "import time\n",
    "import math\n",
    "from catboost import CatBoostClassifier"
   ]
  },
  {
   "cell_type": "code",
   "execution_count": 2,
   "id": "09d336a3",
   "metadata": {},
   "outputs": [],
   "source": [
    "import warnings\n",
    "warnings.filterwarnings('ignore')\n",
    "import numpy as np\n",
    "import pandas as pd\n",
    "import matplotlib.pyplot as plt\n",
    "import seaborn as sns\n",
    "from sklearn.model_selection import train_test_split\n",
    "from sklearn.metrics import accuracy_score"
   ]
  },
  {
   "cell_type": "code",
   "execution_count": 3,
   "id": "cf68074e",
   "metadata": {},
   "outputs": [],
   "source": [
    "loan = pd.read_csv('loan_result_clean.csv')\n",
    "user = pd.read_csv('user_spec_clean.csv')"
   ]
  },
  {
   "cell_type": "code",
   "execution_count": 4,
   "id": "73dbd8dc",
   "metadata": {},
   "outputs": [],
   "source": [
    "train= pd.read_csv('train.csv')"
   ]
  },
  {
   "cell_type": "code",
   "execution_count": 5,
   "id": "bcfba445",
   "metadata": {},
   "outputs": [],
   "source": [
    "test= pd.read_csv('test (1).csv')"
   ]
  },
  {
   "cell_type": "code",
   "execution_count": 6,
   "id": "6a3098ff",
   "metadata": {},
   "outputs": [
    {
     "name": "stdout",
     "output_type": "stream",
     "text": [
      "Requirement already satisfied: pycaret in /Users/seonghyeonma/opt/anaconda3/lib/python3.8/site-packages (2.3.10)\n",
      "Requirement already satisfied: IPython in /Users/seonghyeonma/opt/anaconda3/lib/python3.8/site-packages (from pycaret) (7.27.0)\n",
      "Requirement already satisfied: scikit-learn==0.23.2 in /Users/seonghyeonma/opt/anaconda3/lib/python3.8/site-packages (from pycaret) (0.23.2)\n",
      "Requirement already satisfied: Boruta in /Users/seonghyeonma/opt/anaconda3/lib/python3.8/site-packages (from pycaret) (0.3)\n",
      "Requirement already satisfied: ipywidgets in /Users/seonghyeonma/opt/anaconda3/lib/python3.8/site-packages (from pycaret) (7.6.4)\n",
      "Requirement already satisfied: mlxtend>=0.17.0 in /Users/seonghyeonma/opt/anaconda3/lib/python3.8/site-packages (from pycaret) (0.19.0)\n",
      "Requirement already satisfied: umap-learn in /Users/seonghyeonma/opt/anaconda3/lib/python3.8/site-packages (from pycaret) (0.5.3)\n",
      "Requirement already satisfied: scikit-plot in /Users/seonghyeonma/opt/anaconda3/lib/python3.8/site-packages (from pycaret) (0.3.7)\n",
      "Requirement already satisfied: joblib in /Users/seonghyeonma/opt/anaconda3/lib/python3.8/site-packages (from pycaret) (1.1.0)\n",
      "Requirement already satisfied: nltk in /Users/seonghyeonma/opt/anaconda3/lib/python3.8/site-packages (from pycaret) (3.6.3)\n",
      "Requirement already satisfied: pyod in /Users/seonghyeonma/opt/anaconda3/lib/python3.8/site-packages (from pycaret) (1.0.5)\n",
      "Requirement already satisfied: yellowbrick>=1.0.1 in /Users/seonghyeonma/opt/anaconda3/lib/python3.8/site-packages (from pycaret) (1.3.post1)\n",
      "Requirement already satisfied: pandas in /Users/seonghyeonma/opt/anaconda3/lib/python3.8/site-packages (from pycaret) (1.3.3)\n",
      "Requirement already satisfied: pandas-profiling>=2.8.0 in /Users/seonghyeonma/opt/anaconda3/lib/python3.8/site-packages (from pycaret) (3.3.0)\n",
      "Requirement already satisfied: cufflinks>=0.17.0 in /Users/seonghyeonma/opt/anaconda3/lib/python3.8/site-packages (from pycaret) (0.17.3)\n",
      "Requirement already satisfied: seaborn in /Users/seonghyeonma/opt/anaconda3/lib/python3.8/site-packages (from pycaret) (0.11.2)\n",
      "Requirement already satisfied: textblob in /Users/seonghyeonma/opt/anaconda3/lib/python3.8/site-packages (from pycaret) (0.17.1)\n",
      "Requirement already satisfied: mlflow in /Users/seonghyeonma/opt/anaconda3/lib/python3.8/site-packages (from pycaret) (1.29.0)\n",
      "Requirement already satisfied: pyyaml<6.0.0 in /Users/seonghyeonma/opt/anaconda3/lib/python3.8/site-packages (from pycaret) (5.4.1)\n",
      "Requirement already satisfied: pyLDAvis in /Users/seonghyeonma/opt/anaconda3/lib/python3.8/site-packages (from pycaret) (3.2.2)\n",
      "Requirement already satisfied: lightgbm>=2.3.1 in /Users/seonghyeonma/opt/anaconda3/lib/python3.8/site-packages (from pycaret) (3.3.2)\n",
      "Requirement already satisfied: scipy<=1.5.4 in /Users/seonghyeonma/opt/anaconda3/lib/python3.8/site-packages (from pycaret) (1.5.4)\n",
      "Requirement already satisfied: numba<0.55 in /Users/seonghyeonma/opt/anaconda3/lib/python3.8/site-packages (from pycaret) (0.53.1)\n",
      "Requirement already satisfied: plotly>=4.4.1 in /Users/seonghyeonma/opt/anaconda3/lib/python3.8/site-packages (from pycaret) (5.6.0)\n",
      "Requirement already satisfied: gensim<4.0.0 in /Users/seonghyeonma/opt/anaconda3/lib/python3.8/site-packages (from pycaret) (3.8.3)\n",
      "Requirement already satisfied: matplotlib in /Users/seonghyeonma/opt/anaconda3/lib/python3.8/site-packages (from pycaret) (3.4.2)\n",
      "Requirement already satisfied: kmodes>=0.10.1 in /Users/seonghyeonma/opt/anaconda3/lib/python3.8/site-packages (from pycaret) (0.12.2)\n",
      "Requirement already satisfied: imbalanced-learn==0.7.0 in /Users/seonghyeonma/opt/anaconda3/lib/python3.8/site-packages (from pycaret) (0.7.0)\n",
      "Requirement already satisfied: wordcloud in /Users/seonghyeonma/opt/anaconda3/lib/python3.8/site-packages (from pycaret) (1.8.2.2)\n",
      "Requirement already satisfied: spacy<2.4.0 in /Users/seonghyeonma/opt/anaconda3/lib/python3.8/site-packages (from pycaret) (2.3.7)\n",
      "Requirement already satisfied: numpy>=1.13.3 in /Users/seonghyeonma/opt/anaconda3/lib/python3.8/site-packages (from imbalanced-learn==0.7.0->pycaret) (1.19.5)\n",
      "Requirement already satisfied: threadpoolctl>=2.0.0 in /Users/seonghyeonma/opt/anaconda3/lib/python3.8/site-packages (from scikit-learn==0.23.2->pycaret) (2.2.0)\n",
      "Requirement already satisfied: colorlover>=0.2.1 in /Users/seonghyeonma/opt/anaconda3/lib/python3.8/site-packages (from cufflinks>=0.17.0->pycaret) (0.3.0)\n",
      "Requirement already satisfied: setuptools>=34.4.1 in /Users/seonghyeonma/opt/anaconda3/lib/python3.8/site-packages (from cufflinks>=0.17.0->pycaret) (58.0.4)\n",
      "Requirement already satisfied: six>=1.9.0 in /Users/seonghyeonma/opt/anaconda3/lib/python3.8/site-packages (from cufflinks>=0.17.0->pycaret) (1.16.0)\n",
      "Requirement already satisfied: smart-open>=1.8.1 in /Users/seonghyeonma/opt/anaconda3/lib/python3.8/site-packages (from gensim<4.0.0->pycaret) (6.0.0)\n",
      "Requirement already satisfied: appnope in /Users/seonghyeonma/opt/anaconda3/lib/python3.8/site-packages (from IPython->pycaret) (0.1.2)\n",
      "Requirement already satisfied: backcall in /Users/seonghyeonma/opt/anaconda3/lib/python3.8/site-packages (from IPython->pycaret) (0.2.0)\n",
      "Requirement already satisfied: jedi>=0.16 in /Users/seonghyeonma/opt/anaconda3/lib/python3.8/site-packages (from IPython->pycaret) (0.17.2)\n",
      "Requirement already satisfied: matplotlib-inline in /Users/seonghyeonma/opt/anaconda3/lib/python3.8/site-packages (from IPython->pycaret) (0.1.2)\n",
      "Requirement already satisfied: pexpect>4.3 in /Users/seonghyeonma/opt/anaconda3/lib/python3.8/site-packages (from IPython->pycaret) (4.8.0)\n",
      "Requirement already satisfied: decorator in /Users/seonghyeonma/opt/anaconda3/lib/python3.8/site-packages (from IPython->pycaret) (5.1.0)\n",
      "Requirement already satisfied: pickleshare in /Users/seonghyeonma/opt/anaconda3/lib/python3.8/site-packages (from IPython->pycaret) (0.7.5)\n",
      "Requirement already satisfied: prompt-toolkit!=3.0.0,!=3.0.1,<3.1.0,>=2.0.0 in /Users/seonghyeonma/opt/anaconda3/lib/python3.8/site-packages (from IPython->pycaret) (3.0.20)\n",
      "Requirement already satisfied: pygments in /Users/seonghyeonma/opt/anaconda3/lib/python3.8/site-packages (from IPython->pycaret) (2.10.0)\n",
      "Requirement already satisfied: traitlets>=4.2 in /Users/seonghyeonma/opt/anaconda3/lib/python3.8/site-packages (from IPython->pycaret) (5.1.0)\n",
      "Requirement already satisfied: ipython-genutils~=0.2.0 in /Users/seonghyeonma/opt/anaconda3/lib/python3.8/site-packages (from ipywidgets->pycaret) (0.2.0)\n",
      "Requirement already satisfied: ipykernel>=4.5.1 in /Users/seonghyeonma/opt/anaconda3/lib/python3.8/site-packages (from ipywidgets->pycaret) (6.4.1)\n",
      "Requirement already satisfied: jupyterlab-widgets>=1.0.0 in /Users/seonghyeonma/opt/anaconda3/lib/python3.8/site-packages (from ipywidgets->pycaret) (1.0.0)\n",
      "Requirement already satisfied: nbformat>=4.2.0 in /Users/seonghyeonma/opt/anaconda3/lib/python3.8/site-packages (from ipywidgets->pycaret) (5.1.3)\n",
      "Requirement already satisfied: widgetsnbextension~=3.5.0 in /Users/seonghyeonma/opt/anaconda3/lib/python3.8/site-packages (from ipywidgets->pycaret) (3.5.1)\n",
      "Requirement already satisfied: jupyter-client<8.0 in /Users/seonghyeonma/opt/anaconda3/lib/python3.8/site-packages (from ipykernel>=4.5.1->ipywidgets->pycaret) (7.0.1)\n",
      "Requirement already satisfied: debugpy<2.0,>=1.0.0 in /Users/seonghyeonma/opt/anaconda3/lib/python3.8/site-packages (from ipykernel>=4.5.1->ipywidgets->pycaret) (1.4.1)\n",
      "Requirement already satisfied: tornado<7.0,>=4.2 in /Users/seonghyeonma/opt/anaconda3/lib/python3.8/site-packages (from ipykernel>=4.5.1->ipywidgets->pycaret) (6.1)\n",
      "Requirement already satisfied: parso<0.8.0,>=0.7.0 in /Users/seonghyeonma/opt/anaconda3/lib/python3.8/site-packages (from jedi>=0.16->IPython->pycaret) (0.7.0)\n",
      "Requirement already satisfied: pyzmq>=13 in /Users/seonghyeonma/opt/anaconda3/lib/python3.8/site-packages (from jupyter-client<8.0->ipykernel>=4.5.1->ipywidgets->pycaret) (22.2.1)\n",
      "Requirement already satisfied: nest-asyncio>=1.5 in /Users/seonghyeonma/opt/anaconda3/lib/python3.8/site-packages (from jupyter-client<8.0->ipykernel>=4.5.1->ipywidgets->pycaret) (1.5.1)\n",
      "Requirement already satisfied: python-dateutil>=2.1 in /Users/seonghyeonma/opt/anaconda3/lib/python3.8/site-packages (from jupyter-client<8.0->ipykernel>=4.5.1->ipywidgets->pycaret) (2.8.2)\n",
      "Requirement already satisfied: jupyter-core>=4.6.0 in /Users/seonghyeonma/opt/anaconda3/lib/python3.8/site-packages (from jupyter-client<8.0->ipykernel>=4.5.1->ipywidgets->pycaret) (4.8.1)\n",
      "Requirement already satisfied: entrypoints in /Users/seonghyeonma/opt/anaconda3/lib/python3.8/site-packages (from jupyter-client<8.0->ipykernel>=4.5.1->ipywidgets->pycaret) (0.3)\n",
      "Requirement already satisfied: wheel in /Users/seonghyeonma/opt/anaconda3/lib/python3.8/site-packages (from lightgbm>=2.3.1->pycaret) (0.37.0)\n",
      "Requirement already satisfied: pillow>=6.2.0 in /Users/seonghyeonma/opt/anaconda3/lib/python3.8/site-packages (from matplotlib->pycaret) (8.3.1)\n"
     ]
    },
    {
     "name": "stdout",
     "output_type": "stream",
     "text": [
      "Requirement already satisfied: kiwisolver>=1.0.1 in /Users/seonghyeonma/opt/anaconda3/lib/python3.8/site-packages (from matplotlib->pycaret) (1.3.1)\n",
      "Requirement already satisfied: cycler>=0.10 in /Users/seonghyeonma/opt/anaconda3/lib/python3.8/site-packages (from matplotlib->pycaret) (0.10.0)\n",
      "Requirement already satisfied: pyparsing>=2.2.1 in /Users/seonghyeonma/opt/anaconda3/lib/python3.8/site-packages (from matplotlib->pycaret) (2.4.7)\n",
      "Requirement already satisfied: jsonschema!=2.5.0,>=2.4 in /Users/seonghyeonma/opt/anaconda3/lib/python3.8/site-packages (from nbformat>=4.2.0->ipywidgets->pycaret) (3.2.0)\n",
      "Requirement already satisfied: pyrsistent>=0.14.0 in /Users/seonghyeonma/opt/anaconda3/lib/python3.8/site-packages (from jsonschema!=2.5.0,>=2.4->nbformat>=4.2.0->ipywidgets->pycaret) (0.17.3)\n",
      "Requirement already satisfied: attrs>=17.4.0 in /Users/seonghyeonma/opt/anaconda3/lib/python3.8/site-packages (from jsonschema!=2.5.0,>=2.4->nbformat>=4.2.0->ipywidgets->pycaret) (21.2.0)\n",
      "Requirement already satisfied: llvmlite<0.37,>=0.36.0rc1 in /Users/seonghyeonma/opt/anaconda3/lib/python3.8/site-packages (from numba<0.55->pycaret) (0.36.0)\n",
      "Requirement already satisfied: pytz>=2017.3 in /Users/seonghyeonma/opt/anaconda3/lib/python3.8/site-packages (from pandas->pycaret) (2021.3)\n",
      "Requirement already satisfied: missingno<0.6,>=0.4.2 in /Users/seonghyeonma/opt/anaconda3/lib/python3.8/site-packages (from pandas-profiling>=2.8.0->pycaret) (0.5.1)\n",
      "Requirement already satisfied: pydantic<1.10,>=1.8.1 in /Users/seonghyeonma/opt/anaconda3/lib/python3.8/site-packages (from pandas-profiling>=2.8.0->pycaret) (1.9.2)\n",
      "Requirement already satisfied: htmlmin==0.1.12 in /Users/seonghyeonma/opt/anaconda3/lib/python3.8/site-packages (from pandas-profiling>=2.8.0->pycaret) (0.1.12)\n",
      "Requirement already satisfied: statsmodels<0.14,>=0.13.2 in /Users/seonghyeonma/opt/anaconda3/lib/python3.8/site-packages (from pandas-profiling>=2.8.0->pycaret) (0.13.2)\n",
      "Requirement already satisfied: jinja2<3.2,>=2.11.1 in /Users/seonghyeonma/opt/anaconda3/lib/python3.8/site-packages (from pandas-profiling>=2.8.0->pycaret) (3.1.2)\n",
      "Requirement already satisfied: tqdm<4.65,>=4.48.2 in /Users/seonghyeonma/opt/anaconda3/lib/python3.8/site-packages (from pandas-profiling>=2.8.0->pycaret) (4.62.2)\n",
      "Requirement already satisfied: phik<0.13,>=0.11.1 in /Users/seonghyeonma/opt/anaconda3/lib/python3.8/site-packages (from pandas-profiling>=2.8.0->pycaret) (0.12.2)\n",
      "Requirement already satisfied: tangled-up-in-unicode==0.2.0 in /Users/seonghyeonma/opt/anaconda3/lib/python3.8/site-packages (from pandas-profiling>=2.8.0->pycaret) (0.2.0)\n",
      "Requirement already satisfied: multimethod<1.9,>=1.4 in /Users/seonghyeonma/opt/anaconda3/lib/python3.8/site-packages (from pandas-profiling>=2.8.0->pycaret) (1.8)\n",
      "Requirement already satisfied: visions[type_image_path]==0.7.5 in /Users/seonghyeonma/opt/anaconda3/lib/python3.8/site-packages (from pandas-profiling>=2.8.0->pycaret) (0.7.5)\n",
      "Requirement already satisfied: requests<2.29,>=2.24.0 in /Users/seonghyeonma/opt/anaconda3/lib/python3.8/site-packages (from pandas-profiling>=2.8.0->pycaret) (2.26.0)\n",
      "Requirement already satisfied: networkx>=2.4 in /Users/seonghyeonma/opt/anaconda3/lib/python3.8/site-packages (from visions[type_image_path]==0.7.5->pandas-profiling>=2.8.0->pycaret) (2.6.3)\n",
      "Requirement already satisfied: imagehash in /Users/seonghyeonma/opt/anaconda3/lib/python3.8/site-packages (from visions[type_image_path]==0.7.5->pandas-profiling>=2.8.0->pycaret) (4.3.0)\n",
      "Requirement already satisfied: MarkupSafe>=2.0 in /Users/seonghyeonma/opt/anaconda3/lib/python3.8/site-packages (from jinja2<3.2,>=2.11.1->pandas-profiling>=2.8.0->pycaret) (2.0.1)\n",
      "Requirement already satisfied: ptyprocess>=0.5 in /Users/seonghyeonma/opt/anaconda3/lib/python3.8/site-packages (from pexpect>4.3->IPython->pycaret) (0.7.0)\n",
      "Requirement already satisfied: tenacity>=6.2.0 in /Users/seonghyeonma/opt/anaconda3/lib/python3.8/site-packages (from plotly>=4.4.1->pycaret) (8.0.1)\n",
      "Requirement already satisfied: wcwidth in /Users/seonghyeonma/opt/anaconda3/lib/python3.8/site-packages (from prompt-toolkit!=3.0.0,!=3.0.1,<3.1.0,>=2.0.0->IPython->pycaret) (0.2.5)\n",
      "Requirement already satisfied: typing-extensions>=3.7.4.3 in /Users/seonghyeonma/opt/anaconda3/lib/python3.8/site-packages (from pydantic<1.10,>=1.8.1->pandas-profiling>=2.8.0->pycaret) (3.10.0.2)\n",
      "Requirement already satisfied: certifi>=2017.4.17 in /Users/seonghyeonma/opt/anaconda3/lib/python3.8/site-packages (from requests<2.29,>=2.24.0->pandas-profiling>=2.8.0->pycaret) (2021.10.8)\n",
      "Requirement already satisfied: urllib3<1.27,>=1.21.1 in /Users/seonghyeonma/opt/anaconda3/lib/python3.8/site-packages (from requests<2.29,>=2.24.0->pandas-profiling>=2.8.0->pycaret) (1.26.7)\n",
      "Requirement already satisfied: charset-normalizer~=2.0.0 in /Users/seonghyeonma/opt/anaconda3/lib/python3.8/site-packages (from requests<2.29,>=2.24.0->pandas-profiling>=2.8.0->pycaret) (2.0.4)\n",
      "Requirement already satisfied: idna<4,>=2.5 in /Users/seonghyeonma/opt/anaconda3/lib/python3.8/site-packages (from requests<2.29,>=2.24.0->pandas-profiling>=2.8.0->pycaret) (3.2)\n",
      "Requirement already satisfied: plac<1.2.0,>=0.9.6 in /Users/seonghyeonma/opt/anaconda3/lib/python3.8/site-packages (from spacy<2.4.0->pycaret) (1.1.3)\n",
      "Requirement already satisfied: cymem<2.1.0,>=2.0.2 in /Users/seonghyeonma/opt/anaconda3/lib/python3.8/site-packages (from spacy<2.4.0->pycaret) (2.0.6)\n",
      "Requirement already satisfied: wasabi<1.1.0,>=0.4.0 in /Users/seonghyeonma/opt/anaconda3/lib/python3.8/site-packages (from spacy<2.4.0->pycaret) (0.10.1)\n",
      "Requirement already satisfied: srsly<1.1.0,>=1.0.2 in /Users/seonghyeonma/opt/anaconda3/lib/python3.8/site-packages (from spacy<2.4.0->pycaret) (1.0.5)\n",
      "Requirement already satisfied: catalogue<1.1.0,>=0.0.7 in /Users/seonghyeonma/opt/anaconda3/lib/python3.8/site-packages (from spacy<2.4.0->pycaret) (1.0.0)\n",
      "Requirement already satisfied: blis<0.8.0,>=0.4.0 in /Users/seonghyeonma/opt/anaconda3/lib/python3.8/site-packages (from spacy<2.4.0->pycaret) (0.7.8)\n",
      "Requirement already satisfied: preshed<3.1.0,>=3.0.2 in /Users/seonghyeonma/opt/anaconda3/lib/python3.8/site-packages (from spacy<2.4.0->pycaret) (3.0.7)\n",
      "Requirement already satisfied: murmurhash<1.1.0,>=0.28.0 in /Users/seonghyeonma/opt/anaconda3/lib/python3.8/site-packages (from spacy<2.4.0->pycaret) (1.0.8)\n",
      "Requirement already satisfied: thinc<7.5.0,>=7.4.1 in /Users/seonghyeonma/opt/anaconda3/lib/python3.8/site-packages (from spacy<2.4.0->pycaret) (7.4.5)\n",
      "Requirement already satisfied: patsy>=0.5.2 in /Users/seonghyeonma/opt/anaconda3/lib/python3.8/site-packages (from statsmodels<0.14,>=0.13.2->pandas-profiling>=2.8.0->pycaret) (0.5.2)\n",
      "Requirement already satisfied: packaging>=21.3 in /Users/seonghyeonma/opt/anaconda3/lib/python3.8/site-packages (from statsmodels<0.14,>=0.13.2->pandas-profiling>=2.8.0->pycaret) (21.3)\n",
      "Requirement already satisfied: notebook>=4.4.1 in /Users/seonghyeonma/opt/anaconda3/lib/python3.8/site-packages (from widgetsnbextension~=3.5.0->ipywidgets->pycaret) (6.4.3)\n",
      "Requirement already satisfied: prometheus-client in /Users/seonghyeonma/opt/anaconda3/lib/python3.8/site-packages (from notebook>=4.4.1->widgetsnbextension~=3.5.0->ipywidgets->pycaret) (0.11.0)\n",
      "Requirement already satisfied: nbconvert in /Users/seonghyeonma/.local/lib/python3.8/site-packages (from notebook>=4.4.1->widgetsnbextension~=3.5.0->ipywidgets->pycaret) (7.0.0)\n",
      "Requirement already satisfied: argon2-cffi in /Users/seonghyeonma/opt/anaconda3/lib/python3.8/site-packages (from notebook>=4.4.1->widgetsnbextension~=3.5.0->ipywidgets->pycaret) (20.1.0)\n",
      "Requirement already satisfied: Send2Trash>=1.5.0 in /Users/seonghyeonma/opt/anaconda3/lib/python3.8/site-packages (from notebook>=4.4.1->widgetsnbextension~=3.5.0->ipywidgets->pycaret) (1.8.0)\n",
      "Requirement already satisfied: terminado>=0.8.3 in /Users/seonghyeonma/opt/anaconda3/lib/python3.8/site-packages (from notebook>=4.4.1->widgetsnbextension~=3.5.0->ipywidgets->pycaret) (0.9.4)\n",
      "Requirement already satisfied: cffi>=1.0.0 in /Users/seonghyeonma/opt/anaconda3/lib/python3.8/site-packages (from argon2-cffi->notebook>=4.4.1->widgetsnbextension~=3.5.0->ipywidgets->pycaret) (1.14.0)\n",
      "Requirement already satisfied: pycparser in /Users/seonghyeonma/opt/anaconda3/lib/python3.8/site-packages (from cffi>=1.0.0->argon2-cffi->notebook>=4.4.1->widgetsnbextension~=3.5.0->ipywidgets->pycaret) (2.20)\n"
     ]
    },
    {
     "name": "stdout",
     "output_type": "stream",
     "text": [
      "Requirement already satisfied: PyWavelets in /Users/seonghyeonma/opt/anaconda3/lib/python3.8/site-packages (from imagehash->visions[type_image_path]==0.7.5->pandas-profiling>=2.8.0->pycaret) (1.1.1)\n",
      "Requirement already satisfied: gitpython<4,>=2.1.0 in /Users/seonghyeonma/opt/anaconda3/lib/python3.8/site-packages (from mlflow->pycaret) (3.1.27)\n",
      "Requirement already satisfied: cloudpickle<3 in /Users/seonghyeonma/opt/anaconda3/lib/python3.8/site-packages (from mlflow->pycaret) (2.0.0)\n",
      "Requirement already satisfied: protobuf<5,>=3.12.0 in /Users/seonghyeonma/opt/anaconda3/lib/python3.8/site-packages (from mlflow->pycaret) (3.20.1)\n",
      "Requirement already satisfied: Flask<3 in /Users/seonghyeonma/opt/anaconda3/lib/python3.8/site-packages (from mlflow->pycaret) (1.1.2)\n",
      "Requirement already satisfied: sqlparse<1,>=0.4.0 in /Users/seonghyeonma/opt/anaconda3/lib/python3.8/site-packages (from mlflow->pycaret) (0.4.3)\n",
      "Requirement already satisfied: click<9,>=7.0 in /Users/seonghyeonma/opt/anaconda3/lib/python3.8/site-packages (from mlflow->pycaret) (8.0.1)\n",
      "Requirement already satisfied: databricks-cli<1,>=0.8.7 in /Users/seonghyeonma/opt/anaconda3/lib/python3.8/site-packages (from mlflow->pycaret) (0.17.3)\n",
      "Requirement already satisfied: sqlalchemy<2,>=1.4.0 in /Users/seonghyeonma/opt/anaconda3/lib/python3.8/site-packages (from mlflow->pycaret) (1.4.22)\n",
      "Requirement already satisfied: gunicorn<21 in /Users/seonghyeonma/opt/anaconda3/lib/python3.8/site-packages (from mlflow->pycaret) (20.1.0)\n",
      "Requirement already satisfied: alembic<2 in /Users/seonghyeonma/opt/anaconda3/lib/python3.8/site-packages (from mlflow->pycaret) (1.8.1)\n",
      "Requirement already satisfied: importlib-metadata!=4.7.0,<5,>=3.7.0 in /Users/seonghyeonma/opt/anaconda3/lib/python3.8/site-packages (from mlflow->pycaret) (4.8.1)\n",
      "Requirement already satisfied: docker<7,>=4.0.0 in /Users/seonghyeonma/opt/anaconda3/lib/python3.8/site-packages (from mlflow->pycaret) (6.0.0)\n",
      "Requirement already satisfied: prometheus-flask-exporter<1 in /Users/seonghyeonma/opt/anaconda3/lib/python3.8/site-packages (from mlflow->pycaret) (0.20.3)\n",
      "Requirement already satisfied: querystring-parser<2 in /Users/seonghyeonma/opt/anaconda3/lib/python3.8/site-packages (from mlflow->pycaret) (1.2.4)\n",
      "Requirement already satisfied: Mako in /Users/seonghyeonma/opt/anaconda3/lib/python3.8/site-packages (from alembic<2->mlflow->pycaret) (1.2.3)\n",
      "Requirement already satisfied: importlib-resources in /Users/seonghyeonma/opt/anaconda3/lib/python3.8/site-packages (from alembic<2->mlflow->pycaret) (5.2.3)\n",
      "Requirement already satisfied: pyjwt>=1.7.0 in /Users/seonghyeonma/opt/anaconda3/lib/python3.8/site-packages (from databricks-cli<1,>=0.8.7->mlflow->pycaret) (2.1.0)\n",
      "Requirement already satisfied: tabulate>=0.7.7 in /Users/seonghyeonma/opt/anaconda3/lib/python3.8/site-packages (from databricks-cli<1,>=0.8.7->mlflow->pycaret) (0.8.9)\n",
      "Requirement already satisfied: oauthlib>=3.1.0 in /Users/seonghyeonma/opt/anaconda3/lib/python3.8/site-packages (from databricks-cli<1,>=0.8.7->mlflow->pycaret) (3.2.0)\n",
      "Requirement already satisfied: websocket-client>=0.32.0 in /Users/seonghyeonma/opt/anaconda3/lib/python3.8/site-packages (from docker<7,>=4.0.0->mlflow->pycaret) (1.4.1)\n",
      "Requirement already satisfied: itsdangerous>=0.24 in /Users/seonghyeonma/opt/anaconda3/lib/python3.8/site-packages (from Flask<3->mlflow->pycaret) (2.0.1)\n",
      "Requirement already satisfied: Werkzeug>=0.15 in /Users/seonghyeonma/opt/anaconda3/lib/python3.8/site-packages (from Flask<3->mlflow->pycaret) (2.0.1)\n",
      "Requirement already satisfied: gitdb<5,>=4.0.1 in /Users/seonghyeonma/opt/anaconda3/lib/python3.8/site-packages (from gitpython<4,>=2.1.0->mlflow->pycaret) (4.0.9)\n",
      "Requirement already satisfied: smmap<6,>=3.0.1 in /Users/seonghyeonma/opt/anaconda3/lib/python3.8/site-packages (from gitdb<5,>=4.0.1->gitpython<4,>=2.1.0->mlflow->pycaret) (5.0.0)\n",
      "Requirement already satisfied: zipp>=0.5 in /Users/seonghyeonma/opt/anaconda3/lib/python3.8/site-packages (from importlib-metadata!=4.7.0,<5,>=3.7.0->mlflow->pycaret) (3.6.0)\n",
      "Requirement already satisfied: greenlet!=0.4.17 in /Users/seonghyeonma/opt/anaconda3/lib/python3.8/site-packages (from sqlalchemy<2,>=1.4.0->mlflow->pycaret) (1.1.1)\n",
      "Requirement already satisfied: defusedxml in /Users/seonghyeonma/opt/anaconda3/lib/python3.8/site-packages (from nbconvert->notebook>=4.4.1->widgetsnbextension~=3.5.0->ipywidgets->pycaret) (0.7.1)\n",
      "Requirement already satisfied: bleach in /Users/seonghyeonma/opt/anaconda3/lib/python3.8/site-packages (from nbconvert->notebook>=4.4.1->widgetsnbextension~=3.5.0->ipywidgets->pycaret) (4.0.0)\n",
      "Requirement already satisfied: tinycss2 in /Users/seonghyeonma/.local/lib/python3.8/site-packages (from nbconvert->notebook>=4.4.1->widgetsnbextension~=3.5.0->ipywidgets->pycaret) (1.1.1)\n",
      "Requirement already satisfied: beautifulsoup4 in /Users/seonghyeonma/opt/anaconda3/lib/python3.8/site-packages (from nbconvert->notebook>=4.4.1->widgetsnbextension~=3.5.0->ipywidgets->pycaret) (4.10.0)\n",
      "Requirement already satisfied: lxml in /Users/seonghyeonma/opt/anaconda3/lib/python3.8/site-packages (from nbconvert->notebook>=4.4.1->widgetsnbextension~=3.5.0->ipywidgets->pycaret) (4.6.3)\n",
      "Requirement already satisfied: mistune<3,>=2.0.3 in /Users/seonghyeonma/.local/lib/python3.8/site-packages (from nbconvert->notebook>=4.4.1->widgetsnbextension~=3.5.0->ipywidgets->pycaret) (2.0.4)\n",
      "Requirement already satisfied: jupyterlab-pygments in /Users/seonghyeonma/opt/anaconda3/lib/python3.8/site-packages (from nbconvert->notebook>=4.4.1->widgetsnbextension~=3.5.0->ipywidgets->pycaret) (0.1.2)\n",
      "Requirement already satisfied: pandocfilters>=1.4.1 in /Users/seonghyeonma/opt/anaconda3/lib/python3.8/site-packages (from nbconvert->notebook>=4.4.1->widgetsnbextension~=3.5.0->ipywidgets->pycaret) (1.4.3)\n",
      "Requirement already satisfied: nbclient>=0.5.0 in /Users/seonghyeonma/opt/anaconda3/lib/python3.8/site-packages (from nbconvert->notebook>=4.4.1->widgetsnbextension~=3.5.0->ipywidgets->pycaret) (0.5.3)\n",
      "Requirement already satisfied: async-generator in /Users/seonghyeonma/opt/anaconda3/lib/python3.8/site-packages (from nbclient>=0.5.0->nbconvert->notebook>=4.4.1->widgetsnbextension~=3.5.0->ipywidgets->pycaret) (1.10)\n",
      "Requirement already satisfied: soupsieve>1.2 in /Users/seonghyeonma/opt/anaconda3/lib/python3.8/site-packages (from beautifulsoup4->nbconvert->notebook>=4.4.1->widgetsnbextension~=3.5.0->ipywidgets->pycaret) (2.2.1)\n",
      "Requirement already satisfied: webencodings in /Users/seonghyeonma/opt/anaconda3/lib/python3.8/site-packages (from bleach->nbconvert->notebook>=4.4.1->widgetsnbextension~=3.5.0->ipywidgets->pycaret) (0.5.1)\n",
      "Requirement already satisfied: regex in /Users/seonghyeonma/opt/anaconda3/lib/python3.8/site-packages (from nltk->pycaret) (2021.8.3)\n",
      "Requirement already satisfied: future in /Users/seonghyeonma/opt/anaconda3/lib/python3.8/site-packages (from pyLDAvis->pycaret) (0.18.2)\n",
      "Requirement already satisfied: funcy in /Users/seonghyeonma/opt/anaconda3/lib/python3.8/site-packages (from pyLDAvis->pycaret) (1.17)\n",
      "Requirement already satisfied: numexpr in /Users/seonghyeonma/opt/anaconda3/lib/python3.8/site-packages (from pyLDAvis->pycaret) (2.7.3)\n",
      "Requirement already satisfied: pynndescent>=0.5 in /Users/seonghyeonma/opt/anaconda3/lib/python3.8/site-packages (from umap-learn->pycaret) (0.5.7)\n",
      "Note: you may need to restart the kernel to use updated packages.\n"
     ]
    }
   ],
   "source": [
    "pip install pycaret"
   ]
  },
  {
   "cell_type": "code",
   "execution_count": 8,
   "id": "202912d1",
   "metadata": {},
   "outputs": [
    {
     "ename": "OSError",
     "evalue": "dlopen(/Users/seonghyeonma/opt/anaconda3/lib/python3.8/site-packages/lightgbm/lib_lightgbm.so, 0x0006): Library not loaded: /usr/local/opt/libomp/lib/libomp.dylib\n  Referenced from: /Users/seonghyeonma/opt/anaconda3/lib/python3.8/site-packages/lightgbm/lib_lightgbm.so\n  Reason: tried: '/usr/local/opt/libomp/lib/libomp.dylib' (no such file), '/usr/local/lib/libomp.dylib' (no such file), '/usr/lib/libomp.dylib' (no such file)",
     "output_type": "error",
     "traceback": [
      "\u001b[0;31m---------------------------------------------------------------------------\u001b[0m",
      "\u001b[0;31mOSError\u001b[0m                                   Traceback (most recent call last)",
      "\u001b[0;32m/var/folders/nz/160bjb610xj3r4wkpjkgnw940000gn/T/ipykernel_7142/4114846614.py\u001b[0m in \u001b[0;36m<module>\u001b[0;34m\u001b[0m\n\u001b[1;32m      1\u001b[0m \u001b[0;32mimport\u001b[0m \u001b[0mjinja2\u001b[0m\u001b[0;34m\u001b[0m\u001b[0;34m\u001b[0m\u001b[0m\n\u001b[0;32m----> 2\u001b[0;31m \u001b[0;32mfrom\u001b[0m \u001b[0mpycaret\u001b[0m\u001b[0;34m.\u001b[0m\u001b[0mclassification\u001b[0m \u001b[0;32mimport\u001b[0m \u001b[0;34m*\u001b[0m\u001b[0;34m\u001b[0m\u001b[0;34m\u001b[0m\u001b[0m\n\u001b[0m\u001b[1;32m      3\u001b[0m clf = setup(\n\u001b[1;32m      4\u001b[0m     \u001b[0mdata\u001b[0m \u001b[0;34m=\u001b[0m \u001b[0mtrain\u001b[0m\u001b[0;34m,\u001b[0m\u001b[0;34m\u001b[0m\u001b[0;34m\u001b[0m\u001b[0m\n\u001b[1;32m      5\u001b[0m     \u001b[0mtrain_size\u001b[0m\u001b[0;34m=\u001b[0m\u001b[0;36m0.8\u001b[0m\u001b[0;34m,\u001b[0m\u001b[0;34m\u001b[0m\u001b[0;34m\u001b[0m\u001b[0m\n",
      "\u001b[0;32m~/opt/anaconda3/lib/python3.8/site-packages/pycaret/classification.py\u001b[0m in \u001b[0;36m<module>\u001b[0;34m\u001b[0m\n\u001b[1;32m      8\u001b[0m \u001b[0;32mimport\u001b[0m \u001b[0mnumpy\u001b[0m \u001b[0;32mas\u001b[0m \u001b[0mnp\u001b[0m\u001b[0;34m\u001b[0m\u001b[0;34m\u001b[0m\u001b[0m\n\u001b[1;32m      9\u001b[0m \u001b[0;34m\u001b[0m\u001b[0m\n\u001b[0;32m---> 10\u001b[0;31m \u001b[0;32mimport\u001b[0m \u001b[0mpycaret\u001b[0m\u001b[0;34m.\u001b[0m\u001b[0minternal\u001b[0m\u001b[0;34m.\u001b[0m\u001b[0mtabular\u001b[0m\u001b[0;34m\u001b[0m\u001b[0;34m\u001b[0m\u001b[0m\n\u001b[0m\u001b[1;32m     11\u001b[0m \u001b[0;32mfrom\u001b[0m \u001b[0mpycaret\u001b[0m\u001b[0;34m.\u001b[0m\u001b[0mloggers\u001b[0m\u001b[0;34m.\u001b[0m\u001b[0mbase_logger\u001b[0m \u001b[0;32mimport\u001b[0m \u001b[0mBaseLogger\u001b[0m\u001b[0;34m\u001b[0m\u001b[0;34m\u001b[0m\u001b[0m\n\u001b[1;32m     12\u001b[0m \u001b[0;32mfrom\u001b[0m \u001b[0mpycaret\u001b[0m\u001b[0;34m.\u001b[0m\u001b[0mparallel\u001b[0m \u001b[0;32mimport\u001b[0m \u001b[0mParallelBackend\u001b[0m\u001b[0;34m\u001b[0m\u001b[0;34m\u001b[0m\u001b[0m\n",
      "\u001b[0;32m~/opt/anaconda3/lib/python3.8/site-packages/pycaret/internal/tabular.py\u001b[0m in \u001b[0;36m<module>\u001b[0;34m\u001b[0m\n\u001b[1;32m     52\u001b[0m \u001b[0;32mimport\u001b[0m \u001b[0mpycaret\u001b[0m\u001b[0;34m.\u001b[0m\u001b[0mcontainers\u001b[0m\u001b[0;34m.\u001b[0m\u001b[0mmodels\u001b[0m\u001b[0;34m.\u001b[0m\u001b[0mclustering\u001b[0m\u001b[0;34m\u001b[0m\u001b[0;34m\u001b[0m\u001b[0m\n\u001b[1;32m     53\u001b[0m \u001b[0;32mimport\u001b[0m \u001b[0mpycaret\u001b[0m\u001b[0;34m.\u001b[0m\u001b[0mcontainers\u001b[0m\u001b[0;34m.\u001b[0m\u001b[0mmodels\u001b[0m\u001b[0;34m.\u001b[0m\u001b[0manomaly\u001b[0m\u001b[0;34m\u001b[0m\u001b[0;34m\u001b[0m\u001b[0m\n\u001b[0;32m---> 54\u001b[0;31m \u001b[0;32mimport\u001b[0m \u001b[0mpycaret\u001b[0m\u001b[0;34m.\u001b[0m\u001b[0minternal\u001b[0m\u001b[0;34m.\u001b[0m\u001b[0mpreprocess\u001b[0m\u001b[0;34m\u001b[0m\u001b[0;34m\u001b[0m\u001b[0m\n\u001b[0m\u001b[1;32m     55\u001b[0m \u001b[0;32mimport\u001b[0m \u001b[0mpandas\u001b[0m \u001b[0;32mas\u001b[0m \u001b[0mpd\u001b[0m\u001b[0;34m\u001b[0m\u001b[0;34m\u001b[0m\u001b[0m\n\u001b[1;32m     56\u001b[0m \u001b[0;32mimport\u001b[0m \u001b[0mnumpy\u001b[0m \u001b[0;32mas\u001b[0m \u001b[0mnp\u001b[0m\u001b[0;34m\u001b[0m\u001b[0;34m\u001b[0m\u001b[0m\n",
      "\u001b[0;32m~/opt/anaconda3/lib/python3.8/site-packages/pycaret/internal/preprocess.py\u001b[0m in \u001b[0;36m<module>\u001b[0;34m\u001b[0m\n\u001b[1;32m     32\u001b[0m \u001b[0;32mfrom\u001b[0m \u001b[0msklearn\u001b[0m\u001b[0;34m.\u001b[0m\u001b[0mensemble\u001b[0m \u001b[0;32mimport\u001b[0m \u001b[0mRandomForestClassifier\u001b[0m \u001b[0;32mas\u001b[0m \u001b[0mrfc\u001b[0m\u001b[0;34m\u001b[0m\u001b[0;34m\u001b[0m\u001b[0m\n\u001b[1;32m     33\u001b[0m \u001b[0;32mfrom\u001b[0m \u001b[0msklearn\u001b[0m\u001b[0;34m.\u001b[0m\u001b[0mensemble\u001b[0m \u001b[0;32mimport\u001b[0m \u001b[0mRandomForestRegressor\u001b[0m \u001b[0;32mas\u001b[0m \u001b[0mrfr\u001b[0m\u001b[0;34m\u001b[0m\u001b[0;34m\u001b[0m\u001b[0m\n\u001b[0;32m---> 34\u001b[0;31m \u001b[0;32mfrom\u001b[0m \u001b[0mlightgbm\u001b[0m \u001b[0;32mimport\u001b[0m \u001b[0mLGBMClassifier\u001b[0m \u001b[0;32mas\u001b[0m \u001b[0mlgbmc\u001b[0m\u001b[0;34m\u001b[0m\u001b[0;34m\u001b[0m\u001b[0m\n\u001b[0m\u001b[1;32m     35\u001b[0m \u001b[0;32mfrom\u001b[0m \u001b[0mlightgbm\u001b[0m \u001b[0;32mimport\u001b[0m \u001b[0mLGBMRegressor\u001b[0m \u001b[0;32mas\u001b[0m \u001b[0mlgbmr\u001b[0m\u001b[0;34m\u001b[0m\u001b[0;34m\u001b[0m\u001b[0m\n\u001b[1;32m     36\u001b[0m \u001b[0;32mimport\u001b[0m \u001b[0msys\u001b[0m\u001b[0;34m\u001b[0m\u001b[0;34m\u001b[0m\u001b[0m\n",
      "\u001b[0;32m~/opt/anaconda3/lib/python3.8/site-packages/lightgbm/__init__.py\u001b[0m in \u001b[0;36m<module>\u001b[0;34m\u001b[0m\n\u001b[1;32m      6\u001b[0m \u001b[0;32mfrom\u001b[0m \u001b[0mpathlib\u001b[0m \u001b[0;32mimport\u001b[0m \u001b[0mPath\u001b[0m\u001b[0;34m\u001b[0m\u001b[0;34m\u001b[0m\u001b[0m\n\u001b[1;32m      7\u001b[0m \u001b[0;34m\u001b[0m\u001b[0m\n\u001b[0;32m----> 8\u001b[0;31m \u001b[0;32mfrom\u001b[0m \u001b[0;34m.\u001b[0m\u001b[0mbasic\u001b[0m \u001b[0;32mimport\u001b[0m \u001b[0mBooster\u001b[0m\u001b[0;34m,\u001b[0m \u001b[0mDataset\u001b[0m\u001b[0;34m,\u001b[0m \u001b[0mSequence\u001b[0m\u001b[0;34m,\u001b[0m \u001b[0mregister_logger\u001b[0m\u001b[0;34m\u001b[0m\u001b[0;34m\u001b[0m\u001b[0m\n\u001b[0m\u001b[1;32m      9\u001b[0m \u001b[0;32mfrom\u001b[0m \u001b[0;34m.\u001b[0m\u001b[0mcallback\u001b[0m \u001b[0;32mimport\u001b[0m \u001b[0mearly_stopping\u001b[0m\u001b[0;34m,\u001b[0m \u001b[0mlog_evaluation\u001b[0m\u001b[0;34m,\u001b[0m \u001b[0mprint_evaluation\u001b[0m\u001b[0;34m,\u001b[0m \u001b[0mrecord_evaluation\u001b[0m\u001b[0;34m,\u001b[0m \u001b[0mreset_parameter\u001b[0m\u001b[0;34m\u001b[0m\u001b[0;34m\u001b[0m\u001b[0m\n\u001b[1;32m     10\u001b[0m \u001b[0;32mfrom\u001b[0m \u001b[0;34m.\u001b[0m\u001b[0mengine\u001b[0m \u001b[0;32mimport\u001b[0m \u001b[0mCVBooster\u001b[0m\u001b[0;34m,\u001b[0m \u001b[0mcv\u001b[0m\u001b[0;34m,\u001b[0m \u001b[0mtrain\u001b[0m\u001b[0;34m\u001b[0m\u001b[0;34m\u001b[0m\u001b[0m\n",
      "\u001b[0;32m~/opt/anaconda3/lib/python3.8/site-packages/lightgbm/basic.py\u001b[0m in \u001b[0;36m<module>\u001b[0;34m\u001b[0m\n\u001b[1;32m    108\u001b[0m \u001b[0;34m\u001b[0m\u001b[0m\n\u001b[1;32m    109\u001b[0m \u001b[0;34m\u001b[0m\u001b[0m\n\u001b[0;32m--> 110\u001b[0;31m \u001b[0m_LIB\u001b[0m \u001b[0;34m=\u001b[0m \u001b[0m_load_lib\u001b[0m\u001b[0;34m(\u001b[0m\u001b[0;34m)\u001b[0m\u001b[0;34m\u001b[0m\u001b[0;34m\u001b[0m\u001b[0m\n\u001b[0m\u001b[1;32m    111\u001b[0m \u001b[0;34m\u001b[0m\u001b[0m\n\u001b[1;32m    112\u001b[0m \u001b[0;34m\u001b[0m\u001b[0m\n",
      "\u001b[0;32m~/opt/anaconda3/lib/python3.8/site-packages/lightgbm/basic.py\u001b[0m in \u001b[0;36m_load_lib\u001b[0;34m()\u001b[0m\n\u001b[1;32m     99\u001b[0m     \u001b[0;32mif\u001b[0m \u001b[0mlen\u001b[0m\u001b[0;34m(\u001b[0m\u001b[0mlib_path\u001b[0m\u001b[0;34m)\u001b[0m \u001b[0;34m==\u001b[0m \u001b[0;36m0\u001b[0m\u001b[0;34m:\u001b[0m\u001b[0;34m\u001b[0m\u001b[0;34m\u001b[0m\u001b[0m\n\u001b[1;32m    100\u001b[0m         \u001b[0;32mreturn\u001b[0m \u001b[0;32mNone\u001b[0m\u001b[0;34m\u001b[0m\u001b[0;34m\u001b[0m\u001b[0m\n\u001b[0;32m--> 101\u001b[0;31m     \u001b[0mlib\u001b[0m \u001b[0;34m=\u001b[0m \u001b[0mctypes\u001b[0m\u001b[0;34m.\u001b[0m\u001b[0mcdll\u001b[0m\u001b[0;34m.\u001b[0m\u001b[0mLoadLibrary\u001b[0m\u001b[0;34m(\u001b[0m\u001b[0mlib_path\u001b[0m\u001b[0;34m[\u001b[0m\u001b[0;36m0\u001b[0m\u001b[0;34m]\u001b[0m\u001b[0;34m)\u001b[0m\u001b[0;34m\u001b[0m\u001b[0;34m\u001b[0m\u001b[0m\n\u001b[0m\u001b[1;32m    102\u001b[0m     \u001b[0mlib\u001b[0m\u001b[0;34m.\u001b[0m\u001b[0mLGBM_GetLastError\u001b[0m\u001b[0;34m.\u001b[0m\u001b[0mrestype\u001b[0m \u001b[0;34m=\u001b[0m \u001b[0mctypes\u001b[0m\u001b[0;34m.\u001b[0m\u001b[0mc_char_p\u001b[0m\u001b[0;34m\u001b[0m\u001b[0;34m\u001b[0m\u001b[0m\n\u001b[1;32m    103\u001b[0m     \u001b[0mcallback\u001b[0m \u001b[0;34m=\u001b[0m \u001b[0mctypes\u001b[0m\u001b[0;34m.\u001b[0m\u001b[0mCFUNCTYPE\u001b[0m\u001b[0;34m(\u001b[0m\u001b[0;32mNone\u001b[0m\u001b[0;34m,\u001b[0m \u001b[0mctypes\u001b[0m\u001b[0;34m.\u001b[0m\u001b[0mc_char_p\u001b[0m\u001b[0;34m)\u001b[0m\u001b[0;34m\u001b[0m\u001b[0;34m\u001b[0m\u001b[0m\n",
      "\u001b[0;32m~/opt/anaconda3/lib/python3.8/ctypes/__init__.py\u001b[0m in \u001b[0;36mLoadLibrary\u001b[0;34m(self, name)\u001b[0m\n\u001b[1;32m    449\u001b[0m \u001b[0;34m\u001b[0m\u001b[0m\n\u001b[1;32m    450\u001b[0m     \u001b[0;32mdef\u001b[0m \u001b[0mLoadLibrary\u001b[0m\u001b[0;34m(\u001b[0m\u001b[0mself\u001b[0m\u001b[0;34m,\u001b[0m \u001b[0mname\u001b[0m\u001b[0;34m)\u001b[0m\u001b[0;34m:\u001b[0m\u001b[0;34m\u001b[0m\u001b[0;34m\u001b[0m\u001b[0m\n\u001b[0;32m--> 451\u001b[0;31m         \u001b[0;32mreturn\u001b[0m \u001b[0mself\u001b[0m\u001b[0;34m.\u001b[0m\u001b[0m_dlltype\u001b[0m\u001b[0;34m(\u001b[0m\u001b[0mname\u001b[0m\u001b[0;34m)\u001b[0m\u001b[0;34m\u001b[0m\u001b[0;34m\u001b[0m\u001b[0m\n\u001b[0m\u001b[1;32m    452\u001b[0m \u001b[0;34m\u001b[0m\u001b[0m\n\u001b[1;32m    453\u001b[0m \u001b[0mcdll\u001b[0m \u001b[0;34m=\u001b[0m \u001b[0mLibraryLoader\u001b[0m\u001b[0;34m(\u001b[0m\u001b[0mCDLL\u001b[0m\u001b[0;34m)\u001b[0m\u001b[0;34m\u001b[0m\u001b[0;34m\u001b[0m\u001b[0m\n",
      "\u001b[0;32m~/opt/anaconda3/lib/python3.8/ctypes/__init__.py\u001b[0m in \u001b[0;36m__init__\u001b[0;34m(self, name, mode, handle, use_errno, use_last_error, winmode)\u001b[0m\n\u001b[1;32m    371\u001b[0m \u001b[0;34m\u001b[0m\u001b[0m\n\u001b[1;32m    372\u001b[0m         \u001b[0;32mif\u001b[0m \u001b[0mhandle\u001b[0m \u001b[0;32mis\u001b[0m \u001b[0;32mNone\u001b[0m\u001b[0;34m:\u001b[0m\u001b[0;34m\u001b[0m\u001b[0;34m\u001b[0m\u001b[0m\n\u001b[0;32m--> 373\u001b[0;31m             \u001b[0mself\u001b[0m\u001b[0;34m.\u001b[0m\u001b[0m_handle\u001b[0m \u001b[0;34m=\u001b[0m \u001b[0m_dlopen\u001b[0m\u001b[0;34m(\u001b[0m\u001b[0mself\u001b[0m\u001b[0;34m.\u001b[0m\u001b[0m_name\u001b[0m\u001b[0;34m,\u001b[0m \u001b[0mmode\u001b[0m\u001b[0;34m)\u001b[0m\u001b[0;34m\u001b[0m\u001b[0;34m\u001b[0m\u001b[0m\n\u001b[0m\u001b[1;32m    374\u001b[0m         \u001b[0;32melse\u001b[0m\u001b[0;34m:\u001b[0m\u001b[0;34m\u001b[0m\u001b[0;34m\u001b[0m\u001b[0m\n\u001b[1;32m    375\u001b[0m             \u001b[0mself\u001b[0m\u001b[0;34m.\u001b[0m\u001b[0m_handle\u001b[0m \u001b[0;34m=\u001b[0m \u001b[0mhandle\u001b[0m\u001b[0;34m\u001b[0m\u001b[0;34m\u001b[0m\u001b[0m\n",
      "\u001b[0;31mOSError\u001b[0m: dlopen(/Users/seonghyeonma/opt/anaconda3/lib/python3.8/site-packages/lightgbm/lib_lightgbm.so, 0x0006): Library not loaded: /usr/local/opt/libomp/lib/libomp.dylib\n  Referenced from: /Users/seonghyeonma/opt/anaconda3/lib/python3.8/site-packages/lightgbm/lib_lightgbm.so\n  Reason: tried: '/usr/local/opt/libomp/lib/libomp.dylib' (no such file), '/usr/local/lib/libomp.dylib' (no such file), '/usr/lib/libomp.dylib' (no such file)"
     ]
    }
   ],
   "source": [
    "import jinja2\n",
    "from pycaret.classification import *\n",
    "clf = setup(\n",
    "    data = train, \n",
    "    train_size=0.8, \n",
    "    target = 'is_applied', \n",
    "    use_gpu=True, \n",
    "    remove_outliers=True, \n",
    "    numeric_imputation=\"median\",\n",
    "    transformation= True,\n",
    "    normalize = True,\n",
    ")"
   ]
  },
  {
   "cell_type": "code",
   "execution_count": 14,
   "id": "7f53d817",
   "metadata": {},
   "outputs": [
    {
     "name": "stdout",
     "output_type": "stream",
     "text": [
      "Collecting jupyter_http_over_ws\n",
      "  Downloading jupyter_http_over_ws-0.0.8-py2.py3-none-any.whl (18 kB)\n",
      "Requirement already satisfied: tornado>=4.5 in /Users/seonghyeonma/opt/anaconda3/lib/python3.8/site-packages (from jupyter_http_over_ws) (6.1)\n",
      "Requirement already satisfied: notebook>=5.0 in /Users/seonghyeonma/opt/anaconda3/lib/python3.8/site-packages (from jupyter_http_over_ws) (6.4.3)\n",
      "Requirement already satisfied: six>=1.6.0 in /Users/seonghyeonma/opt/anaconda3/lib/python3.8/site-packages (from jupyter_http_over_ws) (1.16.0)\n",
      "Requirement already satisfied: ipykernel in /Users/seonghyeonma/opt/anaconda3/lib/python3.8/site-packages (from notebook>=5.0->jupyter_http_over_ws) (6.4.1)\n",
      "Requirement already satisfied: Send2Trash>=1.5.0 in /Users/seonghyeonma/opt/anaconda3/lib/python3.8/site-packages (from notebook>=5.0->jupyter_http_over_ws) (1.8.0)\n",
      "Requirement already satisfied: prometheus-client in /Users/seonghyeonma/opt/anaconda3/lib/python3.8/site-packages (from notebook>=5.0->jupyter_http_over_ws) (0.11.0)\n",
      "Requirement already satisfied: ipython-genutils in /Users/seonghyeonma/opt/anaconda3/lib/python3.8/site-packages (from notebook>=5.0->jupyter_http_over_ws) (0.2.0)\n",
      "Requirement already satisfied: jinja2 in /Users/seonghyeonma/opt/anaconda3/lib/python3.8/site-packages (from notebook>=5.0->jupyter_http_over_ws) (3.1.2)\n",
      "Requirement already satisfied: pyzmq>=17 in /Users/seonghyeonma/opt/anaconda3/lib/python3.8/site-packages (from notebook>=5.0->jupyter_http_over_ws) (22.2.1)\n",
      "Requirement already satisfied: jupyter-core>=4.6.1 in /Users/seonghyeonma/opt/anaconda3/lib/python3.8/site-packages (from notebook>=5.0->jupyter_http_over_ws) (4.8.1)\n",
      "Requirement already satisfied: nbformat in /Users/seonghyeonma/opt/anaconda3/lib/python3.8/site-packages (from notebook>=5.0->jupyter_http_over_ws) (5.1.3)\n",
      "Requirement already satisfied: terminado>=0.8.3 in /Users/seonghyeonma/opt/anaconda3/lib/python3.8/site-packages (from notebook>=5.0->jupyter_http_over_ws) (0.9.4)\n",
      "Requirement already satisfied: argon2-cffi in /Users/seonghyeonma/opt/anaconda3/lib/python3.8/site-packages (from notebook>=5.0->jupyter_http_over_ws) (20.1.0)\n",
      "Requirement already satisfied: traitlets>=4.2.1 in /Users/seonghyeonma/opt/anaconda3/lib/python3.8/site-packages (from notebook>=5.0->jupyter_http_over_ws) (5.1.0)\n",
      "Requirement already satisfied: nbconvert in /Users/seonghyeonma/.local/lib/python3.8/site-packages (from notebook>=5.0->jupyter_http_over_ws) (7.0.0)\n",
      "Requirement already satisfied: jupyter-client>=5.3.4 in /Users/seonghyeonma/opt/anaconda3/lib/python3.8/site-packages (from notebook>=5.0->jupyter_http_over_ws) (7.0.1)\n",
      "Requirement already satisfied: entrypoints in /Users/seonghyeonma/opt/anaconda3/lib/python3.8/site-packages (from jupyter-client>=5.3.4->notebook>=5.0->jupyter_http_over_ws) (0.3)\n",
      "Requirement already satisfied: nest-asyncio>=1.5 in /Users/seonghyeonma/opt/anaconda3/lib/python3.8/site-packages (from jupyter-client>=5.3.4->notebook>=5.0->jupyter_http_over_ws) (1.5.1)\n",
      "Requirement already satisfied: python-dateutil>=2.1 in /Users/seonghyeonma/opt/anaconda3/lib/python3.8/site-packages (from jupyter-client>=5.3.4->notebook>=5.0->jupyter_http_over_ws) (2.8.2)\n",
      "Requirement already satisfied: ptyprocess in /Users/seonghyeonma/opt/anaconda3/lib/python3.8/site-packages (from terminado>=0.8.3->notebook>=5.0->jupyter_http_over_ws) (0.7.0)\n",
      "Requirement already satisfied: cffi>=1.0.0 in /Users/seonghyeonma/opt/anaconda3/lib/python3.8/site-packages (from argon2-cffi->notebook>=5.0->jupyter_http_over_ws) (1.14.0)\n",
      "Requirement already satisfied: pycparser in /Users/seonghyeonma/opt/anaconda3/lib/python3.8/site-packages (from cffi>=1.0.0->argon2-cffi->notebook>=5.0->jupyter_http_over_ws) (2.20)\n",
      "Requirement already satisfied: matplotlib-inline<0.2.0,>=0.1.0 in /Users/seonghyeonma/opt/anaconda3/lib/python3.8/site-packages (from ipykernel->notebook>=5.0->jupyter_http_over_ws) (0.1.2)\n",
      "Requirement already satisfied: appnope in /Users/seonghyeonma/opt/anaconda3/lib/python3.8/site-packages (from ipykernel->notebook>=5.0->jupyter_http_over_ws) (0.1.2)\n",
      "Requirement already satisfied: ipython<8.0,>=7.23.1 in /Users/seonghyeonma/opt/anaconda3/lib/python3.8/site-packages (from ipykernel->notebook>=5.0->jupyter_http_over_ws) (7.27.0)\n",
      "Requirement already satisfied: debugpy<2.0,>=1.0.0 in /Users/seonghyeonma/opt/anaconda3/lib/python3.8/site-packages (from ipykernel->notebook>=5.0->jupyter_http_over_ws) (1.4.1)\n",
      "Requirement already satisfied: jedi>=0.16 in /Users/seonghyeonma/opt/anaconda3/lib/python3.8/site-packages (from ipython<8.0,>=7.23.1->ipykernel->notebook>=5.0->jupyter_http_over_ws) (0.17.2)\n",
      "Requirement already satisfied: setuptools>=18.5 in /Users/seonghyeonma/opt/anaconda3/lib/python3.8/site-packages (from ipython<8.0,>=7.23.1->ipykernel->notebook>=5.0->jupyter_http_over_ws) (58.0.4)\n",
      "Requirement already satisfied: pickleshare in /Users/seonghyeonma/opt/anaconda3/lib/python3.8/site-packages (from ipython<8.0,>=7.23.1->ipykernel->notebook>=5.0->jupyter_http_over_ws) (0.7.5)\n",
      "Requirement already satisfied: decorator in /Users/seonghyeonma/opt/anaconda3/lib/python3.8/site-packages (from ipython<8.0,>=7.23.1->ipykernel->notebook>=5.0->jupyter_http_over_ws) (5.1.0)\n",
      "Requirement already satisfied: pygments in /Users/seonghyeonma/opt/anaconda3/lib/python3.8/site-packages (from ipython<8.0,>=7.23.1->ipykernel->notebook>=5.0->jupyter_http_over_ws) (2.10.0)\n",
      "Requirement already satisfied: prompt-toolkit!=3.0.0,!=3.0.1,<3.1.0,>=2.0.0 in /Users/seonghyeonma/opt/anaconda3/lib/python3.8/site-packages (from ipython<8.0,>=7.23.1->ipykernel->notebook>=5.0->jupyter_http_over_ws) (3.0.20)\n",
      "Requirement already satisfied: pexpect>4.3 in /Users/seonghyeonma/opt/anaconda3/lib/python3.8/site-packages (from ipython<8.0,>=7.23.1->ipykernel->notebook>=5.0->jupyter_http_over_ws) (4.8.0)\n",
      "Requirement already satisfied: backcall in /Users/seonghyeonma/opt/anaconda3/lib/python3.8/site-packages (from ipython<8.0,>=7.23.1->ipykernel->notebook>=5.0->jupyter_http_over_ws) (0.2.0)\n",
      "Requirement already satisfied: parso<0.8.0,>=0.7.0 in /Users/seonghyeonma/opt/anaconda3/lib/python3.8/site-packages (from jedi>=0.16->ipython<8.0,>=7.23.1->ipykernel->notebook>=5.0->jupyter_http_over_ws) (0.7.0)\n",
      "Requirement already satisfied: wcwidth in /Users/seonghyeonma/opt/anaconda3/lib/python3.8/site-packages (from prompt-toolkit!=3.0.0,!=3.0.1,<3.1.0,>=2.0.0->ipython<8.0,>=7.23.1->ipykernel->notebook>=5.0->jupyter_http_over_ws) (0.2.5)\n",
      "Requirement already satisfied: MarkupSafe>=2.0 in /Users/seonghyeonma/opt/anaconda3/lib/python3.8/site-packages (from jinja2->notebook>=5.0->jupyter_http_over_ws) (2.0.1)\n",
      "Requirement already satisfied: beautifulsoup4 in /Users/seonghyeonma/opt/anaconda3/lib/python3.8/site-packages (from nbconvert->notebook>=5.0->jupyter_http_over_ws) (4.10.0)\n",
      "Requirement already satisfied: packaging in /Users/seonghyeonma/opt/anaconda3/lib/python3.8/site-packages (from nbconvert->notebook>=5.0->jupyter_http_over_ws) (21.3)\n",
      "Requirement already satisfied: tinycss2 in /Users/seonghyeonma/.local/lib/python3.8/site-packages (from nbconvert->notebook>=5.0->jupyter_http_over_ws) (1.1.1)\n",
      "Requirement already satisfied: bleach in /Users/seonghyeonma/opt/anaconda3/lib/python3.8/site-packages (from nbconvert->notebook>=5.0->jupyter_http_over_ws) (4.0.0)\n",
      "Requirement already satisfied: nbclient>=0.5.0 in /Users/seonghyeonma/opt/anaconda3/lib/python3.8/site-packages (from nbconvert->notebook>=5.0->jupyter_http_over_ws) (0.5.3)\n",
      "Requirement already satisfied: pandocfilters>=1.4.1 in /Users/seonghyeonma/opt/anaconda3/lib/python3.8/site-packages (from nbconvert->notebook>=5.0->jupyter_http_over_ws) (1.4.3)\n",
      "Requirement already satisfied: defusedxml in /Users/seonghyeonma/opt/anaconda3/lib/python3.8/site-packages (from nbconvert->notebook>=5.0->jupyter_http_over_ws) (0.7.1)\n",
      "Requirement already satisfied: mistune<3,>=2.0.3 in /Users/seonghyeonma/.local/lib/python3.8/site-packages (from nbconvert->notebook>=5.0->jupyter_http_over_ws) (2.0.4)\n",
      "Requirement already satisfied: importlib-metadata>=3.6 in /Users/seonghyeonma/opt/anaconda3/lib/python3.8/site-packages (from nbconvert->notebook>=5.0->jupyter_http_over_ws) (4.8.1)\n",
      "Requirement already satisfied: lxml in /Users/seonghyeonma/opt/anaconda3/lib/python3.8/site-packages (from nbconvert->notebook>=5.0->jupyter_http_over_ws) (4.6.3)\n",
      "Requirement already satisfied: jupyterlab-pygments in /Users/seonghyeonma/opt/anaconda3/lib/python3.8/site-packages (from nbconvert->notebook>=5.0->jupyter_http_over_ws) (0.1.2)\n",
      "Requirement already satisfied: zipp>=0.5 in /Users/seonghyeonma/opt/anaconda3/lib/python3.8/site-packages (from importlib-metadata>=3.6->nbconvert->notebook>=5.0->jupyter_http_over_ws) (3.6.0)\n"
     ]
    },
    {
     "name": "stdout",
     "output_type": "stream",
     "text": [
      "Requirement already satisfied: async-generator in /Users/seonghyeonma/opt/anaconda3/lib/python3.8/site-packages (from nbclient>=0.5.0->nbconvert->notebook>=5.0->jupyter_http_over_ws) (1.10)\n",
      "Requirement already satisfied: jsonschema!=2.5.0,>=2.4 in /Users/seonghyeonma/opt/anaconda3/lib/python3.8/site-packages (from nbformat->notebook>=5.0->jupyter_http_over_ws) (3.2.0)\n",
      "Requirement already satisfied: attrs>=17.4.0 in /Users/seonghyeonma/opt/anaconda3/lib/python3.8/site-packages (from jsonschema!=2.5.0,>=2.4->nbformat->notebook>=5.0->jupyter_http_over_ws) (21.2.0)\n",
      "Requirement already satisfied: pyrsistent>=0.14.0 in /Users/seonghyeonma/opt/anaconda3/lib/python3.8/site-packages (from jsonschema!=2.5.0,>=2.4->nbformat->notebook>=5.0->jupyter_http_over_ws) (0.17.3)\n",
      "Requirement already satisfied: soupsieve>1.2 in /Users/seonghyeonma/opt/anaconda3/lib/python3.8/site-packages (from beautifulsoup4->nbconvert->notebook>=5.0->jupyter_http_over_ws) (2.2.1)\n",
      "Requirement already satisfied: webencodings in /Users/seonghyeonma/opt/anaconda3/lib/python3.8/site-packages (from bleach->nbconvert->notebook>=5.0->jupyter_http_over_ws) (0.5.1)\n",
      "Requirement already satisfied: pyparsing!=3.0.5,>=2.0.2 in /Users/seonghyeonma/opt/anaconda3/lib/python3.8/site-packages (from packaging->nbconvert->notebook>=5.0->jupyter_http_over_ws) (2.4.7)\n",
      "Installing collected packages: jupyter-http-over-ws\n",
      "Successfully installed jupyter-http-over-ws-0.0.8\n",
      "Note: you may need to restart the kernel to use updated packages.\n"
     ]
    }
   ],
   "source": [
    "pip install jupyter_http_over_ws \n"
   ]
  },
  {
   "cell_type": "code",
   "execution_count": 15,
   "id": "9b92b70c",
   "metadata": {},
   "outputs": [
    {
     "ename": "SyntaxError",
     "evalue": "invalid syntax (380626756.py, line 1)",
     "output_type": "error",
     "traceback": [
      "\u001b[0;36m  File \u001b[0;32m\"/var/folders/nz/160bjb610xj3r4wkpjkgnw940000gn/T/ipykernel_7142/380626756.py\"\u001b[0;36m, line \u001b[0;32m1\u001b[0m\n\u001b[0;31m    jupyter serverextension enable --py jupyter_http_over_ws\u001b[0m\n\u001b[0m            ^\u001b[0m\n\u001b[0;31mSyntaxError\u001b[0m\u001b[0;31m:\u001b[0m invalid syntax\n"
     ]
    }
   ],
   "source": [
    "jupyter serverextension enable --py jupyter_http_over_ws"
   ]
  },
  {
   "cell_type": "code",
   "execution_count": null,
   "id": "d17cc8cf",
   "metadata": {},
   "outputs": [],
   "source": []
  },
  {
   "cell_type": "code",
   "execution_count": null,
   "id": "78e9f7d0",
   "metadata": {},
   "outputs": [],
   "source": []
  },
  {
   "cell_type": "code",
   "execution_count": null,
   "id": "b489163d",
   "metadata": {},
   "outputs": [],
   "source": []
  },
  {
   "cell_type": "code",
   "execution_count": null,
   "id": "e972be7c",
   "metadata": {},
   "outputs": [],
   "source": []
  },
  {
   "cell_type": "code",
   "execution_count": null,
   "id": "0137334d",
   "metadata": {},
   "outputs": [],
   "source": []
  },
  {
   "cell_type": "code",
   "execution_count": null,
   "id": "b39c00b7",
   "metadata": {},
   "outputs": [],
   "source": []
  },
  {
   "cell_type": "code",
   "execution_count": null,
   "id": "3a98c75a",
   "metadata": {},
   "outputs": [],
   "source": []
  },
  {
   "cell_type": "code",
   "execution_count": null,
   "id": "23c01f7f",
   "metadata": {},
   "outputs": [],
   "source": []
  },
  {
   "cell_type": "code",
   "execution_count": null,
   "id": "11d9af81",
   "metadata": {},
   "outputs": [],
   "source": []
  },
  {
   "cell_type": "code",
   "execution_count": null,
   "id": "f2401a7c",
   "metadata": {},
   "outputs": [],
   "source": []
  },
  {
   "cell_type": "code",
   "execution_count": null,
   "id": "c78b366f",
   "metadata": {},
   "outputs": [],
   "source": []
  },
  {
   "cell_type": "code",
   "execution_count": null,
   "id": "fb997080",
   "metadata": {},
   "outputs": [],
   "source": []
  },
  {
   "cell_type": "code",
   "execution_count": null,
   "id": "6db5f6cf",
   "metadata": {},
   "outputs": [],
   "source": []
  },
  {
   "cell_type": "code",
   "execution_count": null,
   "id": "14ad900e",
   "metadata": {},
   "outputs": [],
   "source": []
  },
  {
   "cell_type": "code",
   "execution_count": null,
   "id": "fedff69b",
   "metadata": {},
   "outputs": [],
   "source": []
  },
  {
   "cell_type": "code",
   "execution_count": null,
   "id": "857ec234",
   "metadata": {},
   "outputs": [],
   "source": []
  }
 ],
 "metadata": {
  "kernelspec": {
   "display_name": "Python 3 (ipykernel)",
   "language": "python",
   "name": "python3"
  },
  "language_info": {
   "codemirror_mode": {
    "name": "ipython",
    "version": 3
   },
   "file_extension": ".py",
   "mimetype": "text/x-python",
   "name": "python",
   "nbconvert_exporter": "python",
   "pygments_lexer": "ipython3",
   "version": "3.8.2"
  }
 },
 "nbformat": 4,
 "nbformat_minor": 5
}
