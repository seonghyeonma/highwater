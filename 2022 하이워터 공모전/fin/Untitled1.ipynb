{
 "cells": [
  {
   "cell_type": "code",
   "execution_count": 1,
   "id": "329cffb0",
   "metadata": {},
   "outputs": [],
   "source": [
    "# 모듈 불러오기 \n",
    "import pandas as pd\n",
    "import numpy as np\n",
    "import matplotlib.pyplot as plt\n",
    "import seaborn as sns\n",
    "import itertools\n",
    "import gc\n",
    "import sys\n",
    "import warnings"
   ]
  },
  {
   "cell_type": "code",
   "execution_count": 5,
   "id": "6f18ac52",
   "metadata": {},
   "outputs": [],
   "source": [
    "train = pd.read_csv('loan_result_LE_fin.csv')"
   ]
  },
  {
   "cell_type": "code",
   "execution_count": 6,
   "id": "f6751651",
   "metadata": {},
   "outputs": [
    {
     "name": "stdout",
     "output_type": "stream",
     "text": [
      "<class 'pandas.core.frame.DataFrame'>\n",
      "RangeIndex: 13519868 entries, 0 to 13519867\n",
      "Data columns (total 7 columns):\n",
      " #   Column                 Dtype  \n",
      "---  ------                 -----  \n",
      " 0   application_id         int64  \n",
      " 1   loanapply_insert_time  object \n",
      " 2   bank_id                int64  \n",
      " 3   product_id             int64  \n",
      " 4   loan_limit             float64\n",
      " 5   loan_rate              float64\n",
      " 6   is_applied             float64\n",
      "dtypes: float64(3), int64(3), object(1)\n",
      "memory usage: 722.0+ MB\n"
     ]
    }
   ],
   "source": [
    "train.info()"
   ]
  },
  {
   "cell_type": "code",
   "execution_count": 9,
   "id": "b00e04dc",
   "metadata": {},
   "outputs": [],
   "source": [
    "train2 = pd.read_csv('user_spec_LE_fin')"
   ]
  },
  {
   "cell_type": "code",
   "execution_count": 10,
   "id": "e29de04b",
   "metadata": {},
   "outputs": [
    {
     "name": "stdout",
     "output_type": "stream",
     "text": [
      "<class 'pandas.core.frame.DataFrame'>\n",
      "RangeIndex: 1222456 entries, 0 to 1222455\n",
      "Data columns (total 16 columns):\n",
      " #   Column                               Non-Null Count    Dtype  \n",
      "---  ------                               --------------    -----  \n",
      " 0   application_id                       1222456 non-null  int64  \n",
      " 1   user_id                              1222456 non-null  int64  \n",
      " 2   gender                               1222456 non-null  float64\n",
      " 3   credit_score                         1222456 non-null  int64  \n",
      " 4   yearly_income                        1222456 non-null  float64\n",
      " 5   desired_amount                       1222456 non-null  float64\n",
      " 6   personal_rehabilitation_yn           1222456 non-null  float64\n",
      " 7   personal_rehabilitation_complete_yn  1222456 non-null  float64\n",
      " 8   existing_loan_cnt                    1222456 non-null  float64\n",
      " 9   existing_loan_amt                    1222456 non-null  float64\n",
      " 10  work_day                             1222456 non-null  int64  \n",
      " 11  Age                                  1222456 non-null  float64\n",
      " 12  label_purpose                        1222456 non-null  int64  \n",
      " 13  label_employment_type                1222456 non-null  int64  \n",
      " 14  label_houseown_type                  1222456 non-null  int64  \n",
      " 15  label_income_type                    1222456 non-null  int64  \n",
      "dtypes: float64(8), int64(8)\n",
      "memory usage: 149.2 MB\n"
     ]
    }
   ],
   "source": [
    "train2.info()"
   ]
  }
 ],
 "metadata": {
  "kernelspec": {
   "display_name": "Python 3 (ipykernel)",
   "language": "python",
   "name": "python3"
  },
  "language_info": {
   "codemirror_mode": {
    "name": "ipython",
    "version": 3
   },
   "file_extension": ".py",
   "mimetype": "text/x-python",
   "name": "python",
   "nbconvert_exporter": "python",
   "pygments_lexer": "ipython3",
   "version": "3.8.2"
  }
 },
 "nbformat": 4,
 "nbformat_minor": 5
}
