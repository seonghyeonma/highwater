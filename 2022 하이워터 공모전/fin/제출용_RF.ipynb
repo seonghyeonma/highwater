{
 "cells": [
  {
   "cell_type": "markdown",
   "metadata": {
    "id": "EWXCxhP68Kd3"
   },
   "source": [
    "#### 기본 데이터 삽입 "
   ]
  },
  {
   "cell_type": "code",
   "execution_count": 1,
   "metadata": {
    "id": "noSl0D4rKkBM"
   },
   "outputs": [],
   "source": [
    "import pandas as pd\n",
    "import numpy as np"
   ]
  },
  {
   "cell_type": "code",
   "execution_count": null,
   "metadata": {
    "id": "9HwMIbi9f_6c"
   },
   "outputs": [],
   "source": []
  },
  {
   "cell_type": "code",
   "execution_count": 2,
   "metadata": {
    "id": "KbGpnTBnJysC"
   },
   "outputs": [],
   "source": [
    "loan_user = pd.read_csv('loanuser_fin.csv')"
   ]
  },
  {
   "cell_type": "code",
   "execution_count": null,
   "metadata": {
    "id": "qF0PIPUwhrnF"
   },
   "outputs": [],
   "source": []
  },
  {
   "cell_type": "code",
   "execution_count": 3,
   "metadata": {
    "executionInfo": {
     "elapsed": 2768,
     "status": "ok",
     "timestamp": 1665657690956,
     "user": {
      "displayName": "J",
      "userId": "09129038203281678179"
     },
     "user_tz": -540
    },
    "id": "frcyD1HWRRhm"
   },
   "outputs": [],
   "source": [
    "fin_test = loan_user.loc[loan_user['is_applied'].notnull()]"
   ]
  },
  {
   "cell_type": "code",
   "execution_count": 4,
   "metadata": {
    "colab": {
     "base_uri": "https://localhost:8080/"
    },
    "executionInfo": {
     "elapsed": 13,
     "status": "ok",
     "timestamp": 1665643488494,
     "user": {
      "displayName": "J",
      "userId": "09129038203281678179"
     },
     "user_tz": -540
    },
    "id": "HY0j2rgtTEQy",
    "outputId": "b824f84d-2eb4-49fa-e9a9-830f662935cd"
   },
   "outputs": [
    {
     "data": {
      "text/plain": [
       "0.0    7180504\n",
       "1.0     414667\n",
       "Name: is_applied, dtype: int64"
      ]
     },
     "execution_count": 4,
     "metadata": {},
     "output_type": "execute_result"
    }
   ],
   "source": [
    "loan_user['is_applied'].value_counts()"
   ]
  },
  {
   "cell_type": "code",
   "execution_count": 5,
   "metadata": {
    "colab": {
     "base_uri": "https://localhost:8080/"
    },
    "executionInfo": {
     "elapsed": 9,
     "status": "ok",
     "timestamp": 1665643488495,
     "user": {
      "displayName": "J",
      "userId": "09129038203281678179"
     },
     "user_tz": -540
    },
    "id": "SMr1WXCcRpgJ",
    "outputId": "592dd657-1a2a-45b8-e5fa-ef318546c67f"
   },
   "outputs": [
    {
     "data": {
      "text/plain": [
       "Index(['loan_limit', 'loan_rate', 'gender', 'credit_score', 'yearly_income',\n",
       "       'desired_amount', 'personal_rehabilitation_yn',\n",
       "       'personal_rehabilitation_complete_yn', 'existing_loan_cnt',\n",
       "       'existing_loan_amt', 'work_day', 'Age', 'label_purpose',\n",
       "       'label_employment_type', 'label_houseown_type', 'label_income_type',\n",
       "       'is_applied'],\n",
       "      dtype='object')"
      ]
     },
     "execution_count": 5,
     "metadata": {},
     "output_type": "execute_result"
    }
   ],
   "source": [
    "loan_user.columns"
   ]
  },
  {
   "cell_type": "code",
   "execution_count": null,
   "metadata": {
    "id": "fZt2NQNkYBhc"
   },
   "outputs": [],
   "source": [
    "\n",
    "from sklearn.preprocessing import MinMaxScaler\n",
    "\n",
    "scaler = MinMaxScaler()\n",
    "loan_user_num[:] = scaler.fit_transform(loan_user_num[:])\n"
   ]
  },
  {
   "cell_type": "code",
   "execution_count": null,
   "metadata": {
    "id": "twSRGNEviVH2"
   },
   "outputs": [],
   "source": [
    "loan_user_num"
   ]
  },
  {
   "cell_type": "code",
   "execution_count": null,
   "metadata": {
    "id": "1jIuMdzzids1"
   },
   "outputs": [],
   "source": [
    "loan_user = pd.concat([loan_user_num,loan_user_cat], axis = 1)"
   ]
  },
  {
   "cell_type": "code",
   "execution_count": null,
   "metadata": {
    "id": "rFeFqKZUf-3U"
   },
   "outputs": [],
   "source": [
    "loan_user.columns"
   ]
  },
  {
   "cell_type": "markdown",
   "metadata": {
    "id": "6Oj_zL4m4rLR"
   },
   "source": []
  },
  {
   "cell_type": "code",
   "execution_count": 6,
   "metadata": {
    "id": "QJwjm0RejxjQ"
   },
   "outputs": [
    {
     "ename": "NameError",
     "evalue": "name 'X_train' is not defined",
     "output_type": "error",
     "traceback": [
      "\u001b[0;31m---------------------------------------------------------------------------\u001b[0m",
      "\u001b[0;31mNameError\u001b[0m                                 Traceback (most recent call last)",
      "\u001b[0;32m/var/folders/nz/160bjb610xj3r4wkpjkgnw940000gn/T/ipykernel_17923/4239342174.py\u001b[0m in \u001b[0;36m<module>\u001b[0;34m\u001b[0m\n\u001b[0;32m----> 1\u001b[0;31m \u001b[0mX_train\u001b[0m\u001b[0;34m\u001b[0m\u001b[0;34m\u001b[0m\u001b[0m\n\u001b[0m",
      "\u001b[0;31mNameError\u001b[0m: name 'X_train' is not defined"
     ]
    }
   ],
   "source": [
    "X_train"
   ]
  },
  {
   "cell_type": "code",
   "execution_count": null,
   "metadata": {
    "id": "pLosF1IcqlCW"
   },
   "outputs": [],
   "source": [
    "y_train"
   ]
  },
  {
   "cell_type": "markdown",
   "metadata": {
    "id": "Xg1305529MLA"
   },
   "source": []
  },
  {
   "cell_type": "markdown",
   "metadata": {
    "id": "yROOVkEq4ZdR"
   },
   "source": [
    "#### 언더샘플링"
   ]
  },
  {
   "cell_type": "code",
   "execution_count": 7,
   "metadata": {
    "colab": {
     "base_uri": "https://localhost:8080/",
     "height": 488
    },
    "executionInfo": {
     "elapsed": 453,
     "status": "ok",
     "timestamp": 1665643504966,
     "user": {
      "displayName": "J",
      "userId": "09129038203281678179"
     },
     "user_tz": -540
    },
    "id": "kzeWR7M34Uk9",
    "outputId": "854323dc-5b17-42d8-f19d-b9b7632e3105"
   },
   "outputs": [
    {
     "data": {
      "text/html": [
       "<div>\n",
       "<style scoped>\n",
       "    .dataframe tbody tr th:only-of-type {\n",
       "        vertical-align: middle;\n",
       "    }\n",
       "\n",
       "    .dataframe tbody tr th {\n",
       "        vertical-align: top;\n",
       "    }\n",
       "\n",
       "    .dataframe thead th {\n",
       "        text-align: right;\n",
       "    }\n",
       "</style>\n",
       "<table border=\"1\" class=\"dataframe\">\n",
       "  <thead>\n",
       "    <tr style=\"text-align: right;\">\n",
       "      <th></th>\n",
       "      <th>loan_limit</th>\n",
       "      <th>loan_rate</th>\n",
       "      <th>gender</th>\n",
       "      <th>credit_score</th>\n",
       "      <th>yearly_income</th>\n",
       "      <th>desired_amount</th>\n",
       "      <th>personal_rehabilitation_yn</th>\n",
       "      <th>personal_rehabilitation_complete_yn</th>\n",
       "      <th>existing_loan_cnt</th>\n",
       "      <th>existing_loan_amt</th>\n",
       "      <th>work_day</th>\n",
       "      <th>Age</th>\n",
       "      <th>label_purpose</th>\n",
       "      <th>label_employment_type</th>\n",
       "      <th>label_houseown_type</th>\n",
       "      <th>label_income_type</th>\n",
       "    </tr>\n",
       "  </thead>\n",
       "  <tbody>\n",
       "    <tr>\n",
       "      <th>0</th>\n",
       "      <td>42.0</td>\n",
       "      <td>13.6</td>\n",
       "      <td>1.0</td>\n",
       "      <td>7</td>\n",
       "      <td>24.0</td>\n",
       "      <td>25.0</td>\n",
       "      <td>0.0</td>\n",
       "      <td>0.0</td>\n",
       "      <td>2.0</td>\n",
       "      <td>15.0</td>\n",
       "      <td>4</td>\n",
       "      <td>26</td>\n",
       "      <td>1</td>\n",
       "      <td>3</td>\n",
       "      <td>2</td>\n",
       "      <td>0</td>\n",
       "    </tr>\n",
       "    <tr>\n",
       "      <th>1</th>\n",
       "      <td>24.0</td>\n",
       "      <td>17.9</td>\n",
       "      <td>1.0</td>\n",
       "      <td>7</td>\n",
       "      <td>24.0</td>\n",
       "      <td>25.0</td>\n",
       "      <td>0.0</td>\n",
       "      <td>0.0</td>\n",
       "      <td>2.0</td>\n",
       "      <td>15.0</td>\n",
       "      <td>4</td>\n",
       "      <td>26</td>\n",
       "      <td>1</td>\n",
       "      <td>3</td>\n",
       "      <td>2</td>\n",
       "      <td>0</td>\n",
       "    </tr>\n",
       "    <tr>\n",
       "      <th>2</th>\n",
       "      <td>24.0</td>\n",
       "      <td>18.5</td>\n",
       "      <td>1.0</td>\n",
       "      <td>7</td>\n",
       "      <td>24.0</td>\n",
       "      <td>25.0</td>\n",
       "      <td>0.0</td>\n",
       "      <td>0.0</td>\n",
       "      <td>2.0</td>\n",
       "      <td>15.0</td>\n",
       "      <td>4</td>\n",
       "      <td>26</td>\n",
       "      <td>1</td>\n",
       "      <td>3</td>\n",
       "      <td>2</td>\n",
       "      <td>0</td>\n",
       "    </tr>\n",
       "    <tr>\n",
       "      <th>3</th>\n",
       "      <td>29.0</td>\n",
       "      <td>10.8</td>\n",
       "      <td>1.0</td>\n",
       "      <td>7</td>\n",
       "      <td>24.0</td>\n",
       "      <td>25.0</td>\n",
       "      <td>0.0</td>\n",
       "      <td>0.0</td>\n",
       "      <td>2.0</td>\n",
       "      <td>15.0</td>\n",
       "      <td>4</td>\n",
       "      <td>26</td>\n",
       "      <td>1</td>\n",
       "      <td>3</td>\n",
       "      <td>2</td>\n",
       "      <td>0</td>\n",
       "    </tr>\n",
       "    <tr>\n",
       "      <th>4</th>\n",
       "      <td>5.0</td>\n",
       "      <td>16.4</td>\n",
       "      <td>1.0</td>\n",
       "      <td>7</td>\n",
       "      <td>24.0</td>\n",
       "      <td>25.0</td>\n",
       "      <td>0.0</td>\n",
       "      <td>0.0</td>\n",
       "      <td>2.0</td>\n",
       "      <td>15.0</td>\n",
       "      <td>4</td>\n",
       "      <td>26</td>\n",
       "      <td>1</td>\n",
       "      <td>3</td>\n",
       "      <td>2</td>\n",
       "      <td>0</td>\n",
       "    </tr>\n",
       "    <tr>\n",
       "      <th>...</th>\n",
       "      <td>...</td>\n",
       "      <td>...</td>\n",
       "      <td>...</td>\n",
       "      <td>...</td>\n",
       "      <td>...</td>\n",
       "      <td>...</td>\n",
       "      <td>...</td>\n",
       "      <td>...</td>\n",
       "      <td>...</td>\n",
       "      <td>...</td>\n",
       "      <td>...</td>\n",
       "      <td>...</td>\n",
       "      <td>...</td>\n",
       "      <td>...</td>\n",
       "      <td>...</td>\n",
       "      <td>...</td>\n",
       "    </tr>\n",
       "    <tr>\n",
       "      <th>9970772</th>\n",
       "      <td>3.0</td>\n",
       "      <td>14.8</td>\n",
       "      <td>1.0</td>\n",
       "      <td>7</td>\n",
       "      <td>45.0</td>\n",
       "      <td>50.0</td>\n",
       "      <td>0.0</td>\n",
       "      <td>0.0</td>\n",
       "      <td>2.0</td>\n",
       "      <td>56.0</td>\n",
       "      <td>39</td>\n",
       "      <td>57</td>\n",
       "      <td>1</td>\n",
       "      <td>3</td>\n",
       "      <td>0</td>\n",
       "      <td>0</td>\n",
       "    </tr>\n",
       "    <tr>\n",
       "      <th>9970773</th>\n",
       "      <td>40.0</td>\n",
       "      <td>11.8</td>\n",
       "      <td>1.0</td>\n",
       "      <td>7</td>\n",
       "      <td>45.0</td>\n",
       "      <td>50.0</td>\n",
       "      <td>0.0</td>\n",
       "      <td>0.0</td>\n",
       "      <td>2.0</td>\n",
       "      <td>56.0</td>\n",
       "      <td>39</td>\n",
       "      <td>57</td>\n",
       "      <td>1</td>\n",
       "      <td>3</td>\n",
       "      <td>0</td>\n",
       "      <td>0</td>\n",
       "    </tr>\n",
       "    <tr>\n",
       "      <th>9970774</th>\n",
       "      <td>15.0</td>\n",
       "      <td>7.2</td>\n",
       "      <td>1.0</td>\n",
       "      <td>7</td>\n",
       "      <td>45.0</td>\n",
       "      <td>50.0</td>\n",
       "      <td>0.0</td>\n",
       "      <td>0.0</td>\n",
       "      <td>2.0</td>\n",
       "      <td>56.0</td>\n",
       "      <td>39</td>\n",
       "      <td>57</td>\n",
       "      <td>1</td>\n",
       "      <td>3</td>\n",
       "      <td>0</td>\n",
       "      <td>0</td>\n",
       "    </tr>\n",
       "    <tr>\n",
       "      <th>9970775</th>\n",
       "      <td>44.0</td>\n",
       "      <td>13.5</td>\n",
       "      <td>1.0</td>\n",
       "      <td>7</td>\n",
       "      <td>45.0</td>\n",
       "      <td>50.0</td>\n",
       "      <td>0.0</td>\n",
       "      <td>0.0</td>\n",
       "      <td>2.0</td>\n",
       "      <td>56.0</td>\n",
       "      <td>39</td>\n",
       "      <td>57</td>\n",
       "      <td>1</td>\n",
       "      <td>3</td>\n",
       "      <td>0</td>\n",
       "      <td>0</td>\n",
       "    </tr>\n",
       "    <tr>\n",
       "      <th>9970776</th>\n",
       "      <td>44.0</td>\n",
       "      <td>9.7</td>\n",
       "      <td>1.0</td>\n",
       "      <td>7</td>\n",
       "      <td>45.0</td>\n",
       "      <td>50.0</td>\n",
       "      <td>0.0</td>\n",
       "      <td>0.0</td>\n",
       "      <td>2.0</td>\n",
       "      <td>56.0</td>\n",
       "      <td>39</td>\n",
       "      <td>57</td>\n",
       "      <td>1</td>\n",
       "      <td>3</td>\n",
       "      <td>0</td>\n",
       "      <td>0</td>\n",
       "    </tr>\n",
       "  </tbody>\n",
       "</table>\n",
       "<p>9970777 rows × 16 columns</p>\n",
       "</div>"
      ],
      "text/plain": [
       "         loan_limit  loan_rate  gender  credit_score  yearly_income  \\\n",
       "0              42.0       13.6     1.0             7           24.0   \n",
       "1              24.0       17.9     1.0             7           24.0   \n",
       "2              24.0       18.5     1.0             7           24.0   \n",
       "3              29.0       10.8     1.0             7           24.0   \n",
       "4               5.0       16.4     1.0             7           24.0   \n",
       "...             ...        ...     ...           ...            ...   \n",
       "9970772         3.0       14.8     1.0             7           45.0   \n",
       "9970773        40.0       11.8     1.0             7           45.0   \n",
       "9970774        15.0        7.2     1.0             7           45.0   \n",
       "9970775        44.0       13.5     1.0             7           45.0   \n",
       "9970776        44.0        9.7     1.0             7           45.0   \n",
       "\n",
       "         desired_amount  personal_rehabilitation_yn  \\\n",
       "0                  25.0                         0.0   \n",
       "1                  25.0                         0.0   \n",
       "2                  25.0                         0.0   \n",
       "3                  25.0                         0.0   \n",
       "4                  25.0                         0.0   \n",
       "...                 ...                         ...   \n",
       "9970772            50.0                         0.0   \n",
       "9970773            50.0                         0.0   \n",
       "9970774            50.0                         0.0   \n",
       "9970775            50.0                         0.0   \n",
       "9970776            50.0                         0.0   \n",
       "\n",
       "         personal_rehabilitation_complete_yn  existing_loan_cnt  \\\n",
       "0                                        0.0                2.0   \n",
       "1                                        0.0                2.0   \n",
       "2                                        0.0                2.0   \n",
       "3                                        0.0                2.0   \n",
       "4                                        0.0                2.0   \n",
       "...                                      ...                ...   \n",
       "9970772                                  0.0                2.0   \n",
       "9970773                                  0.0                2.0   \n",
       "9970774                                  0.0                2.0   \n",
       "9970775                                  0.0                2.0   \n",
       "9970776                                  0.0                2.0   \n",
       "\n",
       "         existing_loan_amt  work_day  Age  label_purpose  \\\n",
       "0                     15.0         4   26              1   \n",
       "1                     15.0         4   26              1   \n",
       "2                     15.0         4   26              1   \n",
       "3                     15.0         4   26              1   \n",
       "4                     15.0         4   26              1   \n",
       "...                    ...       ...  ...            ...   \n",
       "9970772               56.0        39   57              1   \n",
       "9970773               56.0        39   57              1   \n",
       "9970774               56.0        39   57              1   \n",
       "9970775               56.0        39   57              1   \n",
       "9970776               56.0        39   57              1   \n",
       "\n",
       "         label_employment_type  label_houseown_type  label_income_type  \n",
       "0                            3                    2                  0  \n",
       "1                            3                    2                  0  \n",
       "2                            3                    2                  0  \n",
       "3                            3                    2                  0  \n",
       "4                            3                    2                  0  \n",
       "...                        ...                  ...                ...  \n",
       "9970772                      3                    0                  0  \n",
       "9970773                      3                    0                  0  \n",
       "9970774                      3                    0                  0  \n",
       "9970775                      3                    0                  0  \n",
       "9970776                      3                    0                  0  \n",
       "\n",
       "[9970777 rows x 16 columns]"
      ]
     },
     "execution_count": 7,
     "metadata": {},
     "output_type": "execute_result"
    }
   ],
   "source": [
    "X = loan_user[['loan_limit', 'loan_rate', 'gender', 'credit_score', 'yearly_income',\n",
    "       'desired_amount', 'personal_rehabilitation_yn',\n",
    "       'personal_rehabilitation_complete_yn', 'existing_loan_cnt',\n",
    "       'existing_loan_amt', 'work_day', 'Age', 'label_purpose',\n",
    "       'label_employment_type', 'label_houseown_type', 'label_income_type']]\n",
    "X"
   ]
  },
  {
   "cell_type": "code",
   "execution_count": 8,
   "metadata": {
    "id": "t7aSsYDs5Hmn"
   },
   "outputs": [],
   "source": [
    "y = loan_user['is_applied']"
   ]
  },
  {
   "cell_type": "code",
   "execution_count": 9,
   "metadata": {
    "id": "eTcjpIsh4BK4"
   },
   "outputs": [
    {
     "ename": "ValueError",
     "evalue": "Input contains NaN, infinity or a value too large for dtype('float64').",
     "output_type": "error",
     "traceback": [
      "\u001b[0;31m---------------------------------------------------------------------------\u001b[0m",
      "\u001b[0;31mValueError\u001b[0m                                Traceback (most recent call last)",
      "\u001b[0;32m/var/folders/nz/160bjb610xj3r4wkpjkgnw940000gn/T/ipykernel_17923/3677905402.py\u001b[0m in \u001b[0;36m<module>\u001b[0;34m\u001b[0m\n\u001b[1;32m      2\u001b[0m \u001b[0;32mfrom\u001b[0m \u001b[0mimblearn\u001b[0m\u001b[0;34m.\u001b[0m\u001b[0munder_sampling\u001b[0m \u001b[0;32mimport\u001b[0m \u001b[0mRandomUnderSampler\u001b[0m\u001b[0;34m\u001b[0m\u001b[0;34m\u001b[0m\u001b[0m\n\u001b[1;32m      3\u001b[0m \u001b[0mundersample\u001b[0m \u001b[0;34m=\u001b[0m \u001b[0mRandomUnderSampler\u001b[0m\u001b[0;34m(\u001b[0m\u001b[0msampling_strategy\u001b[0m\u001b[0;34m=\u001b[0m\u001b[0;34m'majority'\u001b[0m\u001b[0;34m)\u001b[0m\u001b[0;34m\u001b[0m\u001b[0;34m\u001b[0m\u001b[0m\n\u001b[0;32m----> 4\u001b[0;31m \u001b[0mX_under\u001b[0m\u001b[0;34m,\u001b[0m \u001b[0my_under\u001b[0m \u001b[0;34m=\u001b[0m \u001b[0mundersample\u001b[0m\u001b[0;34m.\u001b[0m\u001b[0mfit_resample\u001b[0m\u001b[0;34m(\u001b[0m\u001b[0mX\u001b[0m\u001b[0;34m,\u001b[0m \u001b[0my\u001b[0m\u001b[0;34m)\u001b[0m\u001b[0;34m\u001b[0m\u001b[0;34m\u001b[0m\u001b[0m\n\u001b[0m",
      "\u001b[0;32m~/opt/anaconda3/lib/python3.8/site-packages/imblearn/base.py\u001b[0m in \u001b[0;36mfit_resample\u001b[0;34m(self, X, y)\u001b[0m\n\u001b[1;32m     73\u001b[0m             \u001b[0mThe\u001b[0m \u001b[0mcorresponding\u001b[0m \u001b[0mlabel\u001b[0m \u001b[0mof\u001b[0m\u001b[0;31m \u001b[0m\u001b[0;31m`\u001b[0m\u001b[0mX_resampled\u001b[0m\u001b[0;31m`\u001b[0m\u001b[0;34m.\u001b[0m\u001b[0;34m\u001b[0m\u001b[0;34m\u001b[0m\u001b[0m\n\u001b[1;32m     74\u001b[0m         \"\"\"\n\u001b[0;32m---> 75\u001b[0;31m         \u001b[0mcheck_classification_targets\u001b[0m\u001b[0;34m(\u001b[0m\u001b[0my\u001b[0m\u001b[0;34m)\u001b[0m\u001b[0;34m\u001b[0m\u001b[0;34m\u001b[0m\u001b[0m\n\u001b[0m\u001b[1;32m     76\u001b[0m         \u001b[0marrays_transformer\u001b[0m \u001b[0;34m=\u001b[0m \u001b[0mArraysTransformer\u001b[0m\u001b[0;34m(\u001b[0m\u001b[0mX\u001b[0m\u001b[0;34m,\u001b[0m \u001b[0my\u001b[0m\u001b[0;34m)\u001b[0m\u001b[0;34m\u001b[0m\u001b[0;34m\u001b[0m\u001b[0m\n\u001b[1;32m     77\u001b[0m         \u001b[0mX\u001b[0m\u001b[0;34m,\u001b[0m \u001b[0my\u001b[0m\u001b[0;34m,\u001b[0m \u001b[0mbinarize_y\u001b[0m \u001b[0;34m=\u001b[0m \u001b[0mself\u001b[0m\u001b[0;34m.\u001b[0m\u001b[0m_check_X_y\u001b[0m\u001b[0;34m(\u001b[0m\u001b[0mX\u001b[0m\u001b[0;34m,\u001b[0m \u001b[0my\u001b[0m\u001b[0;34m)\u001b[0m\u001b[0;34m\u001b[0m\u001b[0;34m\u001b[0m\u001b[0m\n",
      "\u001b[0;32m~/opt/anaconda3/lib/python3.8/site-packages/sklearn/utils/multiclass.py\u001b[0m in \u001b[0;36mcheck_classification_targets\u001b[0;34m(y)\u001b[0m\n\u001b[1;32m    167\u001b[0m     \u001b[0my\u001b[0m \u001b[0;34m:\u001b[0m \u001b[0marray\u001b[0m\u001b[0;34m-\u001b[0m\u001b[0mlike\u001b[0m\u001b[0;34m\u001b[0m\u001b[0;34m\u001b[0m\u001b[0m\n\u001b[1;32m    168\u001b[0m     \"\"\"\n\u001b[0;32m--> 169\u001b[0;31m     \u001b[0my_type\u001b[0m \u001b[0;34m=\u001b[0m \u001b[0mtype_of_target\u001b[0m\u001b[0;34m(\u001b[0m\u001b[0my\u001b[0m\u001b[0;34m)\u001b[0m\u001b[0;34m\u001b[0m\u001b[0;34m\u001b[0m\u001b[0m\n\u001b[0m\u001b[1;32m    170\u001b[0m     if y_type not in ['binary', 'multiclass', 'multiclass-multioutput',\n\u001b[1;32m    171\u001b[0m                       'multilabel-indicator', 'multilabel-sequences']:\n",
      "\u001b[0;32m~/opt/anaconda3/lib/python3.8/site-packages/sklearn/utils/multiclass.py\u001b[0m in \u001b[0;36mtype_of_target\u001b[0;34m(y)\u001b[0m\n\u001b[1;32m    285\u001b[0m     \u001b[0;32mif\u001b[0m \u001b[0my\u001b[0m\u001b[0;34m.\u001b[0m\u001b[0mdtype\u001b[0m\u001b[0;34m.\u001b[0m\u001b[0mkind\u001b[0m \u001b[0;34m==\u001b[0m \u001b[0;34m'f'\u001b[0m \u001b[0;32mand\u001b[0m \u001b[0mnp\u001b[0m\u001b[0;34m.\u001b[0m\u001b[0many\u001b[0m\u001b[0;34m(\u001b[0m\u001b[0my\u001b[0m \u001b[0;34m!=\u001b[0m \u001b[0my\u001b[0m\u001b[0;34m.\u001b[0m\u001b[0mastype\u001b[0m\u001b[0;34m(\u001b[0m\u001b[0mint\u001b[0m\u001b[0;34m)\u001b[0m\u001b[0;34m)\u001b[0m\u001b[0;34m:\u001b[0m\u001b[0;34m\u001b[0m\u001b[0;34m\u001b[0m\u001b[0m\n\u001b[1;32m    286\u001b[0m         \u001b[0;31m# [.1, .2, 3] or [[.1, .2, 3]] or [[1., .2]] and not [1., 2., 3.]\u001b[0m\u001b[0;34m\u001b[0m\u001b[0;34m\u001b[0m\u001b[0;34m\u001b[0m\u001b[0m\n\u001b[0;32m--> 287\u001b[0;31m         \u001b[0m_assert_all_finite\u001b[0m\u001b[0;34m(\u001b[0m\u001b[0my\u001b[0m\u001b[0;34m)\u001b[0m\u001b[0;34m\u001b[0m\u001b[0;34m\u001b[0m\u001b[0m\n\u001b[0m\u001b[1;32m    288\u001b[0m         \u001b[0;32mreturn\u001b[0m \u001b[0;34m'continuous'\u001b[0m \u001b[0;34m+\u001b[0m \u001b[0msuffix\u001b[0m\u001b[0;34m\u001b[0m\u001b[0;34m\u001b[0m\u001b[0m\n\u001b[1;32m    289\u001b[0m \u001b[0;34m\u001b[0m\u001b[0m\n",
      "\u001b[0;32m~/opt/anaconda3/lib/python3.8/site-packages/sklearn/utils/validation.py\u001b[0m in \u001b[0;36m_assert_all_finite\u001b[0;34m(X, allow_nan, msg_dtype)\u001b[0m\n\u001b[1;32m     94\u001b[0m                 not allow_nan and not np.isfinite(X).all()):\n\u001b[1;32m     95\u001b[0m             \u001b[0mtype_err\u001b[0m \u001b[0;34m=\u001b[0m \u001b[0;34m'infinity'\u001b[0m \u001b[0;32mif\u001b[0m \u001b[0mallow_nan\u001b[0m \u001b[0;32melse\u001b[0m \u001b[0;34m'NaN, infinity'\u001b[0m\u001b[0;34m\u001b[0m\u001b[0;34m\u001b[0m\u001b[0m\n\u001b[0;32m---> 96\u001b[0;31m             raise ValueError(\n\u001b[0m\u001b[1;32m     97\u001b[0m                     \u001b[0mmsg_err\u001b[0m\u001b[0;34m.\u001b[0m\u001b[0mformat\u001b[0m\u001b[0;34m\u001b[0m\u001b[0;34m\u001b[0m\u001b[0m\n\u001b[1;32m     98\u001b[0m                     (type_err,\n",
      "\u001b[0;31mValueError\u001b[0m: Input contains NaN, infinity or a value too large for dtype('float64')."
     ]
    }
   ],
   "source": [
    "# 언더샘플링\n",
    "from imblearn.under_sampling import RandomUnderSampler\n",
    "undersample = RandomUnderSampler(sampling_strategy='majority')\n",
    "X_under, y_under = undersample.fit_resample(X, y)"
   ]
  },
  {
   "cell_type": "code",
   "execution_count": null,
   "metadata": {
    "colab": {
     "base_uri": "https://localhost:8080/"
    },
    "executionInfo": {
     "elapsed": 9,
     "status": "ok",
     "timestamp": 1665643518698,
     "user": {
      "displayName": "J",
      "userId": "09129038203281678179"
     },
     "user_tz": -540
    },
    "id": "vnLesHWk4myi",
    "outputId": "c6dc29c4-15d1-4288-da14-1d2fed8cf804"
   },
   "outputs": [],
   "source": [
    "y_under.value_counts()"
   ]
  },
  {
   "cell_type": "markdown",
   "metadata": {
    "id": "KnF6y-0i4nBC"
   },
   "source": [
    "#### train test split"
   ]
  },
  {
   "cell_type": "code",
   "execution_count": null,
   "metadata": {
    "id": "jA0i_MhJYHRR"
   },
   "outputs": [],
   "source": [
    "# 기본 샘플링 train test split\n",
    "from sklearn.model_selection import train_test_split\n",
    "X_train, X_test, y_train, y_test = train_test_split(loan_user[['loan_limit', 'loan_rate', 'gender', 'credit_score', 'yearly_income',\n",
    "       'desired_amount', 'personal_rehabilitation_yn',\n",
    "       'personal_rehabilitation_complete_yn', 'existing_loan_cnt',\n",
    "       'existing_loan_amt', 'work_day', 'Age', 'label_purpose',\n",
    "       'label_employment_type', 'label_houseown_type', 'label_income_type', ]],loan_user['is_applied'], test_size=0.2, random_state=42 )"
   ]
  },
  {
   "cell_type": "code",
   "execution_count": null,
   "metadata": {
    "id": "F39IUpcv51C3"
   },
   "outputs": [],
   "source": [
    "# 언더샘플링 train test split\n",
    "from sklearn.model_selection import train_test_split\n",
    "X_train, X_test, y_train, y_test = train_test_split(X_under,y_under, test_size=0.2, random_state=42 )"
   ]
  },
  {
   "cell_type": "markdown",
   "metadata": {
    "id": "XqCPVbpP6lu1"
   },
   "source": [
    "#### 하이퍼 파라미터 선정\n",
    "- 적절한 하이퍼 파라미터 조사"
   ]
  },
  {
   "cell_type": "code",
   "execution_count": null,
   "metadata": {
    "colab": {
     "background_save": true,
     "base_uri": "https://localhost:8080/"
    },
    "id": "H5mC1ReVZCee",
    "outputId": "ae116d44-b770-496c-b11e-e1800da414a6"
   },
   "outputs": [
    {
     "name": "stdout",
     "output_type": "stream",
     "text": [
      "Current max depth:  30 \n",
      "\n",
      "30\n",
      "Current max depth:  31 \n",
      "\n",
      "31\n",
      "Current max depth:  32 \n",
      "\n",
      "32\n",
      "Current max depth:  33 \n",
      "\n",
      "33\n",
      "Current max depth:  34 \n",
      "\n",
      "34\n",
      " Max Depth  Average Accuracy\n",
      "        30          0.803084\n",
      "        31          0.802987\n",
      "        32          0.803233\n",
      "        33          0.803315\n",
      "        34          0.803370\n"
     ]
    }
   ],
   "source": [
    "# 최적의 max_depth 찾기\n",
    "from sklearn.model_selection import KFold\n",
    "from sklearn.tree import DecisionTreeClassifier\n",
    "from sklearn.ensemble import RandomForestClassifier\n",
    "from sklearn.datasets import load_breast_cancer\n",
    "from sklearn.metrics import confusion_matrix, classification_report\n",
    "\n",
    "\n",
    "cv = KFold(n_splits=5)\n",
    "accuracies = list()\n",
    "max_attributes = 35\n",
    "depth_range = range(30, max_attributes)\n",
    "\n",
    "train = X_under\n",
    "target = y_under\n",
    "\n",
    "for depth in depth_range:\n",
    "    fold_accuracy = []\n",
    "    rand_clf = RandomForestClassifier(max_depth = depth)\n",
    "    print(\"Current max depth: \", depth, \"\\n\")\n",
    "    for train_fold, valid_fold in cv.split(train):\n",
    "        f_train = train.loc[train_fold] # Extract train data with cv indices\n",
    "        f_valid = train.loc[valid_fold] # Extract valid data with cv indices\n",
    "\n",
    "        model = rand_clf.fit(X_train, y_train)\n",
    "        valid_acc = model.score(X_test, y_test)\n",
    "        fold_accuracy.append(valid_acc)\n",
    "\n",
    "    avg = sum(fold_accuracy)/len(fold_accuracy)\n",
    "    accuracies.append(avg)\n",
    "    print(depth)\n",
    "    # print(\"Accuracy per fold: \", fold_accuracy, \"\\n\")\n",
    "    # print(\"Average accuracy: \", avg)\n",
    "    # print(\"\\n\")\n",
    "    \n",
    "# Just to show results conveniently\n",
    "df = pd.DataFrame({\"Max Depth\": depth_range, \"Average Accuracy\": accuracies})\n",
    "df = df[[\"Max Depth\", \"Average Accuracy\"]]\n",
    "print(df.to_string(index=False))"
   ]
  },
  {
   "cell_type": "code",
   "execution_count": null,
   "metadata": {
    "id": "E3j4x6kMJS-o"
   },
   "outputs": [],
   "source": [
    "accuracies\n",
    "#df1.append([depth_range, accuracies], axis =)\n",
    "df.columns = ['num', 'accuacy']\n",
    "df2 = pd.concat([df1, df], axis= 0)\n",
    "df2"
   ]
  },
  {
   "cell_type": "code",
   "execution_count": null,
   "metadata": {
    "id": "kXpmxBiQdId9"
   },
   "outputs": [],
   "source": [
    "\n",
    "\n",
    "print(confusion_matrix(y_test, y_pred))\n",
    "print(classification_report(y_test, y_pred))"
   ]
  },
  {
   "cell_type": "code",
   "execution_count": null,
   "metadata": {
    "id": "6jDTe2z1zq5P"
   },
   "outputs": [],
   "source": [
    "y_test"
   ]
  },
  {
   "cell_type": "code",
   "execution_count": null,
   "metadata": {
    "id": "oAXAGZF1cyiQ"
   },
   "outputs": [],
   "source": [
    "dataset[:-1]"
   ]
  },
  {
   "cell_type": "code",
   "execution_count": null,
   "metadata": {
    "id": "juuY7fIwc6ps"
   },
   "outputs": [],
   "source": [
    "feature = dataset.columns\n",
    "feature = feature.drop('is_applied')"
   ]
  },
  {
   "cell_type": "code",
   "execution_count": null,
   "metadata": {
    "id": "pI7doAwxecIm"
   },
   "outputs": [],
   "source": [
    "# n_estimators 조절\n",
    "\n",
    "from sklearn import metrics\n",
    "model_ne1 = RandomForestClassifier(n_estimators = 1) # 모델을 객체에 할당\n",
    "model_ne100 = RandomForestClassifier(n_estimators = 100)\n",
    "\n",
    "model_ne1.fit(X_train, y_train) # 모델 학습  \n",
    "model_ne100.fit(X_train, y_train) \n",
    "\n",
    "pred_ne1 = model_ne1.predict(X_test)\n",
    "pred_ne100 = model_ne100.predict(X_test)\n",
    "\n",
    "print('RF n_estimators = 1 의 예측 정확도는', round(metrics.accuracy_score(y_test, pred_ne1),3)) # 정확도 확인\n",
    "print('RF n_estimators = 100 의 예측 정확도는', round(metrics.accuracy_score(y_test, pred_ne100),3)) # 정확도 확인"
   ]
  },
  {
   "cell_type": "code",
   "execution_count": null,
   "metadata": {
    "id": "hGNsQspvtAPW"
   },
   "outputs": [],
   "source": [
    "#점검용\n",
    "print('f1 score 1', metrics.f1_score(y_test, pred_ne1))\n",
    "print('f1 score 100', metrics.f1_score(y_test, pred_ne100))\n",
    "print('f1 score 150', metrics.f1_score(y_test, pred_ne150))\n",
    "print('f1 score 200', metrics.f1_score(y_test, pred_ne200))"
   ]
  },
  {
   "cell_type": "code",
   "execution_count": null,
   "metadata": {
    "id": "nREAxM7RfAAl"
   },
   "outputs": [],
   "source": [
    "from sklearn.ensemble import RandomForestClassifier\n",
    "\n",
    "model_mf1 = RandomForestClassifier(max_features = 1) # 모델을 객체에 할당\n",
    "model_mf3 = RandomForestClassifier(max_features = 3)\n",
    "model_mf5 = RandomForestClassifier(max_features = 5)\n",
    "\n",
    "\n",
    "model_mf1.fit(X_train, y_train) # 모델 학습\n",
    "model_mf3.fit(X_train, y_train) \n",
    "model_mf5.fit(X_train, y_train) \n",
    "\n",
    "\n",
    "\n",
    "pred_mf1 = model_mf1.predict(X_test)\n",
    "pred_mf3 = model_mf3.predict(X_test)\n",
    "pred_mf5 = model_mf5.predict(X_test)\n",
    "\n",
    "print('RF n_estimators = 1 의 예측 정확도는', round(metrics.accuracy_score(y_test, pred_mf1),3)) # 정확도 확인\n",
    "print('RF n_estimators = 3 의 예측 정확도는', round(metrics.accuracy_score(y_test, pred_mf3),3)) # 정확도 확인\n",
    "print('RF n_estimators = 5 의 예측 정확도는', round(metrics.accuracy_score(y_test, pred_mf5),3)) # 정확도 확인\n"
   ]
  },
  {
   "cell_type": "code",
   "execution_count": null,
   "metadata": {
    "id": "cUMceZHyLmq-"
   },
   "outputs": [],
   "source": [
    "print('RF n_estimators = 1 의 f1 score는', round(metrics.f1_score(y_test, pred_mf1),3)) # 정확도 확인\n",
    "print('RF n_estimators = 3 의  f1 score는', round(metrics.f1_score(y_test, pred_mf3),3)) # 정확도 확인\n",
    "print('RF n_estimators = 5 의  f1 score는', round(metrics.f1_score(y_test, pred_mf5),3)) # 정확도 확인\n"
   ]
  },
  {
   "cell_type": "code",
   "execution_count": null,
   "metadata": {
    "id": "7l3ZqPl-Bwie"
   },
   "outputs": [],
   "source": [
    "model_mf7 = RandomForestClassifier(max_features = 7)\n",
    "model_mf9 = RandomForestClassifier(max_features = 9)\n",
    "\n",
    "model_mf7.fit(X_train, y_train) \n",
    "model_mf9.fit(X_train, y_train) \n",
    "\n",
    "pred_mf7 = model_mf7.predict(X_test) \n",
    "pred_mf9 = model_mf9.predict(X_test)\n",
    "\n",
    "print('RF n_estimators = 7 의 예측 정확도는', round(metrics.accuracy_score(y_test, pred_mf7),3)) # 정확도 확인\n",
    "print('RF n_estimators = 9 의 예측 정확도는', round(metrics.accuracy_score(y_test, pred_mf9),3)) # 정확도 확인\n"
   ]
  },
  {
   "cell_type": "code",
   "execution_count": null,
   "metadata": {
    "id": "iF1s3ICdB0Mx"
   },
   "outputs": [],
   "source": [
    "model_mf11 = RandomForestClassifier(max_features = 11)\n",
    "model_mf13 = RandomForestClassifier(max_features = 13)\n",
    "model_mf15 = RandomForestClassifier(max_features = 15)\n",
    "\n",
    "model_mf11.fit(X_train, y_train) \n",
    "model_mf13.fit(X_train, y_train) \n",
    "model_mf15.fit(X_train, y_train) \n",
    "\n",
    "pred_mf11 = model_mf11.predict(X_test)\n",
    "pred_mf13 = model_mf13.predict(X_test)\n",
    "pred_mf15 = model_mf15.predict(X_test)\n",
    "\n",
    "print('RF n_estimators = 11 의 예측 정확도는', round(metrics.accuracy_score(y_test, pred_mf11),3)) # 정확도 확인\n",
    "print('RF n_estimators = 13 의 예측 정확도는', round(metrics.accuracy_score(y_test, pred_mf13),3)) # 정확도 확인\n",
    "print('RF n_estimators = 15 의 예측 정확도는', round(metrics.accuracy_score(y_test, pred_mf15),3)) # 정확도 확인"
   ]
  },
  {
   "cell_type": "code",
   "execution_count": null,
   "metadata": {
    "id": "6W84knqEs0U7"
   },
   "outputs": [],
   "source": [
    "print('RF n_estimators = 7 의 f1 score는', round(metrics.f1_score(y_test, pred_mf7),3)) # 정확도 확인\n",
    "print('RF n_estimators = 9 의 f1 score는', round(metrics.f1_score(y_test, pred_mf9),3)) # 정확도 확인\n",
    "print('RF n_estimators = 11 의  f1 score는', round(metrics.f1_score(y_test, pred_mf11),3)) # 정확도 확인\n",
    "print('RF n_estimators = 13 의  f1 score는', round(metrics.f1_score(y_test, pred_mf13),3)) # 정확도 확인\n",
    "print('RF n_estimators = 15 의  f1 score는', round(metrics.f1_score(y_test, pred_mf15),3)) # 정확도 확인"
   ]
  },
  {
   "cell_type": "code",
   "execution_count": null,
   "metadata": {
    "id": "Ib-EIT0QdIh-"
   },
   "outputs": [],
   "source": [
    "'''import seaborn as sns\n",
    "import numpy as np\n",
    "%matplotlib inline\n",
    "\n",
    "# feature importance 추출 \n",
    "print(\"Feature importances:\\n{0}\".format(np.round(rand_clf.feature_importances_, 3)))\n",
    "\n",
    "# feature별 importance 매핑\n",
    "for name, value in zip('' , rand_clf.feature_importances_):\n",
    "    print('{0} : {1:.3f}'.format(name, value))\n",
    "\n",
    "# feature importance를 column 별로 시각화 하기 \n",
    "sns.barplot(x=rand_clf.feature_importances_ , y=feature)\n",
    "\n",
    "'''"
   ]
  },
  {
   "cell_type": "markdown",
   "metadata": {
    "id": "ZKvDGYku6cpv"
   },
   "source": [
    "#### Random Forest\n",
    "- 최종 모델\n",
    "\n",
    "\n",
    "```\n",
    "RandomForestClassifier( bootstrap=True, ccp_alpha=0.0, class_weight=None,\n",
    "                        criterion='gini', max_depth=33, max_features='auto',\n",
    "                        max_leaf_nodes=None, max_samples=None,\n",
    "                        min_impurity_decrease=0.0, \n",
    "                        min_samples_leaf=1, min_samples_split=2,\n",
    "                        min_weight_fraction_leaf=0.0, n_estimators=150,\n",
    "                        n_jobs=-1, oob_score=False, random_state=4199, verbose=0,\n",
    "                        warm_start=False)\n",
    "```\n",
    "\n",
    "\n"
   ]
  },
  {
   "cell_type": "code",
   "execution_count": null,
   "metadata": {
    "id": "QmA-B5lQup92"
   },
   "outputs": [],
   "source": [
    "from sklearn.model_selection import KFold\n",
    "from sklearn.tree import DecisionTreeClassifier\n",
    "from sklearn.ensemble import RandomForestClassifier\n",
    "from sklearn.datasets import load_breast_cancer\n",
    "from sklearn.metrics import confusion_matrix, classification_report\n",
    "import seaborn as sns\n",
    "import numpy as np\n",
    "%matplotlib inline\n",
    "from sklearn import metrics"
   ]
  },
  {
   "cell_type": "code",
   "execution_count": null,
   "metadata": {
    "colab": {
     "base_uri": "https://localhost:8080/"
    },
    "executionInfo": {
     "elapsed": 147430,
     "status": "ok",
     "timestamp": 1665645274845,
     "user": {
      "displayName": "J",
      "userId": "09129038203281678179"
     },
     "user_tz": -540
    },
    "id": "XhivoeosaELZ",
    "outputId": "f40fed34-a25a-432d-f283-6fc73fd662e9"
   },
   "outputs": [
    {
     "name": "stdout",
     "output_type": "stream",
     "text": [
      "훈련세트 정확도: 0.993\n",
      "테스트세트 정확도: 0.804\n",
      "f1 score 1 0.8098587843171652\n"
     ]
    }
   ],
   "source": [
    "#rand_clf = RandomForestClassifier(criterion='entropy', bootstrap=True, random_state=42, max_depth=33)\n",
    "\n",
    "rand_clf = RandomForestClassifier( bootstrap=True, ccp_alpha=0.0, class_weight=None,\n",
    "                        criterion='gini', max_depth=33, max_features='auto',\n",
    "                        max_leaf_nodes=None, max_samples=None,\n",
    "                        min_impurity_decrease=0.0, \n",
    "                        min_samples_leaf=1, min_samples_split=2,\n",
    "                        min_weight_fraction_leaf=0.0, n_estimators=150,\n",
    "                        n_jobs=-1, oob_score=False, random_state=4199, verbose=0,\n",
    "                        warm_start=False)\n",
    "\n",
    "rand_clf.fit(X_train, y_train)\n",
    "y_pred = rand_clf.predict(X_test)\n",
    "\n",
    "print('훈련세트 정확도: {:.3f}' .format(rand_clf.score(X_train, y_train)))\n",
    "print('테스트세트 정확도: {:.3f}' .format(rand_clf.score(X_test, y_test)))\n",
    "print('f1 score 1', metrics.f1_score(y_test, y_pred))"
   ]
  },
  {
   "cell_type": "code",
   "execution_count": null,
   "metadata": {
    "colab": {
     "base_uri": "https://localhost:8080/"
    },
    "executionInfo": {
     "elapsed": 1283,
     "status": "ok",
     "timestamp": 1665645400320,
     "user": {
      "displayName": "J",
      "userId": "09129038203281678179"
     },
     "user_tz": -540
    },
    "id": "JhE8AwMPP65E",
    "outputId": "ef752126-0537-44ed-80ab-4e9ebd64530d"
   },
   "outputs": [
    {
     "name": "stdout",
     "output_type": "stream",
     "text": [
      "\n",
      "Classification Report:\n",
      "              precision    recall  f1-score   support\n",
      "\n",
      "         0.0       0.82      0.77      0.80     82808\n",
      "         1.0       0.79      0.83      0.81     83059\n",
      "\n",
      "    accuracy                           0.80    165867\n",
      "   macro avg       0.81      0.80      0.80    165867\n",
      "weighted avg       0.81      0.80      0.80    165867\n",
      "\n",
      "\n",
      "Confusion Matrix:\n",
      "[[64101 18707]\n",
      " [13810 69249]]\n"
     ]
    }
   ],
   "source": [
    "from sklearn.metrics import classification_report, confusion_matrix\n",
    "print('\\nClassification Report:')\n",
    "print(classification_report(y_test, y_pred))\n",
    "print('\\nConfusion Matrix:')\n",
    "print(confusion_matrix(y_test, y_pred))"
   ]
  },
  {
   "cell_type": "code",
   "execution_count": null,
   "metadata": {
    "id": "8aCb_H817MxQ"
   },
   "outputs": [],
   "source": []
  },
  {
   "cell_type": "markdown",
   "metadata": {
    "id": "aZQLjd7O7Qjr"
   },
   "source": [
    "#### 최종 대출 예측 데이터 도출"
   ]
  },
  {
   "cell_type": "code",
   "execution_count": null,
   "metadata": {
    "colab": {
     "base_uri": "https://localhost:8080/"
    },
    "executionInfo": {
     "elapsed": 147430,
     "status": "ok",
     "timestamp": 1665645274845,
     "user": {
      "displayName": "J",
      "userId": "09129038203281678179"
     },
     "user_tz": -540
    },
    "id": "K1FfmROq7ODU",
    "outputId": "f40fed34-a25a-432d-f283-6fc73fd662e9"
   },
   "outputs": [
    {
     "name": "stdout",
     "output_type": "stream",
     "text": [
      "훈련세트 정확도: 0.993\n",
      "테스트세트 정확도: 0.804\n",
      "f1 score 1 0.8098587843171652\n"
     ]
    }
   ],
   "source": [
    "\n",
    "\n",
    "rand_clf = RandomForestClassifier( bootstrap=True, ccp_alpha=0.0, class_weight=None,\n",
    "                        criterion='gini', max_depth=33, max_features='auto',\n",
    "                        max_leaf_nodes=None, max_samples=None,\n",
    "                        min_impurity_decrease=0.0, \n",
    "                        min_samples_leaf=1, min_samples_split=2,\n",
    "                        min_weight_fraction_leaf=0.0, n_estimators=150,\n",
    "                        n_jobs=-1, oob_score=False, random_state=4199, verbose=0,\n",
    "                        warm_start=False)\n",
    "\n",
    "rand_clf.fit(X_train, y_train)\n",
    "y_pred = rand_clf.predict(X_test)\n",
    "\n",
    "print('훈련세트 정확도: {:.3f}' .format(rand_clf.score(X_train, y_train)))\n",
    "print('테스트세트 정확도: {:.3f}' .format(rand_clf.score(X_test, y_test)))\n",
    "print('f1 score 1', metrics.f1_score(y_test, y_pred))"
   ]
  }
 ],
 "metadata": {
  "colab": {
   "authorship_tag": "ABX9TyOS8wfYWhfTfan0wNNNiCxr",
   "collapsed_sections": [
    "EWXCxhP68Kd3",
    "5KpiR7Kk7vwU",
    "gLthht8E9LgY",
    "yROOVkEq4ZdR",
    "KnF6y-0i4nBC",
    "XqCPVbpP6lu1",
    "ZKvDGYku6cpv"
   ],
   "machine_shape": "hm",
   "mount_file_id": "1Z1YfL3PYaj1ynnzU0mjJujBYk_9rpgj6",
   "provenance": []
  },
  "kernelspec": {
   "display_name": "Python 3 (ipykernel)",
   "language": "python",
   "name": "python3"
  },
  "language_info": {
   "codemirror_mode": {
    "name": "ipython",
    "version": 3
   },
   "file_extension": ".py",
   "mimetype": "text/x-python",
   "name": "python",
   "nbconvert_exporter": "python",
   "pygments_lexer": "ipython3",
   "version": "3.8.2"
  }
 },
 "nbformat": 4,
 "nbformat_minor": 1
}
