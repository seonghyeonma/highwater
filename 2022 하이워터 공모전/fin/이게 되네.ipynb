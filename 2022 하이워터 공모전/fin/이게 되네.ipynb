{
 "cells": [
  {
   "cell_type": "code",
   "execution_count": 2,
   "id": "2ea75b94",
   "metadata": {},
   "outputs": [],
   "source": [
    "# 모듈 불러오기 \n",
    "import pandas as pd\n",
    "import numpy as np\n",
    "import matplotlib.pyplot as plt\n",
    "import seaborn as sns\n",
    "import itertools\n",
    "import gc\n",
    "import sys\n",
    "import warnings"
   ]
  },
  {
   "cell_type": "code",
   "execution_count": 3,
   "id": "864f7bf2",
   "metadata": {},
   "outputs": [],
   "source": [
    "# 메모리 줄여주는 함수\n",
    "def reduce_mem_usage(df):\n",
    "    \"\"\" iterate through all the columns of a dataframe and modify the data type\n",
    "        to reduce memory usage.\n",
    "    \"\"\"\n",
    "    start_mem = df.memory_usage().sum() / 1024**2\n",
    "    \n",
    "    for col in df.columns:\n",
    "        col_type = df[col].dtype\n",
    "        \n",
    "        if col_type != object:\n",
    "            c_min = df[col].min()\n",
    "            c_max = df[col].max()\n",
    "            if str(col_type)[:3] == 'int':\n",
    "                if c_min > np.iinfo(np.int8).min and c_max < np.iinfo(np.int8).max:\n",
    "                    df[col] = df[col].astype(np.int8)\n",
    "                elif c_min > np.iinfo(np.int16).min and c_max < np.iinfo(np.int16).max:\n",
    "                    df[col] = df[col].astype(np.int16)\n",
    "                elif c_min > np.iinfo(np.int32).min and c_max < np.iinfo(np.int32).max:\n",
    "                    df[col] = df[col].astype(np.int32)\n",
    "                elif c_min > np.iinfo(np.int64).min and c_max < np.iinfo(np.int64).max:\n",
    "                    df[col] = df[col].astype(np.int64)  \n",
    "            else:\n",
    "                #if c_min > np.finfo(np.float16).min and c_max < np.finfo(np.float16).max:\n",
    "                #    df[col] = df[col].astype(np.float16)\n",
    "                #el\n",
    "                if c_min > np.finfo(np.float32).min and c_max < np.finfo(np.float32).max:\n",
    "                    df[col] = df[col].astype(np.float32)\n",
    "                else:\n",
    "                    df[col] = df[col].astype(np.float64)\n",
    "        else:\n",
    "            df[col] = df[col].astype('category')\n",
    "\n",
    "    end_mem = df.memory_usage().sum() / 1024**2\n",
    "    print('Memory usage of dataframe is {:.2f} MB --> {:.2f} MB (Decreased by {:.1f}%)'.format(\n",
    "        start_mem, end_mem, 100 * (start_mem - end_mem) / start_mem))\n",
    "    return df"
   ]
  },
  {
   "cell_type": "code",
   "execution_count": 4,
   "id": "7d35c922",
   "metadata": {
    "scrolled": true
   },
   "outputs": [
    {
     "name": "stdout",
     "output_type": "stream",
     "text": [
      "Memory usage of dataframe is 1293.21 MB --> 456.43 MB (Decreased by 64.7%)\n",
      "(9970777, 17)\n"
     ]
    }
   ],
   "source": [
    "# 전처리 완료한 파일 불러오기 \n",
    "train = pd.read_csv('loanuser_fin.csv')\n",
    "\n",
    "train = reduce_mem_usage(train)\n",
    "\n",
    "print(train.shape)"
   ]
  },
  {
   "cell_type": "code",
   "execution_count": 5,
   "id": "7db79ff0",
   "metadata": {},
   "outputs": [],
   "source": [
    "train = train.dropna(subset=['is_applied'])"
   ]
  },
  {
   "cell_type": "code",
   "execution_count": 6,
   "id": "dca343d2",
   "metadata": {},
   "outputs": [
    {
     "name": "stdout",
     "output_type": "stream",
     "text": [
      "<class 'pandas.core.frame.DataFrame'>\n",
      "Int64Index: 7595171 entries, 9818 to 9965020\n",
      "Data columns (total 17 columns):\n",
      " #   Column                               Dtype  \n",
      "---  ------                               -----  \n",
      " 0   loan_limit                           float32\n",
      " 1   loan_rate                            float32\n",
      " 2   gender                               float32\n",
      " 3   credit_score                         int8   \n",
      " 4   yearly_income                        float32\n",
      " 5   desired_amount                       float32\n",
      " 6   personal_rehabilitation_yn           float32\n",
      " 7   personal_rehabilitation_complete_yn  float32\n",
      " 8   existing_loan_cnt                    float32\n",
      " 9   existing_loan_amt                    float32\n",
      " 10  work_day                             int16  \n",
      " 11  Age                                  int8   \n",
      " 12  label_purpose                        int8   \n",
      " 13  label_employment_type                int8   \n",
      " 14  label_houseown_type                  int8   \n",
      " 15  label_income_type                    int8   \n",
      " 16  is_applied                           float32\n",
      "dtypes: float32(10), int16(1), int8(6)\n",
      "memory usage: 405.6 MB\n",
      "None\n"
     ]
    }
   ],
   "source": [
    "train['is_applied'].unique()\n",
    "print(train.info())"
   ]
  },
  {
   "cell_type": "code",
   "execution_count": 6,
   "id": "20237b01",
   "metadata": {},
   "outputs": [],
   "source": [
    "# !pip install pandas\n",
    "# !pip install numpy\n",
    "# !pip install seaborn\n",
    "# !pip install matplotlib\n",
    "# !pip install xgboost\n",
    "# !pip install lightgbm\n",
    "# !pip install sklearn\n",
    "\n",
    "# 라이브러리 임포트\n",
    "import pandas as pd\n",
    "import numpy as np\n",
    "\n",
    "import seaborn as sns\n",
    "import matplotlib\n",
    "import matplotlib.pyplot as plt\n",
    "%matplotlib inline\n",
    "\n",
    "import xgboost\n",
    "from xgboost import XGBClassifier\n",
    "\n",
    "from sklearn.svm import SVC\n",
    "from sklearn.tree import DecisionTreeClassifier\n",
    "from sklearn.neighbors import KNeighborsClassifier\n",
    "from sklearn.ensemble import RandomForestClassifier, AdaBoostClassifier, ExtraTreesClassifier, BaggingClassifier, GradientBoostingClassifier, VotingClassifier, StackingClassifier\n",
    "from sklearn.linear_model import LogisticRegression, LinearRegression, Ridge, RidgeCV, RidgeClassifier\n",
    "from sklearn.model_selection import train_test_split, RepeatedStratifiedKFold, GridSearchCV\n",
    "\n",
    "import sklearn.metrics as metrics\n",
    "from sklearn.metrics import accuracy_score, precision_score, recall_score, f1_score, roc_auc_score, roc_curve, auc, confusion_matrix\n",
    "\n",
    "import warnings\n",
    "warnings.filterwarnings('ignore')\n"
   ]
  },
  {
   "cell_type": "code",
   "execution_count": 30,
   "id": "d07411bb",
   "metadata": {},
   "outputs": [],
   "source": [
    "X = train.drop('is_applied', axis=1)\n",
    "y = train['is_applied']"
   ]
  },
  {
   "cell_type": "code",
   "execution_count": 31,
   "id": "67be86ff",
   "metadata": {},
   "outputs": [
    {
     "data": {
      "text/plain": [
       "9818       0.0\n",
       "9819       0.0\n",
       "9820       0.0\n",
       "9821       0.0\n",
       "9822       0.0\n",
       "          ... \n",
       "9965016    0.0\n",
       "9965017    0.0\n",
       "9965018    0.0\n",
       "9965019    0.0\n",
       "9965020    0.0\n",
       "Name: is_applied, Length: 7595171, dtype: float32"
      ]
     },
     "execution_count": 31,
     "metadata": {},
     "output_type": "execute_result"
    }
   ],
   "source": [
    "y"
   ]
  },
  {
   "cell_type": "code",
   "execution_count": 9,
   "id": "3448e798",
   "metadata": {},
   "outputs": [],
   "source": [
    "# data를 training set과 validation set으로 나누기\n",
    "X_train, X_valid, y_train, y_valid = train_test_split(X, y, test_size=0.2)"
   ]
  },
  {
   "cell_type": "code",
   "execution_count": 32,
   "id": "a401b316",
   "metadata": {},
   "outputs": [
    {
     "name": "stdout",
     "output_type": "stream",
     "text": [
      "training set length : 6076136\n",
      "validation set length : 1519035\n"
     ]
    }
   ],
   "source": [
    "# training set과 validation set의 데이터 수 확인\n",
    "print('training set length :', len(X_train))\n",
    "print('validation set length :', len(X_valid))"
   ]
  },
  {
   "cell_type": "code",
   "execution_count": 11,
   "id": "5b1fbca9",
   "metadata": {},
   "outputs": [],
   "source": [
    "# 1) features selection, 원 핫 인코딩\n",
    "target = train['is_applied']\n",
    "x_data = pd.get_dummies(train.loc[:, train.columns != 'is_applied'], drop_first =True)\n",
    "#x_data = pd.get_dummies(hotel.drop('is_canceled', axis = 1), drop_first =True)"
   ]
  },
  {
   "cell_type": "code",
   "execution_count": 12,
   "id": "2062d79e",
   "metadata": {},
   "outputs": [],
   "source": [
    "X_tn, X_te, y_tn, y_te = train_test_split(X, y,test_size=0.3)"
   ]
  },
  {
   "cell_type": "code",
   "execution_count": 13,
   "id": "ee6cb4d1",
   "metadata": {},
   "outputs": [],
   "source": [
    "# 라이브러리 불러오기\n",
    "from sklearn.model_selection import train_test_split\n",
    "from sklearn.model_selection import GridSearchCV\n",
    "from sklearn.preprocessing import StandardScaler\n",
    "from sklearn.ensemble import RandomForestClassifier\n",
    "from sklearn.metrics import accuracy_score"
   ]
  },
  {
   "cell_type": "code",
   "execution_count": 14,
   "id": "7c48acce",
   "metadata": {},
   "outputs": [],
   "source": [
    "# 2) 표준화 스케일링\n",
    "std = StandardScaler()\n",
    "std.fit(X_tn)\n",
    "X_tn_sc = std.transform(X_tn)\n",
    "X_te_sc = std.transform(X_te)"
   ]
  },
  {
   "cell_type": "code",
   "execution_count": 15,
   "id": "9b847125",
   "metadata": {},
   "outputs": [
    {
     "name": "stdout",
     "output_type": "stream",
     "text": [
      "0.9455053033681039\n"
     ]
    }
   ],
   "source": [
    "##### Default 모델 확인\n",
    "model = LogisticRegression()\n",
    "model.fit(X_tn, y_tn)\n",
    "print(model.score(X_te, y_te))"
   ]
  },
  {
   "cell_type": "code",
   "execution_count": 16,
   "id": "40cefb33",
   "metadata": {},
   "outputs": [],
   "source": [
    "# 3) 랜덤 포레스트 모델 학습\n",
    "rf = RandomForestClassifier(random_state = 123, n_jobs = -1, max_depth= 15)\n",
    "rf.fit(X_tn_sc, y_tn)\n",
    "pred_te = rf.predict(X_te_sc)\n",
    "pred_tn = rf.predict(X_tn_sc)"
   ]
  },
  {
   "cell_type": "code",
   "execution_count": 17,
   "id": "c24d24f1",
   "metadata": {},
   "outputs": [
    {
     "name": "stdout",
     "output_type": "stream",
     "text": [
      "[[2154035     348]\n",
      " [ 123550     619]]\n"
     ]
    }
   ],
   "source": [
    "# 4) 모델 평가 \n",
    "from sklearn.metrics import confusion_matrix\n",
    "cm = confusion_matrix(y_te,pred_te)\n",
    "print(cm)"
   ]
  },
  {
   "cell_type": "code",
   "execution_count": 18,
   "id": "aca06269",
   "metadata": {
    "scrolled": true
   },
   "outputs": [
    {
     "name": "stdout",
     "output_type": "stream",
     "text": [
      "Feature ranking:\n",
      "1. feature loan_rate (0.211)\n",
      "2. feature credit_score (0.200)\n",
      "3. feature desired_amount (0.142)\n",
      "4. feature loan_limit (0.085)\n",
      "5. feature work_day (0.071)\n",
      "6. feature label_income_type (0.069)\n",
      "7. feature Age (0.053)\n",
      "8. feature existing_loan_amt (0.049)\n",
      "9. feature yearly_income (0.049)\n",
      "10. feature label_purpose (0.023)\n",
      "11. feature label_employment_type (0.019)\n",
      "12. feature label_houseown_type (0.011)\n",
      "13. feature existing_loan_cnt (0.009)\n",
      "14. feature gender (0.007)\n",
      "15. feature personal_rehabilitation_yn (0.002)\n",
      "16. feature personal_rehabilitation_complete_yn (0.000)\n"
     ]
    },
    {
     "data": {
      "text/plain": [
       "<Figure size 432x288 with 0 Axes>"
      ]
     },
     "metadata": {},
     "output_type": "display_data"
    },
    {
     "data": {
      "image/png": "[encoded data removed]",
      "text/plain": [
       "<Figure size 1440x360 with 1 Axes>"
      ]
     },
     "metadata": {
      "needs_background": "light"
     },
     "output_type": "display_data"
    }
   ],
   "source": [
    "# Feature_importances 함수로 중요도 체크\n",
    "importances = rf.feature_importances_\n",
    "std = np.std([tree.feature_importances_ for tree in rf.estimators_], axis=0)\n",
    "indices = np.argsort(importances)[::-1]\n",
    "\n",
    "# 변수 중요도 출력\n",
    "print(\"Feature ranking:\")\n",
    "for f in range(x_data.shape[1]):\n",
    "    print(\"{}. feature {} ({:.3f})\".format(f + 1, x_data.columns[indices][f], importances[indices[f]]))\n",
    "\n",
    "# Feature Importances 변수중요도 시각화\n",
    "plt.figure()\n",
    "plt.figure(figsize=(20,5))\n",
    "plt.title(\"Feature Importances\")\n",
    "plt.bar(range(x_data.shape[1]), importances[indices], color='orange',\n",
    "        yerr=std[indices], align='center')\n",
    "plt.xticks(range(x_data.shape[1]), x_data.columns[indices], rotation=90)\n",
    "plt.xlim([-1, x_data.shape[1]])\n",
    "plt.show()\n"
   ]
  },
  {
   "cell_type": "code",
   "execution_count": 21,
   "id": "4368575f",
   "metadata": {},
   "outputs": [],
   "source": [
    "from xgboost import XGBRegressor\n",
    "from sklearn.model_selection import train_test_split\n",
    "from sklearn.metrics import explained_variance_score, mean_squared_error, mean_absolute_error, r2_score, mean_squared_log_error\n",
    "from xgboost import plot_importance\n",
    "from sklearn.model_selection import GridSearchCV,KFold\n",
    "import matplotlib.pyplot as plt\n",
    "from sklearn.ensemble import ExtraTreesRegressor\n",
    "import xgboost as xgb\n",
    "import pandas as pd\n",
    "import numpy as np\n",
    "import gc\n",
    "import os\n",
    "import itertools\n",
    "import sys\n",
    "import seaborn as sns\n",
    "from sklearn.ensemble import GradientBoostingRegressor,RandomForestRegressor\n",
    "from statsmodels.stats.outliers_influence import variance_inflation_factor \n",
    "from sklearn.preprocessing import MinMaxScaler  "
   ]
  },
  {
   "cell_type": "code",
   "execution_count": 23,
   "id": "893d27a8",
   "metadata": {},
   "outputs": [],
   "source": [
    "# xgboost\n",
    "model_xgb = XGBRegressor(\n",
    "    objective='reg:squarederror',\n",
    "    booster = 'gbtree',\n",
    "    colsample_bytree = 0.8,\n",
    "    colsample_bylevel = 0.9,\n",
    "    n_estimators = 200, \n",
    "    max_depth = 8, \n",
    "    min_child_weight=5, \n",
    "    learning_rate = 0.1 \n",
    ")\n",
    "\n",
    "\n",
    "\n",
    "# GradientBoostingRegressor\n",
    "model_gbr = GradientBoostingRegressor(\n",
    "    alpha = 0.9, \n",
    "    learning_rate=0.1, \n",
    "    max_depth = 7 ,\n",
    "    n_estimators = 200 ,\n",
    "    subsample = 0.9\n",
    "    )\n",
    "\n",
    "# Extra Trees Regressor\n",
    "et_model=ExtraTreesRegressor( n_estimators = 200 ,\n",
    "    max_depth = 12,\n",
    "    min_samples_leaf = 8,\n",
    "    min_samples_split =8,\n",
    "    n_jobs = 5 )\n",
    "\n",
    "# random forest\n",
    "model_rf = RandomForestRegressor( n_estimators = 500 ,\n",
    "    max_depth = 12,\n",
    "    min_samples_leaf = 8,\n",
    "    min_samples_split =8,\n",
    "    n_jobs = 5 )"
   ]
  },
  {
   "cell_type": "code",
   "execution_count": 25,
   "id": "a143ef32",
   "metadata": {},
   "outputs": [],
   "source": [
    "model_list = [model_xgb, model_gbr, et_model,model_rf]"
   ]
  },
  {
   "cell_type": "code",
   "execution_count": 26,
   "id": "aaaa834e",
   "metadata": {
    "scrolled": true
   },
   "outputs": [
    {
     "name": "stdout",
     "output_type": "stream",
     "text": [
      "XGBRegressor(base_score=None, booster='gbtree', callbacks=None,\n",
      "             colsample_bylevel=0.9, colsample_bynode=None, colsample_bytree=0.8,\n",
      "             early_stopping_rounds=None, enable_categorical=False,\n",
      "             eval_metric=None, gamma=None, gpu_id=None, grow_policy=None,\n",
      "             importance_type=None, interaction_constraints=None,\n",
      "             learning_rate=0.1, max_bin=None, max_cat_to_onehot=None,\n",
      "             max_delta_step=None, max_depth=8, max_leaves=None,\n",
      "             min_child_weight=5, missing=nan, monotone_constraints=None,\n",
      "             n_estimators=200, n_jobs=None, num_parallel_tree=None,\n",
      "             predictor=None, random_state=None, reg_alpha=None, reg_lambda=None, ...)\n",
      "GradientBoostingRegressor(max_depth=7, n_estimators=200, subsample=0.9)\n",
      "ExtraTreesRegressor(max_depth=12, min_samples_leaf=8, min_samples_split=8,\n",
      "                    n_estimators=200, n_jobs=5)\n",
      "RandomForestRegressor(max_depth=12, min_samples_leaf=8, min_samples_split=8,\n",
      "                      n_estimators=500, n_jobs=5)\n"
     ]
    }
   ],
   "source": [
    "for i in model_list:\n",
    "  print(i)"
   ]
  },
  {
   "cell_type": "code",
   "execution_count": 33,
   "id": "f94575ab",
   "metadata": {},
   "outputs": [
    {
     "ename": "KeyboardInterrupt",
     "evalue": "",
     "output_type": "error",
     "traceback": [
      "\u001b[0;31m---------------------------------------------------------------------------\u001b[0m",
      "\u001b[0;31mKeyboardInterrupt\u001b[0m                         Traceback (most recent call last)",
      "\u001b[0;32m/var/folders/nz/160bjb610xj3r4wkpjkgnw940000gn/T/ipykernel_96997/2231649751.py\u001b[0m in \u001b[0;36m<module>\u001b[0;34m\u001b[0m\n\u001b[1;32m     22\u001b[0m \u001b[0;34m\u001b[0m\u001b[0m\n\u001b[1;32m     23\u001b[0m \u001b[0;31m# 5번\u001b[0m\u001b[0;34m\u001b[0m\u001b[0;34m\u001b[0m\u001b[0;34m\u001b[0m\u001b[0m\n\u001b[0;32m---> 24\u001b[0;31m \u001b[0mgcv\u001b[0m\u001b[0;34m.\u001b[0m\u001b[0mfit\u001b[0m\u001b[0;34m(\u001b[0m\u001b[0mX_train\u001b[0m\u001b[0;34m.\u001b[0m\u001b[0mvalues\u001b[0m\u001b[0;34m,\u001b[0m\u001b[0my_train\u001b[0m\u001b[0;34m.\u001b[0m\u001b[0mvalues\u001b[0m\u001b[0;34m)\u001b[0m\u001b[0;34m\u001b[0m\u001b[0;34m\u001b[0m\u001b[0m\n\u001b[0m\u001b[1;32m     25\u001b[0m \u001b[0mprint\u001b[0m\u001b[0;34m(\u001b[0m\u001b[0;34m'final params'\u001b[0m\u001b[0;34m,\u001b[0m \u001b[0mgcv\u001b[0m\u001b[0;34m.\u001b[0m\u001b[0mbest_params_\u001b[0m\u001b[0;34m)\u001b[0m   \u001b[0;31m# 최적의 파라미터 값 출력\u001b[0m\u001b[0;34m\u001b[0m\u001b[0;34m\u001b[0m\u001b[0m\n\u001b[1;32m     26\u001b[0m \u001b[0mprint\u001b[0m\u001b[0;34m(\u001b[0m\u001b[0;34m'best score'\u001b[0m\u001b[0;34m,\u001b[0m \u001b[0mgcv\u001b[0m\u001b[0;34m.\u001b[0m\u001b[0mbest_score_\u001b[0m\u001b[0;34m)\u001b[0m      \u001b[0;31m# 최고의 점수\u001b[0m\u001b[0;34m\u001b[0m\u001b[0;34m\u001b[0m\u001b[0m\n",
      "\u001b[0;32m~/opt/anaconda3/lib/python3.8/site-packages/sklearn/utils/validation.py\u001b[0m in \u001b[0;36minner_f\u001b[0;34m(*args, **kwargs)\u001b[0m\n\u001b[1;32m     70\u001b[0m                           FutureWarning)\n\u001b[1;32m     71\u001b[0m         \u001b[0mkwargs\u001b[0m\u001b[0;34m.\u001b[0m\u001b[0mupdate\u001b[0m\u001b[0;34m(\u001b[0m\u001b[0;34m{\u001b[0m\u001b[0mk\u001b[0m\u001b[0;34m:\u001b[0m \u001b[0marg\u001b[0m \u001b[0;32mfor\u001b[0m \u001b[0mk\u001b[0m\u001b[0;34m,\u001b[0m \u001b[0marg\u001b[0m \u001b[0;32min\u001b[0m \u001b[0mzip\u001b[0m\u001b[0;34m(\u001b[0m\u001b[0msig\u001b[0m\u001b[0;34m.\u001b[0m\u001b[0mparameters\u001b[0m\u001b[0;34m,\u001b[0m \u001b[0margs\u001b[0m\u001b[0;34m)\u001b[0m\u001b[0;34m}\u001b[0m\u001b[0;34m)\u001b[0m\u001b[0;34m\u001b[0m\u001b[0;34m\u001b[0m\u001b[0m\n\u001b[0;32m---> 72\u001b[0;31m         \u001b[0;32mreturn\u001b[0m \u001b[0mf\u001b[0m\u001b[0;34m(\u001b[0m\u001b[0;34m**\u001b[0m\u001b[0mkwargs\u001b[0m\u001b[0;34m)\u001b[0m\u001b[0;34m\u001b[0m\u001b[0;34m\u001b[0m\u001b[0m\n\u001b[0m\u001b[1;32m     73\u001b[0m     \u001b[0;32mreturn\u001b[0m \u001b[0minner_f\u001b[0m\u001b[0;34m\u001b[0m\u001b[0;34m\u001b[0m\u001b[0m\n\u001b[1;32m     74\u001b[0m \u001b[0;34m\u001b[0m\u001b[0m\n",
      "\u001b[0;32m~/opt/anaconda3/lib/python3.8/site-packages/sklearn/model_selection/_search.py\u001b[0m in \u001b[0;36mfit\u001b[0;34m(self, X, y, groups, **fit_params)\u001b[0m\n\u001b[1;32m    734\u001b[0m                 \u001b[0;32mreturn\u001b[0m \u001b[0mresults\u001b[0m\u001b[0;34m\u001b[0m\u001b[0;34m\u001b[0m\u001b[0m\n\u001b[1;32m    735\u001b[0m \u001b[0;34m\u001b[0m\u001b[0m\n\u001b[0;32m--> 736\u001b[0;31m             \u001b[0mself\u001b[0m\u001b[0;34m.\u001b[0m\u001b[0m_run_search\u001b[0m\u001b[0;34m(\u001b[0m\u001b[0mevaluate_candidates\u001b[0m\u001b[0;34m)\u001b[0m\u001b[0;34m\u001b[0m\u001b[0;34m\u001b[0m\u001b[0m\n\u001b[0m\u001b[1;32m    737\u001b[0m \u001b[0;34m\u001b[0m\u001b[0m\n\u001b[1;32m    738\u001b[0m         \u001b[0;31m# For multi-metric evaluation, store the best_index_, best_params_ and\u001b[0m\u001b[0;34m\u001b[0m\u001b[0;34m\u001b[0m\u001b[0;34m\u001b[0m\u001b[0m\n",
      "\u001b[0;32m~/opt/anaconda3/lib/python3.8/site-packages/sklearn/model_selection/_search.py\u001b[0m in \u001b[0;36m_run_search\u001b[0;34m(self, evaluate_candidates)\u001b[0m\n\u001b[1;32m   1186\u001b[0m     \u001b[0;32mdef\u001b[0m \u001b[0m_run_search\u001b[0m\u001b[0;34m(\u001b[0m\u001b[0mself\u001b[0m\u001b[0;34m,\u001b[0m \u001b[0mevaluate_candidates\u001b[0m\u001b[0;34m)\u001b[0m\u001b[0;34m:\u001b[0m\u001b[0;34m\u001b[0m\u001b[0;34m\u001b[0m\u001b[0m\n\u001b[1;32m   1187\u001b[0m         \u001b[0;34m\"\"\"Search all candidates in param_grid\"\"\"\u001b[0m\u001b[0;34m\u001b[0m\u001b[0;34m\u001b[0m\u001b[0m\n\u001b[0;32m-> 1188\u001b[0;31m         \u001b[0mevaluate_candidates\u001b[0m\u001b[0;34m(\u001b[0m\u001b[0mParameterGrid\u001b[0m\u001b[0;34m(\u001b[0m\u001b[0mself\u001b[0m\u001b[0;34m.\u001b[0m\u001b[0mparam_grid\u001b[0m\u001b[0;34m)\u001b[0m\u001b[0;34m)\u001b[0m\u001b[0;34m\u001b[0m\u001b[0;34m\u001b[0m\u001b[0m\n\u001b[0m\u001b[1;32m   1189\u001b[0m \u001b[0;34m\u001b[0m\u001b[0m\n\u001b[1;32m   1190\u001b[0m \u001b[0;34m\u001b[0m\u001b[0m\n",
      "\u001b[0;32m~/opt/anaconda3/lib/python3.8/site-packages/sklearn/model_selection/_search.py\u001b[0m in \u001b[0;36mevaluate_candidates\u001b[0;34m(candidate_params)\u001b[0m\n\u001b[1;32m    712\u001b[0m                                                        **fit_and_score_kwargs)\n\u001b[1;32m    713\u001b[0m                                \u001b[0;32mfor\u001b[0m \u001b[0mparameters\u001b[0m\u001b[0;34m,\u001b[0m \u001b[0;34m(\u001b[0m\u001b[0mtrain\u001b[0m\u001b[0;34m,\u001b[0m \u001b[0mtest\u001b[0m\u001b[0;34m)\u001b[0m\u001b[0;34m\u001b[0m\u001b[0;34m\u001b[0m\u001b[0m\n\u001b[0;32m--> 714\u001b[0;31m                                in product(candidate_params,\n\u001b[0m\u001b[1;32m    715\u001b[0m                                           cv.split(X, y, groups)))\n\u001b[1;32m    716\u001b[0m \u001b[0;34m\u001b[0m\u001b[0m\n",
      "\u001b[0;32m~/opt/anaconda3/lib/python3.8/site-packages/sklearn/model_selection/_split.py\u001b[0m in \u001b[0;36msplit\u001b[0;34m(self, X, y, groups)\u001b[0m\n\u001b[1;32m    334\u001b[0m                 .format(self.n_splits, n_samples))\n\u001b[1;32m    335\u001b[0m \u001b[0;34m\u001b[0m\u001b[0m\n\u001b[0;32m--> 336\u001b[0;31m         \u001b[0;32mfor\u001b[0m \u001b[0mtrain\u001b[0m\u001b[0;34m,\u001b[0m \u001b[0mtest\u001b[0m \u001b[0;32min\u001b[0m \u001b[0msuper\u001b[0m\u001b[0;34m(\u001b[0m\u001b[0;34m)\u001b[0m\u001b[0;34m.\u001b[0m\u001b[0msplit\u001b[0m\u001b[0;34m(\u001b[0m\u001b[0mX\u001b[0m\u001b[0;34m,\u001b[0m \u001b[0my\u001b[0m\u001b[0;34m,\u001b[0m \u001b[0mgroups\u001b[0m\u001b[0;34m)\u001b[0m\u001b[0;34m:\u001b[0m\u001b[0;34m\u001b[0m\u001b[0;34m\u001b[0m\u001b[0m\n\u001b[0m\u001b[1;32m    337\u001b[0m             \u001b[0;32myield\u001b[0m \u001b[0mtrain\u001b[0m\u001b[0;34m,\u001b[0m \u001b[0mtest\u001b[0m\u001b[0;34m\u001b[0m\u001b[0;34m\u001b[0m\u001b[0m\n\u001b[1;32m    338\u001b[0m \u001b[0;34m\u001b[0m\u001b[0m\n",
      "\u001b[0;32m~/opt/anaconda3/lib/python3.8/site-packages/sklearn/model_selection/_split.py\u001b[0m in \u001b[0;36msplit\u001b[0;34m(self, X, y, groups)\u001b[0m\n\u001b[1;32m     77\u001b[0m         \"\"\"\n\u001b[1;32m     78\u001b[0m         \u001b[0mX\u001b[0m\u001b[0;34m,\u001b[0m \u001b[0my\u001b[0m\u001b[0;34m,\u001b[0m \u001b[0mgroups\u001b[0m \u001b[0;34m=\u001b[0m \u001b[0mindexable\u001b[0m\u001b[0;34m(\u001b[0m\u001b[0mX\u001b[0m\u001b[0;34m,\u001b[0m \u001b[0my\u001b[0m\u001b[0;34m,\u001b[0m \u001b[0mgroups\u001b[0m\u001b[0;34m)\u001b[0m\u001b[0;34m\u001b[0m\u001b[0;34m\u001b[0m\u001b[0m\n\u001b[0;32m---> 79\u001b[0;31m         \u001b[0mindices\u001b[0m \u001b[0;34m=\u001b[0m \u001b[0mnp\u001b[0m\u001b[0;34m.\u001b[0m\u001b[0marange\u001b[0m\u001b[0;34m(\u001b[0m\u001b[0m_num_samples\u001b[0m\u001b[0;34m(\u001b[0m\u001b[0mX\u001b[0m\u001b[0;34m)\u001b[0m\u001b[0;34m)\u001b[0m\u001b[0;34m\u001b[0m\u001b[0;34m\u001b[0m\u001b[0m\n\u001b[0m\u001b[1;32m     80\u001b[0m         \u001b[0;32mfor\u001b[0m \u001b[0mtest_index\u001b[0m \u001b[0;32min\u001b[0m \u001b[0mself\u001b[0m\u001b[0;34m.\u001b[0m\u001b[0m_iter_test_masks\u001b[0m\u001b[0;34m(\u001b[0m\u001b[0mX\u001b[0m\u001b[0;34m,\u001b[0m \u001b[0my\u001b[0m\u001b[0;34m,\u001b[0m \u001b[0mgroups\u001b[0m\u001b[0;34m)\u001b[0m\u001b[0;34m:\u001b[0m\u001b[0;34m\u001b[0m\u001b[0;34m\u001b[0m\u001b[0m\n\u001b[1;32m     81\u001b[0m             \u001b[0mtrain_index\u001b[0m \u001b[0;34m=\u001b[0m \u001b[0mindices\u001b[0m\u001b[0;34m[\u001b[0m\u001b[0mnp\u001b[0m\u001b[0;34m.\u001b[0m\u001b[0mlogical_not\u001b[0m\u001b[0;34m(\u001b[0m\u001b[0mtest_index\u001b[0m\u001b[0;34m)\u001b[0m\u001b[0;34m]\u001b[0m\u001b[0;34m\u001b[0m\u001b[0;34m\u001b[0m\u001b[0m\n",
      "\u001b[0;31mKeyboardInterrupt\u001b[0m: "
     ]
    }
   ],
   "source": [
    "# 1\n",
    "model = xgb.XGBRegressor()\n",
    "\n",
    "# 2\n",
    "param_grid={'booster' :['gbtree'],\n",
    "                 'silent':[True], # default = 0, 1 = 동작메시지를 프린트하지 않음\n",
    "                 'max_depth':[5,6,8], # 트리의 최대 깊이\n",
    "                 'min_child_weight':[1,3,5], # over-fitting vs under-fitting을 조정하기 위한 파라미터\n",
    "                 'gamma':[0,1,2,3], # 분할을 수행하는데 필요한 최소 손실 감소를 지정\n",
    "                 'nthread':[4],\n",
    "                 'colsample_bytree':[0.5,0.8], #  default = 1 , 각 트리마다의 feature 샘플링 비율.\n",
    "                 'colsample_bylevel':[0.9], # 각 level마다 샘플링 비율\n",
    "                 'n_estimators':[50],\n",
    "                }\n",
    "\n",
    "\n",
    "# 3번\n",
    "cv=KFold(n_splits=6, random_state=1,shuffle=True)\n",
    "\n",
    "# 4번\n",
    "gcv=GridSearchCV(model, param_grid=param_grid, cv=cv, scoring='f1', n_jobs=4)\n",
    "\n",
    "# 5번\n",
    "gcv.fit(X_train.values,y_train.values)\n",
    "print('final params', gcv.best_params_)   # 최적의 파라미터 값 출력\n",
    "print('best score', gcv.best_score_)      # 최고의 점수\n",
    "\n"
   ]
  },
  {
   "cell_type": "code",
   "execution_count": null,
   "id": "e6532e7a",
   "metadata": {},
   "outputs": [],
   "source": []
  },
  {
   "cell_type": "code",
   "execution_count": null,
   "id": "3e8258b2",
   "metadata": {},
   "outputs": [],
   "source": []
  },
  {
   "cell_type": "code",
   "execution_count": 24,
   "id": "19eddc81",
   "metadata": {},
   "outputs": [],
   "source": [
    "from sklearn.inspection import permutation_importance"
   ]
  },
  {
   "cell_type": "code",
   "execution_count": null,
   "id": "f44736d3",
   "metadata": {},
   "outputs": [],
   "source": [
    "import eli5\n",
    "from eli5.sklearn import PermutationImportance\n",
    "\n",
    "perm = PermutationImportance(rf, random_state = 1, max_depth = 15).fit(X_te, y_te)\n",
    "eli5.show_weights(perm, feature_names = X_te.columns.tolist())"
   ]
  },
  {
   "cell_type": "code",
   "execution_count": null,
   "id": "2b644448",
   "metadata": {},
   "outputs": [],
   "source": [
    "features = dict() \n",
    "\n",
    "for i in permu.importances_mean.argsort()[::-1]:\n",
    "    if permu.importances_mean[i] - 2 * permu.importances_std[i] > 0:\n",
    "        features[x_data.columns[i]] = permu.importances[i]\n",
    "        print(f\"{x_data.columns[i]:<8}\\t\"\n",
    "              f\"{permu.importances_mean[i]:.3f}\"    \n",
    "              f\" +/- {permu.importances_std[i]:.3f}\")"
   ]
  },
  {
   "cell_type": "code",
   "execution_count": 34,
   "id": "472fdb43",
   "metadata": {},
   "outputs": [],
   "source": [
    "# 평가 함수 정의\n",
    "def get_clf_eval(y_actual, y_pred):\n",
    "    accuracy = accuracy_score(y_actual, y_pred)\n",
    "    precision = precision_score(y_actual, y_pred)\n",
    "    recall = recall_score(y_actual, y_pred)\n",
    "    AUC = roc_auc_score(y_actual, y_pred)\n",
    "    F1 = f1_score(y_actual, y_pred)\n",
    "    print('\\n정확도: {:.4f}'.format(accuracy))\n",
    "    print('정밀도: {:.4f}'.format(precision))\n",
    "    print('재현율: {:.4f}'.format(recall))\n",
    "    print('AUC: {:.4f}'.format(AUC))\n",
    "    print('F1: {:.4f}'.format(F1))\n",
    "    \n",
    "    sns.heatmap(confusion_matrix(y_actual, y_pred), annot=True, fmt='d', cmap='YlGnBu')"
   ]
  },
  {
   "cell_type": "code",
   "execution_count": 35,
   "id": "87eaa9d2",
   "metadata": {},
   "outputs": [
    {
     "ename": "NameError",
     "evalue": "name 'y_pred_xgb' is not defined",
     "output_type": "error",
     "traceback": [
      "\u001b[0;31m---------------------------------------------------------------------------\u001b[0m",
      "\u001b[0;31mNameError\u001b[0m                                 Traceback (most recent call last)",
      "\u001b[0;32m/var/folders/nz/160bjb610xj3r4wkpjkgnw940000gn/T/ipykernel_96997/2073755446.py\u001b[0m in \u001b[0;36m<module>\u001b[0;34m\u001b[0m\n\u001b[1;32m      1\u001b[0m \u001b[0;31m# xgboost 성능 확인\u001b[0m\u001b[0;34m\u001b[0m\u001b[0;34m\u001b[0m\u001b[0;34m\u001b[0m\u001b[0m\n\u001b[0;32m----> 2\u001b[0;31m \u001b[0mget_clf_eval\u001b[0m\u001b[0;34m(\u001b[0m\u001b[0my_valid\u001b[0m\u001b[0;34m,\u001b[0m \u001b[0my_pred_xgb\u001b[0m\u001b[0;34m)\u001b[0m\u001b[0;34m\u001b[0m\u001b[0;34m\u001b[0m\u001b[0m\n\u001b[0m",
      "\u001b[0;31mNameError\u001b[0m: name 'y_pred_xgb' is not defined"
     ]
    }
   ],
   "source": [
    "# xgboost 성능 확인\n",
    "get_clf_eval(y_valid, y_pred_xgb)"
   ]
  },
  {
   "cell_type": "code",
   "execution_count": null,
   "id": "cd1e70f4",
   "metadata": {},
   "outputs": [],
   "source": [
    "#### 조회 수 예측 모델링 ####\n",
    "import pandas as pd\n",
    "import numpy as np\n",
    "import matplotlib.pyplot as plt\n",
    "import seaborn as sns\n",
    "import tensorflow as tf\n",
    "from tensorflow import keras\n",
    "\n",
    "pd.set_option('display.max_rows', 500)\n",
    "pd.set_option('display.max_columns', 500)\n",
    "pd.set_option('display.width', 1000)\n",
    "\n",
    "\n",
    "X = train.drop('is_applied', axis=1)\n",
    "y = train['is_applied']\n",
    "\n",
    "from sklearn.model_selection import train_test_split\n",
    "from sklearn.preprocessing import MinMaxScaler\n",
    "from sklearn.metrics import mean_squared_error\n",
    "X_train, X_test, y_train, y_test = train_test_split(X, y, test_size=0.2, random_state=777)\n",
    "scaler = MinMaxScaler()\n",
    "X_train = scaler.fit_transform(X_train)\n",
    "X_test = scaler.transform(X_test)\n",
    "y_train = scaler.fit_transform(y_train)\n",
    "y_test = scaler.transform(y_test)\n",
    "\n",
    "\n",
    "from sklearn.linear_model import LinearRegression\n",
    "from sklearn.linear_model import Ridge\n",
    "from sklearn.ensemble import RandomForestRegressor\n",
    "from sklearn.ensemble import GradientBoostingRegressor\n",
    "from tensorflow.keras import backend as K\n",
    "\n",
    "\n",
    "def coeff_determination(y_true, y_pred):\n",
    "    SSE =  K.sum(K.square( y_true - y_pred ))\n",
    "    SSR = K.sum(K.square( y_pred - np.mean(y_true) ) )\n",
    "    SST = K.sum(K.square( y_true - np.mean(y_true) ) )\n",
    "    return  tf.cast(SSR, tf.float64) / tf.cast(SST, tf.float64)\n",
    "\n",
    "lr_train_avg, lr_val_avg,lr_valr_avg = 0, 0 ,0\n",
    "ridge_train_avg, ridge_val_avg, ridge_valr_avg = 0, 0, 0\n",
    "rf_train_avg, rf_val_avg, rf_valr_avg = 0, 0, 0\n",
    "gbrt_train_avg, gbrt_val_avg, gbrt_valr_avg = 0, 0, 0\n",
    "deep_train_avg, deep_val_avg ,deep_valr_avg= 0, 0,0\n",
    "\n",
    "\n",
    "k = 1\n",
    "for _ in range(k):\n",
    "    X_tr, X_val, y_tr, y_val = train_test_split(X_train, y_train, test_size=0.2)\n",
    "    lr = LinearRegression().fit(X_tr, y_tr)\n",
    "    #results = lr.predict(X_val)\n",
    "    lr_train_avg += lr.score(X_tr, y_tr)\n",
    "    lr_val_avg += lr.score(X_val, y_val)\n",
    "    lr_valr_avg += lr.score(X_test, y_test)\n",
    "    \n",
    "    ridge = Ridge().fit(X_tr, y_tr)\n",
    "    #results = ridge.predict(X_val)\n",
    "    ridge_train_avg += ridge.score(X_tr, y_tr)\n",
    "    ridge_val_avg += ridge.score(X_val, y_val)\n",
    "    ridge_valr_avg += ridge.score(X_test, y_test)\n",
    "    \n",
    "    rf = RandomForestRegressor(n_estimators=500, max_leaf_nodes=16, n_jobs=-1)\n",
    "    rf.fit(X_tr, y_tr)\n",
    "    #results = rf.predict(X_val)\n",
    "    rf_train_avg += rf.score(X_tr, y_tr)\n",
    "    rf_val_avg += rf.score(X_val, y_val)\n",
    "    rf_valr_avg += rf.score(X_test, y_test)\n",
    "    \n",
    "    gbrt = GradientBoostingRegressor(max_depth=2, n_estimators=3, learning_rate=1.0)\n",
    "    gbrt.fit(X_tr, y_tr)\n",
    "    #results = gbrt.predict(X_val)\n",
    "    gbrt_train_avg += gbrt.score(X_tr, y_tr)\n",
    "    gbrt_val_avg += gbrt.score(X_val, y_val)\n",
    "    gbrt_valr_avg += gbrt.score(X_test, y_test)\n",
    "    \n",
    "    leaky_relu = tf.nn.leaky_relu\n",
    "    \n",
    "    model = keras.Sequential([\n",
    "    # 이 부분에서 레이어를 줄이거나 늘려보기!\n",
    "    keras.layers.Dense(200, activation=leaky_relu, input_shape=(5,)),\n",
    "    keras.layers.Dense(200, activation=leaky_relu),\n",
    "    keras.layers.Dense(200, activation=leaky_relu),\n",
    "    keras.layers.Dense(200, activation=leaky_relu),\n",
    "    keras.layers.Dense(1, activation=leaky_relu),\n",
    "    ])\n",
    "    model.compile(loss =\"MSE\", optimizer=\"SGD\" )\n",
    "    history = model.fit(X_tr, y_tr, epochs=100, verbose=1)\n",
    "    # 이부분에서 에포크 수를 줄이거나 늘려보기\n",
    "    results = model.predict(X_val)\n",
    "    results2=model.predict(X_test)\n",
    "    \n",
    "    #print(coeff_determination(y_val, results))\n",
    "    \n",
    "    deep_train_avg += coeff_determination(y_tr, model.predict(X_tr))\n",
    "    deep_val_avg += coeff_determination(y_val, results)\n",
    "    deep_valr_avg += coeff_determination(y_test, results2)\n",
    "\n",
    "print(\"선형회귀 Training set score: {:.3f}\".format(lr_train_avg/k))\n",
    "print(\"선형회귀 Validation set score: {:.3f}\".format(lr_val_avg/k))\n",
    "print(\"선형회귀 Validation_real set score: {:.3f}\".format(lr_valr_avg/k))\n",
    "    \n",
    "print(\"릿지회귀 Training set score: {:.3f}\".format(ridge_train_avg/k))\n",
    "print(\"릿지회귀 Validation set score: {:.3f}\".format(ridge_val_avg/k))\n",
    "print(\"릿지회귀 Validation_real set score: {:.3f}\".format(ridge_valr_avg/k))\n",
    "    \n",
    "print(\"랜덤포레스트 Training set score: {:.3f}\".format(rf_train_avg/k))\n",
    "print(\"랜덤포레스트 Validation set score: {:.3f}\".format(rf_val_avg/k))\n",
    "print(\"랜덤포레스트 Validation_real set score: {:.3f}\".format(rf_valr_avg/k))\n",
    "\n",
    "print(\"GBRT Training set score: {:.3f}\".format(gbrt_train_avg/k))\n",
    "print(\"GBRT Validation set score: {:.3f}\".format(gbrt_val_avg/k))\n",
    "print(\"GBRT Validation_real set score: {:.3f}\".format(gbrt_valr_avg/k))\n",
    "\n",
    "print(\"신경망 Training set score: {:.10f}\".format(deep_train_avg/k))\n",
    "print(\"신경망 Validation set score: {:.10f}\".format(deep_val_avg/k))\n",
    "print(\"신경망 Validation_real set score: {:.10f}\".format(deep_valr_avg/k))"
   ]
  },
  {
   "cell_type": "code",
   "execution_count": null,
   "id": "fefdca06",
   "metadata": {},
   "outputs": [],
   "source": []
  },
  {
   "cell_type": "code",
   "execution_count": null,
   "id": "8c88525a",
   "metadata": {},
   "outputs": [],
   "source": []
  },
  {
   "cell_type": "code",
   "execution_count": null,
   "id": "3697b579",
   "metadata": {},
   "outputs": [],
   "source": []
  }
 ],
 "metadata": {
  "kernelspec": {
   "display_name": "Python 3 (ipykernel)",
   "language": "python",
   "name": "python3"
  },
  "language_info": {
   "codemirror_mode": {
    "name": "ipython",
    "version": 3
   },
   "file_extension": ".py",
   "mimetype": "text/x-python",
   "name": "python",
   "nbconvert_exporter": "python",
   "pygments_lexer": "ipython3",
   "version": "3.8.2"
  }
 },
 "nbformat": 4,
 "nbformat_minor": 5
}
